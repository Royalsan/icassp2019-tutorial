{
 "cells": [
  {
   "cell_type": "markdown",
   "metadata": {
    "slideshow": {
     "slide_type": "skip"
    }
   },
   "source": [
    "<h1>ICASSP2019 Tutorial:<br> Detection and Classification of Acoustic Scenes and Events</h1>\n"
   ]
  },
  {
   "cell_type": "markdown",
   "metadata": {
    "slideshow": {
     "slide_type": "skip"
    }
   },
   "source": [
    "<div class=\"row\">\n",
    "    <div class=\"col-md-2\">\n",
    "        <img src=\"http://www.cs.tut.fi/~heittolt/images/toni_heittola.png\" class=\"img-circle\" style=\"height:100px;width:100px;\">\n",
    "    </div>\n",
    "    <div class=\"col-md-10\">\n",
    "        <strong>Author</strong><br>\n",
    "        Toni Heittola<br>\n",
    "        <a href=\"http://arg.cs.tut.fi/\" target=\"_blank\"><em>Audio Research Group / Tampere University</em></a><br>\n",
    "        <a href=\"mailto:toni.heittola@tuni.fi\" target=\"_blank\"><i class=\"fa fa-1x fa-fw fa-envelope\"></i></a>\n",
    "        <a href=\"http://www.cs.tut.fi/~heittolt/\" target=\"_blank\"><i class=\"fa fa-1x fa-fw fa-home\"></i></a>\n",
    "        <a href=\"https://github.com/toni-heittola\" target=\"_blank\"><i class=\"fa fa-1x fa-fw fa-github\"></i></a>\n",
    "    </div>\n",
    "</div>"
   ]
  },
  {
   "cell_type": "code",
   "execution_count": 1,
   "metadata": {
    "slideshow": {
     "slide_type": "skip"
    }
   },
   "outputs": [
    {
     "data": {
      "text/html": [
       "<style>\n",
       ".rise-enabled .rendered_html h1:first-child{margin-top: 0.2em;}\n",
       ".rise-enabled .rendered_html h2:first-child{margin-top: 0.2em;}\n",
       ".rise-enabled .rendered_html h3:first-child{margin-top: 0.2em;}\n",
       ".rise-enabled .text_cell {font-size: 150%;}\n",
       ".rise-enabled table{font-size:100%;}\n",
       ".rise-enabled .reveal table th, .rise-enabled .reveal table td{border-bottom: transparent;}\n",
       ".rise-enabled .reveal pre{font-size:120%;}\n",
       ".rise-enabled .rendered_html p{margin-top:0.3em;margin-bottom:0.3em;}\n",
       ".rise-enabled .rendered_html ul{margin-top:0.5em;}\n",
       ".rise-enabled div.prompt {min-width: 5ex;width: 0px; min-width: 0px; visibility: collapse}\n",
       ".rise-enabled div.output_subarea {padding-top: 0.2em;padding-bottom: 0.2em;max-width:100%;}\n",
       ".rise-enabled div.text_cell_render{padding-top: 0.2em;padding-bottom: 0.2em;}\n",
       ".rise-enabled pre, .rise-enabled code, .rise-enabled kbd, .rise-enabled samp {white-space: pre;}\n",
       "</style>"
      ],
      "text/plain": [
       "<IPython.core.display.HTML object>"
      ]
     },
     "metadata": {},
     "output_type": "display_data"
    }
   ],
   "source": [
    "%%html\n",
    "<style>\n",
    ".rise-enabled .rendered_html h1:first-child{margin-top: 0.2em;}\n",
    ".rise-enabled .rendered_html h2:first-child{margin-top: 0.2em;}\n",
    ".rise-enabled .rendered_html h3:first-child{margin-top: 0.2em;}\n",
    ".rise-enabled .text_cell {font-size: 150%;}\n",
    ".rise-enabled table{font-size:100%;}\n",
    ".rise-enabled .reveal table th, .rise-enabled .reveal table td{border-bottom: transparent;}\n",
    ".rise-enabled .reveal pre{font-size:120%;}\n",
    ".rise-enabled .rendered_html p{margin-top:0.3em;margin-bottom:0.3em;}\n",
    ".rise-enabled .rendered_html ul{margin-top:0.5em;}\n",
    ".rise-enabled div.prompt {min-width: 5ex;width: 0px; min-width: 0px; visibility: collapse}\n",
    ".rise-enabled div.output_subarea {padding-top: 0.2em;padding-bottom: 0.2em;max-width:100%;}\n",
    ".rise-enabled div.text_cell_render{padding-top: 0.2em;padding-bottom: 0.2em;}\n",
    ".rise-enabled pre, .rise-enabled code, .rise-enabled kbd, .rise-enabled samp {white-space: pre;}\n",
    "</style>"
   ]
  },
  {
   "cell_type": "markdown",
   "metadata": {
    "slideshow": {
     "slide_type": "slide"
    }
   },
   "source": [
    "<h1 class=\"text-muted\">Sound event detection with Python</h1>\n",
    "\n",
    "This notebook demonstrates basic steps needed to build **sound event detection system** using **CRNN** approach.\n",
    "\n",
    "Key tools used in this example:\n",
    "\n",
    "- **`dcase_util`** &ndash; used to ease data handling\n",
    "- **`keras`** &ndash; neural network API for fast experimentation used on top of **`tensorflow`** machine learning framework\n",
    "- **`sed_eval`** &ndash; evaluation toolbox for sound event detection, here used to evaluate the system output\n"
   ]
  },
  {
   "cell_type": "markdown",
   "metadata": {},
   "source": [
    "Jupyter notebook: \n",
    "https://github.com/toni-heittola/icassp2019-tutorial"
   ]
  },
  {
   "cell_type": "code",
   "execution_count": 3,
   "metadata": {
    "slideshow": {
     "slide_type": "skip"
    }
   },
   "outputs": [
    {
     "data": {
      "text/html": [
       "<h3 style=\"margin-left:0px\" >Keras setup</h3>"
      ],
      "text/plain": [
       "<IPython.core.display.HTML object>"
      ]
     },
     "metadata": {},
     "output_type": "display_data"
    },
    {
     "data": {
      "text/html": [
       "<div class=\"row row-no-gutters clearfix\" style=\"background-color: #F9F9F966;\"><div class=\"col-md-4 col-xs-6\" style=\"padding-left:20px;\">BLAS library<span class=\"pull-right text-muted\" style=\"padding-right:5px;\">:</span></div><div class=\"col-md-8 col-xs-6\">MKL (MKL_CBWR[COMPATIBLE]) </div></div>"
      ],
      "text/plain": [
       "<IPython.core.display.HTML object>"
      ]
     },
     "metadata": {},
     "output_type": "display_data"
    },
    {
     "data": {
      "text/html": [
       "<div class=\"row row-no-gutters clearfix\" style=\"background-color: #F1F1F166;\"><div class=\"col-md-4 col-xs-6\" style=\"padding-left:20px;\">Backend<span class=\"pull-right text-muted\" style=\"padding-right:5px;\">:</span></div><div class=\"col-md-8 col-xs-6\">tensorflow </div></div>"
      ],
      "text/plain": [
       "<IPython.core.display.HTML object>"
      ]
     },
     "metadata": {},
     "output_type": "display_data"
    },
    {
     "data": {
      "text/html": [
       "<div class=\"row row-no-gutters clearfix\" style=\"background-color: #F9F9F966;\"><div class=\"col-md-4 col-xs-6\" style=\"padding-left:20px;\">Tensorflow<span class=\"pull-right text-muted\" style=\"padding-right:5px;\">:</span></div><div class=\"col-md-8 col-xs-6\"> </div></div>"
      ],
      "text/plain": [
       "<IPython.core.display.HTML object>"
      ]
     },
     "metadata": {},
     "output_type": "display_data"
    },
    {
     "name": "stderr",
     "output_type": "stream",
     "text": [
      "Using TensorFlow backend.\n"
     ]
    },
    {
     "data": {
      "text/html": [
       "<div class=\"row row-no-gutters clearfix\" style=\"background-color: #F1F1F166;\"><div class=\"col-md-4 col-xs-6\" style=\"padding-left:40px;\">Device<span class=\"pull-right text-muted\" style=\"padding-right:5px;\">:</span></div><div class=\"col-md-8 col-xs-6\">None </div></div>"
      ],
      "text/plain": [
       "<IPython.core.display.HTML object>"
      ]
     },
     "metadata": {},
     "output_type": "display_data"
    },
    {
     "data": {
      "text/html": [
       "<div  style=\"margin-left:0px\" >DONE       </div>"
      ],
      "text/plain": [
       "<IPython.core.display.HTML object>"
      ]
     },
     "metadata": {},
     "output_type": "display_data"
    }
   ],
   "source": [
    "import dcase_util\n",
    "from dcase_util.containers import AudioContainer\n",
    "import os, numpy\n",
    "from tqdm import tqdm_notebook as tqdm\n",
    "import matplotlib.pyplot as plt\n",
    "import sed_eval\n",
    "%matplotlib inline\n",
    "\n",
    "# Handy tool to print data in HTML form\n",
    "log = dcase_util.ui.FancyHTMLPrinter()\n",
    "\n",
    "# Paths to store data\n",
    "data_storage_path = 'data'\n",
    "dataset_storage_path = os.path.join(data_storage_path, 'datasets')\n",
    "feature_storage_path = os.path.join(data_storage_path, 'features_sed')\n",
    "dcase_util.utils.Path().create(\n",
    "    [data_storage_path, dataset_storage_path, feature_storage_path]\n",
    ")\n",
    "\n",
    "# Filename for acoustic model\n",
    "model_filename = os.path.join(data_storage_path, 'model_sed.h5')  \n",
    "\n",
    "def get_feature_filename(audio_filename, feature_storage_path):\n",
    "    return dcase_util.utils.Path(path=audio_filename).modify(\n",
    "        path_base=feature_storage_path, \n",
    "        filename_extension='.npy'\n",
    "    )\n",
    "    \n",
    "def get_feature_matrix(audio_filename, feature_storage_path=os.path.join('data', 'features')):    \n",
    "    feature_filename = get_feature_filename(audio_filename, feature_storage_path)\n",
    "    if os.path.exists(feature_filename):\n",
    "        return numpy.load(feature_filename)\n",
    "    else:\n",
    "        audio = dcase_util.containers.AudioContainer().load(filename=audio_filename,mono=True)\n",
    "        mel_extractor = dcase_util.features.MelExtractor(n_mels=40, win_length_seconds=0.04, hop_length_seconds=0.02, fs=audio.fs)\n",
    "        mel_data = mel_extractor.extract(y=audio)\n",
    "        numpy.save(feature_filename, mel_data)\n",
    "        return mel_data\n",
    "    \n",
    "# Setup Keras to use tensorflow as backend\n",
    "dcase_util.keras.setup_keras(backend='tensorflow')\n",
    "import keras\n",
    "from keras.layers import *\n",
    "from keras.models import Model"
   ]
  },
  {
   "cell_type": "markdown",
   "metadata": {
    "slideshow": {
     "slide_type": "skip"
    }
   },
   "source": [
    "# Outline\n",
    "\n",
    "- Key Python tools used in this example\n",
    "- Dataset\n",
    "- Cross-validation set\n",
    "- Acoustic features\n",
    "- Learning stage\n",
    "- Testing stage\n",
    "- Evaluation"
   ]
  },
  {
   "cell_type": "markdown",
   "metadata": {
    "slideshow": {
     "slide_type": "slide"
    }
   },
   "source": [
    "# Dataset"
   ]
  },
  {
   "cell_type": "markdown",
   "metadata": {
    "slideshow": {
     "slide_type": "skip"
    }
   },
   "source": [
    "**`dcase_util`** implements dataset handling classes which can be used to access diffently organized dataset through uniform API:\n",
    "\n",
    "- Download the dataset from the origin, e.g. zenodo.org\n",
    "- Extract downloaded zip-packages and check data integrity \n",
    "- Access meta data (e.g. filter data based on scene labels)\n",
    "- Access cross-validation sets bundled with the dataset"
   ]
  },
  {
   "cell_type": "markdown",
   "metadata": {},
   "source": [
    "**TUT Sound Events 2017** development dataset is used in this example. "
   ]
  },
  {
   "cell_type": "code",
   "execution_count": 3,
   "metadata": {},
   "outputs": [],
   "source": [
    "db = dcase_util.datasets.TUTSoundEvents_2017_DevelopmentSet(\n",
    "    data_path=dataset_storage_path\n",
    ").initialize()"
   ]
  },
  {
   "cell_type": "code",
   "execution_count": 4,
   "metadata": {
    "slideshow": {
     "slide_type": "skip"
    }
   },
   "outputs": [],
   "source": [
    "event_labels = db.event_labels()"
   ]
  },
  {
   "cell_type": "code",
   "execution_count": 5,
   "metadata": {
    "hide_input": true
   },
   "outputs": [
    {
     "data": {
      "text/html": [
       "<table class=\"table table-striped table-condensed\" style=\"font-size:100%;width:auto;margin-top:0em;margin-left:0px;\"><thead style=\"border-bottom: 0px solid transparent;\"><tr><th style=\"width:200px;border-bottom:2px solid #333;text-align:left;\">Event label</th><th style=\"width:110px;border-bottom:2px solid #333;text-align:right;\">Event count</th><th style=\"width:120px;border-bottom:2px solid #333;text-align:right;\">Total length</th><th style=\"width:200px;border-bottom:2px solid #333;text-align:right;\">Average event length</th></tr></thead><tbody><tr><td style=\"text-align:left;\">brakes squeaking</td><td style=\"text-align:right;\">52</td><td style=\"text-align:right;\"> 96.99</td><td style=\"text-align:right;\">  1.87</td></tr><tr><td style=\"text-align:left;\">car</td><td style=\"text-align:right;\">304</td><td style=\"text-align:right;\">2471.14</td><td style=\"text-align:right;\">  8.13</td></tr><tr><td style=\"text-align:left;\">children</td><td style=\"text-align:right;\">44</td><td style=\"text-align:right;\">350.99</td><td style=\"text-align:right;\">  7.98</td></tr><tr><td style=\"text-align:left;\">large vehicle</td><td style=\"text-align:right;\">61</td><td style=\"text-align:right;\">923.74</td><td style=\"text-align:right;\"> 15.14</td></tr><tr><td style=\"text-align:left;\">people speaking</td><td style=\"text-align:right;\">89</td><td style=\"text-align:right;\">715.66</td><td style=\"text-align:right;\">  8.04</td></tr><tr><td style=\"text-align:left;\">people walking</td><td style=\"text-align:right;\">109</td><td style=\"text-align:right;\">1246.95</td><td style=\"text-align:right;\"> 11.44</td></tr></tbody></table>"
      ],
      "text/plain": [
       "<IPython.core.display.HTML object>"
      ]
     },
     "metadata": {},
     "output_type": "display_data"
    }
   ],
   "source": [
    "data = db.meta.stats()\n",
    "log.table(\n",
    "    cell_data=[\n",
    "        data['events']['event_label_list'],\n",
    "        data['events']['count'],\n",
    "        data['events']['length'],\n",
    "        data['events']['avg_length'],\n",
    "    ],\n",
    "    column_headers=['Event label', 'Event count', 'Total length', 'Average event length'],\n",
    "    column_types=['str20', 'int', 'float2', 'float2'],\n",
    "    scaling=100\n",
    ")"
   ]
  },
  {
   "cell_type": "code",
   "execution_count": 6,
   "metadata": {
    "slideshow": {
     "slide_type": "skip"
    }
   },
   "outputs": [
    {
     "data": {
      "text/html": [
       "<div class=\"label label-primary\" style=\"margin-bottom:5px;margin-top:5px;display:inline-block;margin-left:0px;\">MetaDataItem</div>\n",
       "<div class=\"row clearfix\" style=\"\"><div class=\"col-md-12\" style=\"padding:2px;font-size:100%;font-weight:bold\">Target</div></div>\n",
       "<div class=\"row row-no-gutters clearfix\" style=\"background-color: #F1F1F166;\"><div class=\"col-md-4 col-xs-6\" style=\"padding-left:20px;\">filename<span class=\"pull-right text-muted\" style=\"padding-right:5px;\">:</span></div><div class=\"col-md-8 col-xs-6\">/worktmp2/heittolt/repositories/private/notebooks/ICASSP2019_tutorial/data/datasets/TUT-sound-events-2017-development/audio/street/a001.wav </div></div>\n",
       "<div class=\"row row-no-gutters clearfix\" style=\"background-color: #F9F9F966;\"><div class=\"col-md-4 col-xs-6\" style=\"padding-left:20px;\">identifier<span class=\"pull-right text-muted\" style=\"padding-right:5px;\">:</span></div><div class=\"col-md-8 col-xs-6\">a001.wav </div></div>\n",
       "<div class=\"row row-no-gutters clearfix\" style=\"background-color: #F1F1F166;\"><div class=\"col-md-4 col-xs-6\" style=\"padding-left:20px;\">source_label<span class=\"pull-right text-muted\" style=\"padding-right:5px;\">:</span></div><div class=\"col-md-8 col-xs-6\">mixture </div></div>\n",
       "<div class=\"row row-no-gutters clearfix\" style=\"background-color: #F9F9F966;\"><div class=\"col-md-4 col-xs-6\" style=\"padding-left:20px;\">onset<span class=\"pull-right text-muted\" style=\"padding-right:5px;\">:</span></div><div class=\"col-md-8 col-xs-6\">1.59 <span class=\"text-muted\">sec</span></div></div>\n",
       "<div class=\"row row-no-gutters clearfix\" style=\"background-color: #F1F1F166;\"><div class=\"col-md-4 col-xs-6\" style=\"padding-left:20px;\">offset<span class=\"pull-right text-muted\" style=\"padding-right:5px;\">:</span></div><div class=\"col-md-8 col-xs-6\">2.38 <span class=\"text-muted\">sec</span></div></div>\n",
       "<div class=\"row clearfix\" style=\"\"><div class=\"col-md-12\" style=\"padding:2px;font-size:100%;font-weight:bold\">Meta data</div></div>\n",
       "<div class=\"row row-no-gutters clearfix\" style=\"background-color: #F1F1F166;\"><div class=\"col-md-4 col-xs-6\" style=\"padding-left:20px;\">scene_label<span class=\"pull-right text-muted\" style=\"padding-right:5px;\">:</span></div><div class=\"col-md-8 col-xs-6\">street </div></div>\n",
       "<div class=\"row row-no-gutters clearfix\" style=\"background-color: #F9F9F966;\"><div class=\"col-md-4 col-xs-6\" style=\"padding-left:20px;\">event_label<span class=\"pull-right text-muted\" style=\"padding-right:5px;\">:</span></div><div class=\"col-md-8 col-xs-6\">people walking </div></div>\n",
       "<div class=\"row clearfix\" style=\"background-color: #F1F1F166;\"><div class=\"col-md-12\" style=\"padding:2px;font-size:100%;font-weight:bold\">Item</div></div>\n",
       "<div class=\"row row-no-gutters clearfix\" style=\"background-color: #F9F9F966;\"><div class=\"col-md-4 col-xs-6\" style=\"padding-left:20px;\">id<span class=\"pull-right text-muted\" style=\"padding-right:5px;\">:</span></div><div class=\"col-md-8 col-xs-6\">38a3926d2bab87e27e1f89da05b5e534 </div></div>\n"
      ],
      "text/plain": [
       "<IPython.core.display.HTML object>"
      ]
     },
     "metadata": {},
     "output_type": "display_data"
    }
   ],
   "source": [
    "db.meta[0].show()"
   ]
  },
  {
   "cell_type": "markdown",
   "metadata": {
    "slideshow": {
     "slide_type": "slide"
    }
   },
   "source": [
    "## Meta data \n",
    "\n",
    "Meta data can be represented as **event list** and **event roll**\n",
    "\n",
    "1) **Event list** &ndash; list of sound events with onset, offset, and label"
   ]
  },
  {
   "cell_type": "code",
   "execution_count": 7,
   "metadata": {
    "scrolled": true
   },
   "outputs": [],
   "source": [
    "event_list = db.meta.filter(filename=db.meta.unique_files[0])"
   ]
  },
  {
   "cell_type": "code",
   "execution_count": 8,
   "metadata": {
    "hide_input": true
   },
   "outputs": [
    {
     "data": {
      "text/html": [
       "<table class=\"table table-striped table-condensed\" style=\"font-size:110%;width:auto;margin-top:0em;margin-left:0px;\"><thead style=\"border-bottom: 0px solid transparent;\"><tr><th style=\"width:110px;border-bottom:2px solid #333;text-align:right;\">Event onset</th><th style=\"width:120px;border-bottom:2px solid #333;text-align:right;\">Event offset</th><th style=\"width:250px;border-bottom:2px solid #333;text-align:left;\">Event label</th></tr></thead><tbody><tr><td style=\"text-align:right;\">  1.59</td><td style=\"text-align:right;\">  2.38</td><td style=\"text-align:left;\">people walking</td></tr><tr><td style=\"text-align:right;\">  3.50</td><td style=\"text-align:right;\">  4.16</td><td style=\"text-align:left;\">people walking</td></tr><tr><td style=\"text-align:right;\">  4.16</td><td style=\"text-align:right;\"> 14.00</td><td style=\"text-align:left;\">car</td></tr><tr><td style=\"text-align:right;\">  8.51</td><td style=\"text-align:right;\"> 11.84</td><td style=\"text-align:left;\">car</td></tr><tr><td style=\"text-align:right;\"> 14.38</td><td style=\"text-align:right;\"> 20.00</td><td style=\"text-align:left;\">car</td></tr><tr><td style=\"text-align:right;\"></td><td style=\"text-align:right;\"></td><td style=\"text-align:left;\">...</td></tr></tbody></table>"
      ],
      "text/plain": [
       "<IPython.core.display.HTML object>"
      ]
     },
     "metadata": {},
     "output_type": "display_data"
    }
   ],
   "source": [
    "event_list_ = dcase_util.containers.ListDictContainer(event_list[0:5])\n",
    "onsets = event_list_.get_field('onset')\n",
    "onsets.append('...')\n",
    "offsets = event_list_.get_field('offset')\n",
    "offsets.append('...')\n",
    "labels = event_list_.get_field('event_label')\n",
    "labels.append('...')\n",
    "log.table(\n",
    "    cell_data=[onsets, offsets, labels],\n",
    "    column_headers=['Event onset', 'Event offset', 'Event label'],\n",
    "    column_types=['float2', 'float2', 'str25'],\n",
    "    scaling=110\n",
    ")"
   ]
  },
  {
   "cell_type": "markdown",
   "metadata": {
    "slideshow": {
     "slide_type": "slide"
    }
   },
   "source": [
    "2) **Event roll** &ndash; binary matrix where event presence is indicated with predefined time resolution, similar to *piano roll* in MIR"
   ]
  },
  {
   "cell_type": "code",
   "execution_count": 9,
   "metadata": {},
   "outputs": [],
   "source": [
    "mel_extractor = dcase_util.features.MelExtractor(\n",
    "    n_mels=40, \n",
    "    win_length_seconds=0.04,  # 40 ms \n",
    "    hop_length_seconds=0.02,  # 20 ms\n",
    "    fs=44100\n",
    ")\n",
    "\n",
    "# Event roll syncronized with feature extraction\n",
    "event_roll = event_list.to_event_roll(\n",
    "    time_resolution=mel_extractor.hop_length_seconds, \n",
    "    label_list=db.event_labels()\n",
    ")"
   ]
  },
  {
   "cell_type": "code",
   "execution_count": 10,
   "metadata": {
    "hide_input": true
   },
   "outputs": [
    {
     "name": "stdout",
     "output_type": "stream",
     "text": [
      "event_roll shape (classes, time) (6, 8803)\n"
     ]
    }
   ],
   "source": [
    "print('event_roll shape', '(classes, time)', event_roll.shape)"
   ]
  },
  {
   "cell_type": "markdown",
   "metadata": {
    "slideshow": {
     "slide_type": "slide"
    }
   },
   "source": [
    "### Event roll visualized together with acoustic features"
   ]
  },
  {
   "cell_type": "code",
   "execution_count": 11,
   "metadata": {
    "hide_input": true
   },
   "outputs": [
    {
     "data": {
      "image/png": "[encoded data removed]",
      "text/plain": [
       "<Figure size 1296x576 with 2 Axes>"
      ]
     },
     "metadata": {
      "needs_background": "light"
     },
     "output_type": "display_data"
    }
   ],
   "source": [
    "audio = AudioContainer().load(\n",
    "    filename=db.meta.unique_files[0],\n",
    "    mono=True\n",
    ")\n",
    "mel_data = mel_extractor.extract(y=audio)\n",
    "feature_container = dcase_util.containers.FeatureContainer(\n",
    "    data=mel_data, \n",
    "    time_resolution=mel_extractor.hop_length_seconds\n",
    ")\n",
    "event_roll.plot(\n",
    "    data_container=feature_container, \n",
    "    figsize=(18, 8), \n",
    "    data_panel_title='Features (log mel energies)', \n",
    "    binary_panel_title='Event roll',\n",
    "    panel_title_position='right'\n",
    ")"
   ]
  },
  {
   "cell_type": "markdown",
   "metadata": {
    "slideshow": {
     "slide_type": "slide"
    }
   },
   "source": [
    "# Cross-validation set\n",
    "\n",
    "Dataset is bundled with **4-fold** cross-validation set (train/test), in this example we use only first fold\n",
    "\n",
    "**Validation set** is split from training set to have similar event distribution, however, recordings contain variable amount of events:\n",
    "- Place recordings either into training or validation set \n",
    "- Measure distance of event counts to target split percentage (70/30)\n",
    "- Select best match after multiple trials\n",
    "- Split can be done with dataset handling class from `dcase_util` "
   ]
  },
  {
   "cell_type": "code",
   "execution_count": 12,
   "metadata": {
    "slideshow": {
     "slide_type": "skip"
    }
   },
   "outputs": [
    {
     "data": {
      "application/vnd.jupyter.widget-view+json": {
       "model_id": "",
       "version_major": 2,
       "version_minor": 0
      },
      "text/plain": [
       "HBox(children=(IntProgress(value=0, description='Generate validation split candidates', max=50), HTML(value=''…"
      ]
     },
     "metadata": {},
     "output_type": "display_data"
    },
    {
     "name": "stdout",
     "output_type": "stream",
     "text": [
      "\r"
     ]
    }
   ],
   "source": [
    "current_fold = 1\n",
    "training_files, validation_files = db.validation_split(\n",
    "    validation_amount=0.3, \n",
    "    fold=current_fold, \n",
    "    iterations=50\n",
    ")\n",
    "train_meta = db.train(current_fold).filter(file_list=training_files)\n",
    "validation_meta = db.train(current_fold).filter(file_list=validation_files)"
   ]
  },
  {
   "cell_type": "markdown",
   "metadata": {
    "slideshow": {
     "slide_type": "slide"
    }
   },
   "source": [
    "### Train / Validation / Test statistics"
   ]
  },
  {
   "cell_type": "markdown",
   "metadata": {},
   "source": [
    "**Recordings**"
   ]
  },
  {
   "cell_type": "code",
   "execution_count": 13,
   "metadata": {
    "hide_input": true
   },
   "outputs": [
    {
     "data": {
      "text/html": [
       "<div class=\"row row-no-gutters clearfix\" style=\"background-color: #F9F9F966;\"><div class=\"col-md-4 col-xs-6\" style=\"padding-left:0px;\">Training files<span class=\"pull-right text-muted\" style=\"padding-right:5px;\">:</span></div><div class=\"col-md-8 col-xs-6\">12 </div></div>"
      ],
      "text/plain": [
       "<IPython.core.display.HTML object>"
      ]
     },
     "metadata": {},
     "output_type": "display_data"
    },
    {
     "data": {
      "text/html": [
       "<div class=\"row row-no-gutters clearfix\" style=\"background-color: #F1F1F166;\"><div class=\"col-md-4 col-xs-6\" style=\"padding-left:0px;\">Validation files<span class=\"pull-right text-muted\" style=\"padding-right:5px;\">:</span></div><div class=\"col-md-8 col-xs-6\">6 </div></div>"
      ],
      "text/plain": [
       "<IPython.core.display.HTML object>"
      ]
     },
     "metadata": {},
     "output_type": "display_data"
    },
    {
     "data": {
      "text/html": [
       "<div class=\"row row-no-gutters clearfix\" style=\"background-color: #F9F9F966;\"><div class=\"col-md-4 col-xs-6\" style=\"padding-left:0px;\">Validation file amount<span class=\"pull-right text-muted\" style=\"padding-right:5px;\">:</span></div><div class=\"col-md-8 col-xs-6\">33.33 <span class=\"text-muted\">%</span></div></div>"
      ],
      "text/plain": [
       "<IPython.core.display.HTML object>"
      ]
     },
     "metadata": {},
     "output_type": "display_data"
    }
   ],
   "source": [
    "log.data('Training files', len(training_files), indent=0)\n",
    "log.data('Validation files', len(validation_files), indent=0)\n",
    "log.data('Validation file amount', len(validation_files) / float(len(validation_files) + len(training_files))* 100.0, '%', indent=0)"
   ]
  },
  {
   "cell_type": "markdown",
   "metadata": {},
   "source": [
    "**Events**"
   ]
  },
  {
   "cell_type": "code",
   "execution_count": 14,
   "metadata": {
    "hide_input": true
   },
   "outputs": [
    {
     "data": {
      "text/html": [
       "<table class=\"table table-striped table-condensed\" style=\"font-size:90%;width:auto;margin-top:0em;margin-left:0px;\"><thead style=\"border-bottom: 0px solid transparent;\"><tr><th style=\"width:250px;border-bottom:2px solid #333;border-right:2px solid #333;text-align:left;\">Event label</th><th style=\"width:180px;border-bottom:2px solid #333;text-align:right;\">Train set (events)</th><th style=\"width:230px;border-bottom:2px solid #333;border-right:2px solid #333;text-align:right;\">Validation set (events)</th><th style=\"width:260px;border-bottom:2px solid #333;text-align:right;\">Validation data amount (%)</th></tr></thead><tbody><tr><td style=\"border-right:2px solid #333;text-align:left;\">brakes squeaking</td><td style=\"text-align:right;\">32</td><td style=\"border-right:2px solid #333;text-align:right;\">13</td><td style=\"text-align:right;\">  28.9</td></tr><tr><td style=\"border-right:2px solid #333;text-align:left;\">car</td><td style=\"text-align:right;\">162</td><td style=\"border-right:2px solid #333;text-align:right;\">84</td><td style=\"text-align:right;\">  34.1</td></tr><tr><td style=\"border-right:2px solid #333;text-align:left;\">children</td><td style=\"text-align:right;\">31</td><td style=\"border-right:2px solid #333;text-align:right;\">8</td><td style=\"text-align:right;\">  20.5</td></tr><tr><td style=\"border-right:2px solid #333;text-align:left;\">large vehicle</td><td style=\"text-align:right;\">38</td><td style=\"border-right:2px solid #333;text-align:right;\">10</td><td style=\"text-align:right;\">  20.8</td></tr><tr><td style=\"border-right:2px solid #333;text-align:left;\">people speaking</td><td style=\"text-align:right;\">57</td><td style=\"border-right:2px solid #333;text-align:right;\">15</td><td style=\"text-align:right;\">  20.8</td></tr><tr><td style=\"border-right:2px solid #333;text-align:left;\">people walking</td><td style=\"text-align:right;\">59</td><td style=\"border-right:2px solid #333;text-align:right;\">26</td><td style=\"text-align:right;\">  30.6</td></tr><tr><td style=\"border-top:2px solid #333;border-right:2px solid #333;text-align:left;\">Overall</td><td style=\"border-top:2px solid #333;text-align:right;\">379</td><td style=\"border-top:2px solid #333;border-right:2px solid #333;text-align:right;\">156</td><td style=\"border-top:2px solid #333;text-align:right;\">  29.2</td></tr></tbody></table>"
      ],
      "text/plain": [
       "<IPython.core.display.HTML object>"
      ]
     },
     "metadata": {},
     "output_type": "display_data"
    }
   ],
   "source": [
    "train_items = train_meta.stats()['events']['count']\n",
    "train_items = numpy.append(train_items, numpy.sum(train_items))\n",
    "\n",
    "validation_items = validation_meta.stats()['events']['count']\n",
    "validation_items = numpy.append(validation_items, numpy.sum(validation_items))\n",
    "\n",
    "test_items = db.eval(1).stats()['events']['count']\n",
    "test_items = numpy.append(test_items, numpy.sum(test_items))\n",
    "\n",
    "labels = db.event_labels() \n",
    "labels.append('Overall')\n",
    "\n",
    "log.table(\n",
    "    cell_data=[\n",
    "        labels, \n",
    "        train_items,         \n",
    "        validation_items,  \n",
    "        validation_items / (train_items + validation_items) * 100.0,\n",
    "        #test_items\n",
    "    ],\n",
    "    column_headers=['Event label', 'Train set (events)', 'Validation set (events)', 'Validation data amount (%)', \n",
    "                    #'Test set (events)',\n",
    "                   ],\n",
    "    column_types=['str25', 'int', 'int', 'float1', 'int', 'int', 'int', 'int', 'int'],\n",
    "    column_separators=[0,2],\n",
    "    row_separators=[6],\n",
    "    scaling=90\n",
    ")"
   ]
  },
  {
   "cell_type": "markdown",
   "metadata": {
    "hide_input": false,
    "slideshow": {
     "slide_type": "slide"
    }
   },
   "source": [
    "# Learning acoustic model"
   ]
  },
  {
   "cell_type": "markdown",
   "metadata": {},
   "source": [
    "For each learning example, we need **feature matrix** and **target matrix** (event roll)\n",
    "\n",
    "Data is split into fixed length **sequences** (5 seconds, non-overlapping)\n",
    "\n",
    "1) **Feature** matrix:"
   ]
  },
  {
   "cell_type": "code",
   "execution_count": 15,
   "metadata": {},
   "outputs": [],
   "source": [
    "# Extract features\n",
    "features = mel_extractor.extract(\n",
    "    AudioContainer().load(filename=train_meta.unique_files[2], mono=True)\n",
    ")\n",
    "# Split feature matrix into sequences\n",
    "sequence_length = 250                              # 5s/0.02s=250 frames\n",
    "data_sequencer = dcase_util.data.Sequencer(\n",
    "    sequence_length=sequence_length\n",
    ") \n",
    "sequences = data_sequencer.sequence(features).data # (40, 250, 60)\n",
    "# Reshape matrix to have sequences at first axis\n",
    "X = numpy.moveaxis(sequences, 2, 0)"
   ]
  },
  {
   "cell_type": "code",
   "execution_count": 16,
   "metadata": {
    "hide_input": true
   },
   "outputs": [
    {
     "name": "stdout",
     "output_type": "stream",
     "text": [
      "Data shape (sequence, frequency, time) (60, 40, 250)\n"
     ]
    }
   ],
   "source": [
    "print('Data shape', '(sequence, frequency, time)', X.shape)"
   ]
  },
  {
   "cell_type": "markdown",
   "metadata": {
    "slideshow": {
     "slide_type": "slide"
    }
   },
   "source": [
    "2) **Target** matrix (event roll):"
   ]
  },
  {
   "cell_type": "code",
   "execution_count": 17,
   "metadata": {},
   "outputs": [],
   "source": [
    "# Get event list for the current item \n",
    "event_list = train_meta.filter(filename=train_meta.unique_files[2]) \n",
    "\n",
    "# Time resolution of feature extraction\n",
    "feature_matrix_time_resolution = mel_extractor.hop_length_seconds\n",
    "# Feature matrix length (seconds), needed to make event roll same size\n",
    "feature_matrix_length = features.shape[1]*mel_extractor.hop_length_seconds\n",
    "\n",
    "# Translate event list into event roll\n",
    "event_roll = event_list.to_event_roll(\n",
    "    label_list=db.event_labels(),                      # Event labels\n",
    "    time_resolution=feature_matrix_time_resolution,\n",
    "    length_seconds=feature_matrix_length\n",
    ")\n",
    "\n",
    "# Reshape matrix to have sequences at first axis\n",
    "Y = numpy.moveaxis(data_sequencer.sequence(event_roll).data, 2, 0)\n"
   ]
  },
  {
   "cell_type": "code",
   "execution_count": 18,
   "metadata": {
    "hide_input": true
   },
   "outputs": [
    {
     "name": "stdout",
     "output_type": "stream",
     "text": [
      "Data shape (sequence, event classes, time) (60, 6, 250)\n"
     ]
    }
   ],
   "source": [
    "print('Data shape', '(sequence, event classes, time)', Y.shape)"
   ]
  },
  {
   "cell_type": "markdown",
   "metadata": {
    "slideshow": {
     "slide_type": "skip"
    }
   },
   "source": [
    "## Collect training data"
   ]
  },
  {
   "cell_type": "code",
   "execution_count": 19,
   "metadata": {
    "slideshow": {
     "slide_type": "skip"
    }
   },
   "outputs": [
    {
     "name": "stdout",
     "output_type": "stream",
     "text": [
      "Load audio/street/a008.wav\n",
      "Load audio/street/a012.wav\n",
      "Load audio/street/a124.wav\n",
      "Load audio/street/a127.wav\n",
      "Load audio/street/a128.wav\n",
      "Load audio/street/a131.wav\n",
      "Load audio/street/b006.wav\n",
      "Load audio/street/b007.wav\n",
      "Load audio/street/b009.wav\n",
      "Load audio/street/b091.wav\n",
      "Load audio/street/b093.wav\n",
      "Load audio/street/b095.wav\n",
      "----------------------\n",
      "X_train shape (571, 40, 250)\n",
      "Y_train shape (571, 6, 250)\n"
     ]
    }
   ],
   "source": [
    "X_train = []\n",
    "Y_train = []\n",
    "for audio_filename in train_meta.unique_files:\n",
    "    print('Load', db.absolute_to_relative_path(audio_filename))\n",
    "    \n",
    "    # Extract features, load them from file if they exists, if not extract and save\n",
    "    features = get_feature_matrix(audio_filename, feature_storage_path)\n",
    "    feature_sequence = data_sequencer.sequence(features)\n",
    "    # Extract features, store only in memory\n",
    "    #features = mel_extractor.extract(\n",
    "    #    dcase_util.containers.AudioContainer().load(filename=item.filename,mono=True)\n",
    "    #)\n",
    "\n",
    "    # Targets\n",
    "    event_list = train_meta.filter(filename=audio_filename)\n",
    "    event_roll = event_list.to_event_roll(\n",
    "        label_list=db.event_labels(),                                       # Event labels\n",
    "        time_resolution=mel_extractor.hop_length_seconds,                   # Time resolution of feature matrix\n",
    "        length_seconds=features.shape[1]*mel_extractor.hop_length_seconds   # Length of original audio signal\n",
    "    )\n",
    "    target_matrix = data_sequencer.sequence(event_roll)\n",
    "    \n",
    "    X_train.append(numpy.moveaxis(feature_sequence.data,2,0)) \n",
    "    Y_train.append(numpy.moveaxis(target_matrix.data,2,0))\n",
    "    \n",
    "X_train = numpy.vstack(X_train)\n",
    "Y_train = numpy.vstack(Y_train)\n",
    "print('----------------------')\n",
    "print('X_train shape', X_train.shape)\n",
    "print('Y_train shape', Y_train.shape)"
   ]
  },
  {
   "cell_type": "code",
   "execution_count": 20,
   "metadata": {
    "slideshow": {
     "slide_type": "skip"
    }
   },
   "outputs": [
    {
     "name": "stdout",
     "output_type": "stream",
     "text": [
      "Load audio/street/a001.wav\n",
      "Load audio/street/a003.wav\n",
      "Load audio/street/b003.wav\n",
      "Load audio/street/b005.wav\n",
      "Load audio/street/b094.wav\n",
      "Load audio/street/b098.wav\n",
      "----------------------\n",
      "X_validation shape (268, 40, 250)\n",
      "Y_validation shape (268, 6, 250)\n"
     ]
    }
   ],
   "source": [
    "X_validation = []\n",
    "Y_validation = []\n",
    "validation_data = {}\n",
    "for audio_filename in validation_meta.unique_files:\n",
    "    print('Load', db.absolute_to_relative_path(audio_filename))\n",
    "    \n",
    "    # Extract features, load them from file if they exists, if not extract and save\n",
    "    features = get_feature_matrix(audio_filename, feature_storage_path)\n",
    "    feature_sequence = data_sequencer.sequence(features)\n",
    "    # Extract features, store only in memory\n",
    "    #features = mel_extractor.extract(\n",
    "    #    dcase_util.containers.AudioContainer().load(filename=item.filename,mono=True)\n",
    "    #)\n",
    "\n",
    "    # Targets\n",
    "    event_list = validation_meta.filter(filename=audio_filename)\n",
    "    event_roll = event_list.to_event_roll(\n",
    "        label_list=db.event_labels(),                                       # Event labels\n",
    "        time_resolution=mel_extractor.hop_length_seconds,                   # Time resolution of feature matrix\n",
    "        length_seconds=features.shape[1]*mel_extractor.hop_length_seconds   # Length of original audio signal\n",
    "    )\n",
    "    target_matrix = data_sequencer.sequence(event_roll)\n",
    "    \n",
    "    X_validation.append(numpy.moveaxis(feature_sequence.data,2,0)) \n",
    "    Y_validation.append(numpy.moveaxis(target_matrix.data,2,0))\n",
    "    \n",
    "    validation_data[audio_filename] = {\n",
    "        'features': features,\n",
    "        'meta': event_list\n",
    "    }\n",
    "        \n",
    "X_validation = numpy.vstack(X_validation)\n",
    "Y_validation = numpy.vstack(Y_validation)\n",
    "print('----------------------')\n",
    "print('X_validation shape', X_validation.shape)\n",
    "print('Y_validation shape', Y_validation.shape)"
   ]
  },
  {
   "cell_type": "markdown",
   "metadata": {
    "slideshow": {
     "slide_type": "slide"
    }
   },
   "source": [
    "## Learning data"
   ]
  },
  {
   "cell_type": "markdown",
   "metadata": {},
   "source": [
    "All learning data is collected into X_train and Y_train matrices:"
   ]
  },
  {
   "cell_type": "code",
   "execution_count": 21,
   "metadata": {
    "hide_input": true
   },
   "outputs": [
    {
     "name": "stdout",
     "output_type": "stream",
     "text": [
      "X_train shape (sequence, frequency    , time) (571, 40, 250)\n",
      "Y_train shape (sequence, event classes, time) (571, 6, 250)\n"
     ]
    }
   ],
   "source": [
    "print('X_train shape', '(sequence, frequency    , time)', X_train.shape)\n",
    "print('Y_train shape', '(sequence, event classes, time)', Y_train.shape)"
   ]
  },
  {
   "cell_type": "markdown",
   "metadata": {
    "slideshow": {
     "slide_type": "skip"
    }
   },
   "source": [
    "Matrix data:"
   ]
  },
  {
   "cell_type": "code",
   "execution_count": 22,
   "metadata": {
    "hide_input": true
   },
   "outputs": [
    {
     "data": {
      "image/png": "[encoded data removed]",
      "text/plain": [
       "<Figure size 1296x288 with 70 Axes>"
      ]
     },
     "metadata": {},
     "output_type": "display_data"
    }
   ],
   "source": [
    "example_ids = numpy.random.choice(range(X_train.shape[0]), 35, replace=False)\n",
    "\n",
    "fig, axes = plt.subplots(2, len(example_ids), figsize=(18, 4))\n",
    "fig.subplots_adjust(top=1.0, bottom=0.0, right=1.0, hspace=0.1, wspace=0.1)\n",
    "\n",
    "for i, item_id in enumerate(example_ids):\n",
    "    current_x = X_train[item_id,:,:]\n",
    "    current_y = Y_train[item_id,:,:]\n",
    "        \n",
    "    plt.sca(axes[0, i])\n",
    "    dcase_util.containers.FeatureContainer(current_x).plot(plot=False)\n",
    "    \n",
    "    plt.sca(axes[1, i])\n",
    "    dcase_util.containers.BinaryMatrix2DContainer(current_y).plot(plot=False)\n",
    "    #axes[1, i].set_xlabel(str(id), fontsize=20)\n",
    "    #axes[0, i].get_xaxis().set_visible(False)\n",
    "    #axes[1, i].get_xaxis().set_visible(False)\n",
    "    \n",
    "    #axes[0, i].get_yaxis().set_visible(False)\n",
    "    #axes[1, i].get_yaxis().set_visible(False)\n",
    "axes[0, -1].yaxis.set_label_position(\"right\")\n",
    "axes[0, -1].xaxis.set_label_position(\"top\")\n",
    "axes[0, -1].set_ylabel('40', rotation=0, fontsize=20, labelpad=20)\n",
    "axes[0, -1].set_xlabel('250',fontsize=20)\n",
    "\n",
    "axes[1, -1].yaxis.set_label_position(\"right\")\n",
    "axes[1, -1].xaxis.set_label_position(\"bottom\")\n",
    "axes[1, -1].set_ylabel('6', rotation=0, fontsize=20, labelpad=20)\n",
    "axes[1, -1].set_xlabel('250',fontsize=20)\n",
    "\n",
    "axes[0, 0].set_ylabel('X_train\\n(data)', rotation=0, fontsize=20, labelpad=20, fontweight='bold', ha='right')\n",
    "axes[1, 0].yaxis.set_label_position(\"left\")\n",
    "axes[1, 0].set_ylabel('Y_train\\n(target)', rotation=0, fontsize=20, labelpad=20, fontweight='bold', ha='right')    \n",
    "\n",
    "axes[0, i].yaxis.label.set_visible(True)\n",
    "axes[1, i].yaxis.label.set_visible(True)\n",
    "#plt.tight_layout()"
   ]
  },
  {
   "cell_type": "markdown",
   "metadata": {
    "slideshow": {
     "slide_type": "slide"
    }
   },
   "source": [
    "# Neural network structure"
   ]
  },
  {
   "cell_type": "markdown",
   "metadata": {},
   "source": [
    "Next we create **CRNN** styled neural network structure layer by layer\n",
    "\n",
    "\n",
    "**Input** layer and **Reshaping** layer to add channel axis into input to match `channels_last` mode:"
   ]
  },
  {
   "cell_type": "code",
   "execution_count": 23,
   "metadata": {
    "slideshow": {
     "slide_type": "skip"
    }
   },
   "outputs": [],
   "source": [
    "feature_vector_length = mel_extractor.n_mels   # Number of mel bands"
   ]
  },
  {
   "cell_type": "code",
   "execution_count": 24,
   "metadata": {},
   "outputs": [],
   "source": [
    "input_layer = Input(\n",
    "    shape=(feature_vector_length, sequence_length), \n",
    "    name='Input'\n",
    ")\n",
    "x = Reshape(\n",
    "    target_shape=(feature_vector_length, sequence_length, 1), \n",
    "    name='Input_Reshape'\n",
    ")(input_layer)\n"
   ]
  },
  {
   "cell_type": "code",
   "execution_count": 25,
   "metadata": {
    "hide_input": true
   },
   "outputs": [
    {
     "name": "stdout",
     "output_type": "stream",
     "text": [
      "Output shape (sequence, frequency, time, channel) (None, 40, 250, 1)\n"
     ]
    }
   ],
   "source": [
    "print('Output shape','(sequence, frequency, time, channel)', x._keras_shape)"
   ]
  },
  {
   "cell_type": "markdown",
   "metadata": {
    "slideshow": {
     "slide_type": "slide"
    }
   },
   "source": [
    "**Two convolutional groups** are used to capture small shifts in time and frequency. \n",
    "\n",
    "Similar groups as in sound classification example, except max **pooling done only along frequency** axis as time axis is retained for the detection.\n"
   ]
  },
  {
   "cell_type": "markdown",
   "metadata": {
    "slideshow": {
     "slide_type": "skip"
    }
   },
   "source": [
    "- **Convolution** to extract high-level features (kernel 3x3 and 64 filters)\n",
    "- **Batch normalization** to enable higher learning rates\n",
    "- **Activation** (ReLu)\n",
    "- **Pooling** along frequency axis to extract dominant features\n",
    "- **Dropout** to avoid overfitting"
   ]
  },
  {
   "cell_type": "markdown",
   "metadata": {
    "slideshow": {
     "slide_type": "-"
    }
   },
   "source": [
    "**Convolutional group 1**"
   ]
  },
  {
   "cell_type": "code",
   "execution_count": 26,
   "metadata": {
    "hide_input": true
   },
   "outputs": [
    {
     "name": "stdout",
     "output_type": "stream",
     "text": [
      "Input shape (sequence, frequency, time, channel) (None, 40, 250, 1)\n"
     ]
    }
   ],
   "source": [
    "print('Input shape','(sequence, frequency, time, channel)', x._keras_shape)"
   ]
  },
  {
   "cell_type": "code",
   "execution_count": 27,
   "metadata": {},
   "outputs": [],
   "source": [
    "# Convolution\n",
    "x = Conv2D(filters=64, kernel_size=(3, 3), activation='linear',\n",
    "           padding='same', data_format='channels_last', name='Conv1')(x)\n",
    "# Batch normalization\n",
    "x = BatchNormalization(axis=-1, name='Conv1_BatchNorm')(x)\n",
    "# Activation\n",
    "x = Activation(activation='relu', name='Conv1_Activation')(x)\n",
    "# Max pooling along frequency axis\n",
    "x = MaxPooling2D(pool_size=(5, 1), name='Conv1_Pooling')(x)\n",
    "# Drop out\n",
    "x = Dropout(rate=0.2, name='Conv1_DropOut')(x)\n"
   ]
  },
  {
   "cell_type": "code",
   "execution_count": 28,
   "metadata": {
    "hide_input": true
   },
   "outputs": [
    {
     "name": "stdout",
     "output_type": "stream",
     "text": [
      "Output shape (sequence, frequency, time, feature) (None, 8, 250, 64)\n"
     ]
    }
   ],
   "source": [
    "print('Output shape', '(sequence, frequency, time, feature)', x._keras_shape)"
   ]
  },
  {
   "cell_type": "markdown",
   "metadata": {
    "slideshow": {
     "slide_type": "slide"
    }
   },
   "source": [
    "**Convolutional group 2**"
   ]
  },
  {
   "cell_type": "code",
   "execution_count": 29,
   "metadata": {
    "hide_input": true
   },
   "outputs": [
    {
     "name": "stdout",
     "output_type": "stream",
     "text": [
      "Input shape (sequence, frequency, time, channel) (None, 8, 250, 64)\n"
     ]
    }
   ],
   "source": [
    "print('Input shape','(sequence, frequency, time, channel)', x._keras_shape)"
   ]
  },
  {
   "cell_type": "code",
   "execution_count": 30,
   "metadata": {},
   "outputs": [],
   "source": [
    "# Convolution\n",
    "x = Conv2D(filters=64, kernel_size=(3, 3), activation='linear',\n",
    "           padding='same', data_format='channels_last', name='Conv2')(x)\n",
    "# Batch normalization\n",
    "x = BatchNormalization(axis=-1, name='Conv2_BatchNorm')(x)\n",
    "# Activation\n",
    "x = Activation(activation='relu', name='Conv2_Activation')(x)\n",
    "# Max pooling along frequency axis\n",
    "x = MaxPooling2D(pool_size=(4, 1), name='Conv2_Pooling')(x)\n",
    "# Drop out\n",
    "x = Dropout(rate=0.2, name='Conv2_DropOut')(x)\n"
   ]
  },
  {
   "cell_type": "code",
   "execution_count": 31,
   "metadata": {
    "hide_input": true
   },
   "outputs": [
    {
     "name": "stdout",
     "output_type": "stream",
     "text": [
      "Output shape (sequence, frequency, time, feature) (None, 2, 250, 64)\n"
     ]
    }
   ],
   "source": [
    "print('Output shape', '(sequence, frequency, time, feature)', x._keras_shape)"
   ]
  },
  {
   "cell_type": "markdown",
   "metadata": {
    "slideshow": {
     "slide_type": "slide"
    }
   },
   "source": [
    "To **connect** convolutional layers and recurrent layers, output of the last convolutional group has to be  **Reordered** and **Reshaped**:"
   ]
  },
  {
   "cell_type": "code",
   "execution_count": 32,
   "metadata": {
    "hide_input": true
   },
   "outputs": [
    {
     "name": "stdout",
     "output_type": "stream",
     "text": [
      "Input shape (sequence, frequency, time, feature) (None, 2, 250, 64)\n"
     ]
    }
   ],
   "source": [
    "print('Input shape', '(sequence, frequency, time, feature)', x._keras_shape)"
   ]
  },
  {
   "cell_type": "code",
   "execution_count": 33,
   "metadata": {},
   "outputs": [],
   "source": [
    "x = Permute(\n",
    "    dims=(1, 3, 2), \n",
    "    name='Permute'\n",
    ")(x)\n",
    "\n",
    "x = Reshape(\n",
    "    target_shape=(sequence_length, -1), \n",
    "    name='Reshape'\n",
    ")(x)\n"
   ]
  },
  {
   "cell_type": "code",
   "execution_count": 34,
   "metadata": {
    "hide_input": true
   },
   "outputs": [
    {
     "name": "stdout",
     "output_type": "stream",
     "text": [
      "Output shape (sequence, time, feature) (None, 250, 128)\n"
     ]
    }
   ],
   "source": [
    "print('Output shape', '(sequence, time, feature)', x._keras_shape)"
   ]
  },
  {
   "cell_type": "markdown",
   "metadata": {
    "slideshow": {
     "slide_type": "slide"
    }
   },
   "source": [
    "Two **bidirectional** **recurrent** layers (Gated Recurrent Units) are used to integrate information from large time window:"
   ]
  },
  {
   "cell_type": "code",
   "execution_count": 35,
   "metadata": {
    "hide_input": true
   },
   "outputs": [
    {
     "name": "stdout",
     "output_type": "stream",
     "text": [
      "Input shape (sequence, time, feature) (None, 250, 128)\n"
     ]
    }
   ],
   "source": [
    "print('Input shape', '(sequence, time, feature)', x._keras_shape)"
   ]
  },
  {
   "cell_type": "code",
   "execution_count": 36,
   "metadata": {},
   "outputs": [],
   "source": [
    "x = Bidirectional(\n",
    "    GRU(\n",
    "        units=32, activation='tanh', \n",
    "        dropout=0.2, recurrent_dropout=0.2, \n",
    "        return_sequences=True\n",
    "    ), merge_mode='mul', name='Recurrent_1'\n",
    ")(x)\n",
    "x = Bidirectional(\n",
    "    GRU(units=32, activation='tanh', \n",
    "        dropout=0.2, recurrent_dropout=0.2, \n",
    "        return_sequences=True\n",
    "    ), merge_mode='mul', name='Recurrent_2'\n",
    ")(x)"
   ]
  },
  {
   "cell_type": "code",
   "execution_count": 37,
   "metadata": {
    "hide_input": true
   },
   "outputs": [
    {
     "name": "stdout",
     "output_type": "stream",
     "text": [
      "Output shape (sequence, time, feature) (None, 250, 32)\n"
     ]
    }
   ],
   "source": [
    "print('Output shape', '(sequence, time, feature)', x._keras_shape)"
   ]
  },
  {
   "cell_type": "markdown",
   "metadata": {
    "slideshow": {
     "slide_type": "slide"
    }
   },
   "source": [
    "**Recognition** is done with two **fully-connected** layers using information extracted by the previous layers. \n",
    "\n",
    "Layers are wrapped with `TimeDistributed` class to apply layers independently to each time step.\n",
    "\n",
    "**Output layer** (last fully-connected layer) is with sigmoid activation."
   ]
  },
  {
   "cell_type": "code",
   "execution_count": 38,
   "metadata": {},
   "outputs": [],
   "source": [
    "x = TimeDistributed(\n",
    "    Dense(units=32), name='FC'\n",
    ")(x)\n",
    "x = Dropout(rate=0.2, name='FC_DropOut')(x)\n",
    "x = TimeDistributed(\n",
    "    Dense(units=len(db.event_labels())), name='Output'\n",
    ")(x)\n",
    "output_layer = Activation('sigmoid', name='Output_Activation')(x)"
   ]
  },
  {
   "cell_type": "code",
   "execution_count": 39,
   "metadata": {
    "hide_input": true
   },
   "outputs": [
    {
     "name": "stdout",
     "output_type": "stream",
     "text": [
      "Output shape (sequence, time, classes) (None, 250, 6)\n"
     ]
    }
   ],
   "source": [
    "print('Output shape', '(sequence, time, classes)', output_layer._keras_shape)"
   ]
  },
  {
   "cell_type": "markdown",
   "metadata": {
    "slideshow": {
     "slide_type": "skip"
    }
   },
   "source": [
    "Create a model network:"
   ]
  },
  {
   "cell_type": "code",
   "execution_count": 40,
   "metadata": {
    "slideshow": {
     "slide_type": "skip"
    }
   },
   "outputs": [],
   "source": [
    "model = Model(inputs=input_layer, outputs=output_layer)"
   ]
  },
  {
   "cell_type": "code",
   "execution_count": 41,
   "metadata": {
    "hide_input": false,
    "slideshow": {
     "slide_type": "skip"
    }
   },
   "outputs": [
    {
     "data": {
      "text/html": [
       "<div class=\"row clearfix\" style=\"\"><div class=\"col-md-12\" style=\"padding:2px;font-size:100%;font-weight:bold\">Model summary</div></div>\n",
       "<table class=\"table table-striped table-condensed\" style=\"font-size:110%;width:auto;margin-top:0em;margin-left:40px;\"><thead style=\"border-bottom: 0px solid transparent;\"><tr><th style=\"width:300px;border-bottom:2px solid #333;text-align:left;\">Layer name</th><th style=\"width:200px;border-bottom:2px solid #333;border-right:2px solid #333;text-align:left;\">Layer type</th><th style=\"width:250px;border-bottom:2px solid #333;border-right:2px solid #333;text-align:left;\">Output shape</th><th style=\"width:200px;border-bottom:2px solid #333;text-align:left;\">Parameters</th></tr></thead><tbody><tr><td style=\"border-top:2px solid #333;text-align:left;\">Input</td><td style=\"border-top:2px solid #333;border-right:2px solid #333;text-align:left;\"><span class=\"label label-default\">InputLayer</span></td><td style=\"border-top:2px solid #333;border-right:2px solid #333;text-align:left;\">(None, 40, 250)</td><td style=\"border-top:2px solid #333;text-align:left;\">0</td></tr><tr><td style=\"text-align:left;\">Input_Reshape</td><td style=\"border-right:2px solid #333;text-align:left;\"><span class=\"label label-success\">Reshape</span></td><td style=\"border-right:2px solid #333;text-align:left;\">(None, 40, 250, 1)</td><td style=\"text-align:left;\">0</td></tr><tr><td style=\"border-top:2px solid #333;text-align:left;\">Conv1</td><td style=\"border-top:2px solid #333;border-right:2px solid #333;text-align:left;\"><span class=\"label label-warning\">Conv2D</span></td><td style=\"border-top:2px solid #333;border-right:2px solid #333;text-align:left;\">(None, 40, 250, 64)</td><td style=\"border-top:2px solid #333;text-align:left;\">640</td></tr><tr><td style=\"text-align:left;\">Conv1_BatchNorm</td><td style=\"border-right:2px solid #333;text-align:left;\"><span class=\"label label-default\">BatchNorm</span></td><td style=\"border-right:2px solid #333;text-align:left;\">(None, 40, 250, 64)</td><td style=\"text-align:left;\">256</td></tr><tr><td style=\"text-align:left;\">Conv1_Activation</td><td style=\"border-right:2px solid #333;text-align:left;\"><span class=\"label label-default\">Activation</span></td><td style=\"border-right:2px solid #333;text-align:left;\">(None, 40, 250, 64)</td><td style=\"text-align:left;\">0</td></tr><tr><td style=\"text-align:left;\">Conv1_Pooling</td><td style=\"border-right:2px solid #333;text-align:left;\"><span class=\"label label-success\">MaxPooling2D</span></td><td style=\"border-right:2px solid #333;text-align:left;\">(None, 8, 250, 64)</td><td style=\"text-align:left;\">0</td></tr><tr><td style=\"text-align:left;\">Conv1_DropOut</td><td style=\"border-right:2px solid #333;text-align:left;\"><span class=\"label label-default\">Dropout</span></td><td style=\"border-right:2px solid #333;text-align:left;\">(None, 8, 250, 64)</td><td style=\"text-align:left;\">0</td></tr><tr><td style=\"border-top:2px solid #333;text-align:left;\">Conv2</td><td style=\"border-top:2px solid #333;border-right:2px solid #333;text-align:left;\"><span class=\"label label-warning\">Conv2D</span></td><td style=\"border-top:2px solid #333;border-right:2px solid #333;text-align:left;\">(None, 8, 250, 64)</td><td style=\"border-top:2px solid #333;text-align:left;\">36928</td></tr><tr><td style=\"text-align:left;\">Conv2_BatchNorm</td><td style=\"border-right:2px solid #333;text-align:left;\"><span class=\"label label-default\">BatchNorm</span></td><td style=\"border-right:2px solid #333;text-align:left;\">(None, 8, 250, 64)</td><td style=\"text-align:left;\">256</td></tr><tr><td style=\"text-align:left;\">Conv2_Activation</td><td style=\"border-right:2px solid #333;text-align:left;\"><span class=\"label label-default\">Activation</span></td><td style=\"border-right:2px solid #333;text-align:left;\">(None, 8, 250, 64)</td><td style=\"text-align:left;\">0</td></tr><tr><td style=\"text-align:left;\">Conv2_Pooling</td><td style=\"border-right:2px solid #333;text-align:left;\"><span class=\"label label-success\">MaxPooling2D</span></td><td style=\"border-right:2px solid #333;text-align:left;\">(None, 2, 250, 64)</td><td style=\"text-align:left;\">0</td></tr><tr><td style=\"text-align:left;\">Conv2_DropOut</td><td style=\"border-right:2px solid #333;text-align:left;\"><span class=\"label label-default\">Dropout</span></td><td style=\"border-right:2px solid #333;text-align:left;\">(None, 2, 250, 64)</td><td style=\"text-align:left;\">0</td></tr><tr><td style=\"border-top:2px solid #333;text-align:left;\">Permute</td><td style=\"border-top:2px solid #333;border-right:2px solid #333;text-align:left;\"><span class=\"label label-success\">Permute</span></td><td style=\"border-top:2px solid #333;border-right:2px solid #333;text-align:left;\">(None, 2, 64, 250)</td><td style=\"border-top:2px solid #333;text-align:left;\">0</td></tr><tr><td style=\"border-top:2px solid #333;text-align:left;\">Reshape</td><td style=\"border-top:2px solid #333;border-right:2px solid #333;text-align:left;\"><span class=\"label label-success\">Reshape</span></td><td style=\"border-top:2px solid #333;border-right:2px solid #333;text-align:left;\">(None, 250, 128)</td><td style=\"border-top:2px solid #333;text-align:left;\">0</td></tr><tr><td style=\"border-top:2px solid #333;text-align:left;\">Recurrent_1</td><td style=\"border-top:2px solid #333;border-right:2px solid #333;text-align:left;\"><span class=\"label label-danger\">Bidirectional</span></td><td style=\"border-top:2px solid #333;border-right:2px solid #333;text-align:left;\">(None, 250, 32)</td><td style=\"border-top:2px solid #333;text-align:left;\">30912</td></tr><tr><td style=\"text-align:left;\">Recurrent_2</td><td style=\"border-right:2px solid #333;text-align:left;\"><span class=\"label label-danger\">Bidirectional</span></td><td style=\"border-right:2px solid #333;text-align:left;\">(None, 250, 32)</td><td style=\"text-align:left;\">12480</td></tr><tr><td style=\"border-top:2px solid #333;text-align:left;\">FC</td><td style=\"border-top:2px solid #333;border-right:2px solid #333;text-align:left;\"><span class=\"label label-primary\">TimeDistributed</span></td><td style=\"border-top:2px solid #333;border-right:2px solid #333;text-align:left;\">(None, 250, 32)</td><td style=\"border-top:2px solid #333;text-align:left;\">1056</td></tr><tr><td style=\"text-align:left;\">FC_DropOut</td><td style=\"border-right:2px solid #333;text-align:left;\"><span class=\"label label-default\">Dropout</span></td><td style=\"border-right:2px solid #333;text-align:left;\">(None, 250, 32)</td><td style=\"text-align:left;\">0</td></tr><tr><td style=\"border-top:2px solid #333;text-align:left;\">Output</td><td style=\"border-top:2px solid #333;border-right:2px solid #333;text-align:left;\"><span class=\"label label-primary\">TimeDistributed</span></td><td style=\"border-top:2px solid #333;border-right:2px solid #333;text-align:left;\">(None, 250, 6)</td><td style=\"border-top:2px solid #333;text-align:left;\">198</td></tr><tr><td style=\"text-align:left;\">Output_Activation</td><td style=\"border-right:2px solid #333;text-align:left;\"><span class=\"label label-default\">Activation</span></td><td style=\"border-right:2px solid #333;text-align:left;\">(None, 250, 6)</td><td style=\"text-align:left;\">0</td></tr></tbody></table><div class=\"row clearfix\" style=\"background-color: #F1F1F166;\"><div class=\"col-md-12\" style=\"padding:2px;font-size:100%;font-weight:bold\"></div></div>\n",
       "<div class=\"row clearfix\" style=\"\"><div class=\"col-md-12\" style=\"padding:2px;font-size:100%;font-weight:bold\">Parameters</div></div>\n",
       "<div class=\"row row-no-gutters clearfix\" style=\"background-color: #F1F1F166;\"><div class=\"col-md-4 col-xs-6\" style=\"padding-left:60px;\">Total<span class=\"pull-right text-muted\" style=\"padding-right:5px;\">:</span></div><div class=\"col-md-8 col-xs-6\">82726 </div></div>\n",
       "<div class=\"row row-no-gutters clearfix\" style=\"background-color: #F9F9F966;\"><div class=\"col-md-4 col-xs-6\" style=\"padding-left:60px;\">Trainable<span class=\"pull-right text-muted\" style=\"padding-right:5px;\">:</span></div><div class=\"col-md-8 col-xs-6\">82470 </div></div>\n",
       "<div class=\"row row-no-gutters clearfix\" style=\"background-color: #F1F1F166;\"><div class=\"col-md-4 col-xs-6\" style=\"padding-left:60px;\">Non-Trainable<span class=\"pull-right text-muted\" style=\"padding-right:5px;\">:</span></div><div class=\"col-md-8 col-xs-6\">256 </div></div>\n",
       "<div class=\"row clearfix\" style=\"\"><div class=\"col-md-12\" style=\"padding:2px;font-size:100%;font-weight:bold\"></div></div>\n",
       "<div class=\"row clearfix\" style=\"background-color: #F1F1F166;\"><div class=\"col-md-12\" style=\"padding:2px;font-size:100%;font-weight:bold\">Input</div></div>\n",
       "<div class=\"row row-no-gutters clearfix\" style=\"background-color: #F9F9F966;\"><div class=\"col-md-4 col-xs-6\" style=\"padding-left:60px;\">Shape<span class=\"pull-right text-muted\" style=\"padding-right:5px;\">:</span></div><div class=\"col-md-8 col-xs-6\">(None, 40, 250) </div></div>\n",
       "<div class=\"row clearfix\" style=\"background-color: #F1F1F166;\"><div class=\"col-md-12\" style=\"padding:2px;font-size:100%;font-weight:bold\">Output</div></div>\n",
       "<div class=\"row row-no-gutters clearfix\" style=\"background-color: #F9F9F966;\"><div class=\"col-md-4 col-xs-6\" style=\"padding-left:60px;\">Shape<span class=\"pull-right text-muted\" style=\"padding-right:5px;\">:</span></div><div class=\"col-md-8 col-xs-6\">(None, 250, 6) </div></div>\n",
       "<div class=\"row row-no-gutters clearfix\" style=\"background-color: #F1F1F166;\"><div class=\"col-md-4 col-xs-6\" style=\"padding-left:60px;\">Activation<span class=\"pull-right text-muted\" style=\"padding-right:5px;\">:</span></div><div class=\"col-md-8 col-xs-6\">sigmoid </div></div>\n"
      ],
      "text/plain": [
       "<IPython.core.display.HTML object>"
      ]
     },
     "metadata": {},
     "output_type": "display_data"
    }
   ],
   "source": [
    "dcase_util.keras.model_summary_string(\n",
    "    keras_model=model,\n",
    "    mode='extended', \n",
    "    show_parameters=True, \n",
    "    display=True\n",
    ") # alternative for print(model.summary()) to get html table"
   ]
  },
  {
   "cell_type": "markdown",
   "metadata": {
    "slideshow": {
     "slide_type": "slide"
    }
   },
   "source": [
    "## Training"
   ]
  },
  {
   "cell_type": "markdown",
   "metadata": {},
   "source": [
    "One should evaluate validation data with **same metric** which is used in actual system evaluation with test set \n",
    "\n",
    "For sound event detection, `keras` does not provide any suitable metric (such as *segment-based error rate (ER)* or *f-score (F1)*)\n",
    "\n",
    "Default `keras` training process needs to be modified by halting it after each epoch:\n",
    "- Validation data is evaluated with current model **outside the training process**\n",
    "- Metric values are stored and used to control the training process (e.g. model selection or early stopping)"
   ]
  },
  {
   "cell_type": "markdown",
   "metadata": {
    "slideshow": {
     "slide_type": "skip"
    }
   },
   "source": [
    "## Callbacks"
   ]
  },
  {
   "cell_type": "code",
   "execution_count": 42,
   "metadata": {
    "slideshow": {
     "slide_type": "skip"
    }
   },
   "outputs": [],
   "source": [
    "epochs = 100\n",
    "keras_metric = 'binary_accuracy'\n",
    "keras_loss = 'binary_crossentropy'\n",
    "metric_to_monitor = 'ER'\n",
    "external_metrics = {\n",
    "    'ER': 'Error rate',\n",
    "    'F1': 'F-score'\n",
    "}\n",
    "\n",
    "callback_list = [\n",
    "    dcase_util.keras.ProgressLoggerCallback(\n",
    "        epochs=epochs,\n",
    "        metric=keras_metric,\n",
    "        loss=keras_loss,\n",
    "        output_type='console',\n",
    "        show_timing=False,\n",
    "        manual_update=True,\n",
    "        external_metric_labels=external_metrics        \n",
    "    ),\n",
    "    #dcase_util.keras.StopperCallback(\n",
    "    #    epochs=epochs,\n",
    "    #    monitor=metric_to_monitor,\n",
    "    #    patience=10,\n",
    "    #    initial_delay=50,\n",
    "    #    min_delta=0,\n",
    "    #    manual_update=True,\n",
    "    #    external_metric_labels=external_metrics\n",
    "    #),\n",
    "    dcase_util.keras.StasherCallback(\n",
    "        epochs=epochs,\n",
    "        monitor=metric_to_monitor,\n",
    "        initial_delay=50,\n",
    "        manual_update=True,\n",
    "        external_metric_labels=external_metrics\n",
    "    )\n",
    "]"
   ]
  },
  {
   "cell_type": "code",
   "execution_count": 43,
   "metadata": {
    "slideshow": {
     "slide_type": "skip"
    }
   },
   "outputs": [],
   "source": [
    "from keras.optimizers import Adam\n",
    "model.compile(\n",
    "    loss=keras_loss,\n",
    "    metrics=[keras_metric],\n",
    "    optimizer=Adam(lr=0.001, decay=0.001)\n",
    ")"
   ]
  },
  {
   "cell_type": "code",
   "execution_count": 44,
   "metadata": {
    "slideshow": {
     "slide_type": "skip"
    }
   },
   "outputs": [
    {
     "name": "stdout",
     "output_type": "stream",
     "text": [
      "X_train shape (571, 40, 250)\n",
      "Y_train shape (571, 250, 6)\n",
      "X_validation shape (268, 40, 250)\n",
      "Y_validation shape (268, 250, 6)\n"
     ]
    }
   ],
   "source": [
    "# Reorder target to fit model\n",
    "Y_train = numpy.moveaxis(Y_train, 1, 2)\n",
    "Y_validation = numpy.moveaxis(Y_validation, 1, 2)\n",
    "\n",
    "print('X_train shape', X_train.shape)\n",
    "print('Y_train shape', Y_train.shape)\n",
    "print('X_validation shape', X_validation.shape)\n",
    "print('Y_validation shape', Y_validation.shape)"
   ]
  },
  {
   "cell_type": "code",
   "execution_count": 45,
   "metadata": {
    "scrolled": true,
    "slideshow": {
     "slide_type": "skip"
    }
   },
   "outputs": [
    {
     "name": "stdout",
     "output_type": "stream",
     "text": [
      "  Training\n",
      "            Loss                      Metric                    Ext. metrics                                  \n",
      "            binary_crossentropy       binary_accuracy                                                         \n",
      "  Epoch     Train        Val          Train        Val          Error rate     F-score       \n",
      "  -------   ----------   ----------   ----------   ----------   ------------   ------------  \n",
      "  1         0.4672       0.3305       0.7875       0.8651       1.0000                       \n",
      "  2         0.4532       0.3481       0.7907       0.8651       1.0000                       \n",
      "  3         0.4412       0.3372       0.7923       0.8654       0.9785         0.0444        \n",
      "  4         0.4306       0.3541       0.7893       0.8651       1.0000                       \n",
      "  5         0.4201       0.3385       0.7949       0.8590       1.0713         0.0460        \n",
      "  6         0.4025       0.3268       0.8055       0.8732       0.8136         0.3560        \n",
      "  7         0.3881       0.3453       0.8180       0.8526       0.9155         0.3012        \n",
      "  8         0.3744       0.3142       0.8298       0.8815       0.7133         0.5398        \n",
      "  9         0.3670       0.3050       0.8358       0.8708       0.7688         0.4955        \n",
      "  10        0.3583       0.3006       0.8401       0.8867       0.6752         0.5399        \n",
      "  11        0.3538       0.2993       0.8442       0.8863       0.6893         0.5411        \n",
      "  12        0.3418       0.3198       0.8508       0.8624       0.8028         0.4807        \n",
      "  13        0.3412       0.3604       0.8495       0.8456       0.9403         0.2639        \n",
      "  14        0.3317       0.2926       0.8570       0.8897       0.7175         0.4938        \n",
      "  15        0.3279       0.2935       0.8548       0.8829       0.7365         0.4954        \n",
      "  16        0.3353       0.3165       0.8521       0.8711       0.8152         0.3975        \n",
      "  17        0.3356       0.2860       0.8532       0.8958       0.6239         0.5601        \n",
      "  18        0.3300       0.2888       0.8572       0.8883       0.6719         0.5124        \n",
      "  19        0.3256       0.2816       0.8585       0.8906       0.7216         0.5067        \n",
      "  20        0.3246       0.3307       0.8597       0.8748       0.7763         0.4060        \n",
      "  21        0.3217       0.2887       0.8619       0.8869       0.6901         0.5055        \n",
      "  22        0.3173       0.3046       0.8624       0.8881       0.6918         0.5003        \n",
      "  23        0.3142       0.3127       0.8639       0.8769       0.7688         0.4094        \n",
      "  24        0.3226       0.3028       0.8616       0.8698       0.7978         0.4670        \n",
      "  25        0.3146       0.2953       0.8650       0.8872       0.6843         0.5659        \n",
      "  26        0.3230       0.6311       0.8586       0.7875       1.2925         0.0368        \n",
      "  27        0.3198       0.2861       0.8647       0.8886       0.6968         0.5212        \n",
      "  28        0.3150       0.2826       0.8642       0.8870       0.7034         0.5106        \n",
      "  29        0.3208       0.2944       0.8605       0.8820       0.7316         0.5016        \n",
      "  30        0.3209       0.2983       0.8588       0.8786       0.7647         0.4845        \n",
      "  31        0.3097       0.2893       0.8644       0.8838       0.7051         0.5185        \n",
      "  32        0.3082       0.2825       0.8672       0.8885       0.6785         0.5416        \n",
      "  33        0.3122       0.2853       0.8656       0.8936       0.6330         0.5613        \n",
      "  34        0.3073       0.2887       0.8662       0.8839       0.6943         0.5434        \n",
      "  35        0.3056       0.2937       0.8682       0.8787       0.7341         0.5170        \n",
      "  36        0.3068       0.2880       0.8671       0.8859       0.6984         0.4975        \n",
      "  37        0.3075       0.2852       0.8641       0.8861       0.7241         0.4993        \n",
      "  38        0.3025       0.2822       0.8697       0.8890       0.6744         0.5421        \n",
      "  39        0.3060       0.2911       0.8658       0.8918       0.6512         0.5394        \n",
      "  40        0.3069       0.2849       0.8674       0.8894       0.6611         0.5675        \n",
      "  41        0.3027       0.2914       0.8704       0.8838       0.6993         0.5494        \n",
      "  42        0.3040       0.2927       0.8689       0.8806       0.7415         0.5307        \n",
      "  43        0.3052       0.2845       0.8677       0.8900       0.6703         0.5712        \n",
      "  44        0.2998       0.3085       0.8685       0.8823       0.7473         0.4452        \n",
      "  45        0.3020       0.2970       0.8683       0.8721       0.8219         0.4811        \n",
      "  46        0.3011       0.2900       0.8693       0.8828       0.6968         0.5594        \n",
      "  47        0.2950       0.2937       0.8704       0.8826       0.7200         0.4985        \n",
      "  48        0.3023       0.2869       0.8695       0.8835       0.7357         0.5093        \n",
      "  49        0.3008       0.2833       0.8666       0.8850       0.7208         0.5323        \n",
      "  50        0.2973       0.2834       0.8704       0.8843       0.7249         0.5166        \n",
      "  51        0.2945       0.2823       0.8733       0.8850       0.7059         0.5355        \n",
      "  52        0.2935       0.2849       0.8745       0.8941       0.6479         0.5465        \n",
      "  53        0.2904       0.3103       0.8760       0.8813       0.7233         0.4881        \n",
      "  54        0.2946       0.2859       0.8744       0.8898       0.6794         0.5325        \n",
      "  55        0.2947       0.2928       0.8743       0.8842       0.6943         0.5669        \n",
      "  56        0.3007       0.2877       0.8707       0.8814       0.7233         0.5427        \n",
      "  57        0.2962       0.2934       0.8705       0.8759       0.7771         0.5222        \n",
      "  58        0.2934       0.2963       0.8728       0.8769       0.7705         0.4751        \n",
      "  59        0.2926       0.3609       0.8744       0.8685       0.8509         0.3227        \n",
      "  60        0.2918       0.2826       0.8727       0.8894       0.7001         0.5146        \n",
      "  61        0.2927       0.2846       0.8721       0.8816       0.7490         0.5113        \n",
      "  62        0.2887       0.3215       0.8795       0.8827       0.7399         0.4638        \n",
      "  63        0.2905       0.2962       0.8743       0.8865       0.7208         0.4881        \n",
      "  64        0.2879       0.2864       0.8785       0.8823       0.7423         0.5078        \n",
      "  65        0.2884       0.3005       0.8771       0.8807       0.7556         0.4979        \n",
      "  66        0.2904       0.2865       0.8741       0.8785       0.7506         0.5343        \n",
      "  67        0.2897       0.2795       0.8772       0.8914       0.7100         0.5194        \n",
      "  68        0.2840       0.3045       0.8769       0.8917       0.6984         0.5074        \n",
      "  69        0.2881       0.2843       0.8770       0.8817       0.7307         0.5311        \n",
      "  70        0.2815       0.3590       0.8792       0.8774       0.7954         0.4171        \n",
      "  71        0.2825       0.2844       0.8783       0.8900       0.7109         0.5180        \n",
      "  72        0.2900       0.2951       0.8748       0.8875       0.7283         0.4886        \n",
      "  73        0.2820       0.2989       0.8828       0.8779       0.7804         0.4618        \n",
      "  74        0.2848       0.2888       0.8798       0.8801       0.7722         0.4899        \n",
      "  75        0.2796       0.3251       0.8813       0.8872       0.7581         0.4546        \n",
      "  76        0.2831       0.2944       0.8794       0.8694       0.8103         0.4893        \n",
      "  77        0.2792       0.2939       0.8809       0.8862       0.7415         0.4891        \n",
      "  78        0.2830       0.4049       0.8788       0.8586       0.8956         0.3435        \n",
      "  79        0.2850       0.2920       0.8780       0.8733       0.7954         0.4946        \n",
      "  80        0.2761       0.2856       0.8819       0.8704       0.8202         0.4758        \n",
      "  81        0.2785       0.2911       0.8836       0.8876       0.7125         0.5335        \n",
      "  82        0.2758       0.2966       0.8795       0.8860       0.7365         0.4891        \n",
      "  83        0.2805       0.2901       0.8803       0.8720       0.8144         0.4921        \n",
      "  84        0.2784       0.2879       0.8838       0.8785       0.7912         0.4959        \n",
      "  85        0.2789       0.2961       0.8811       0.8750       0.7987         0.4923        \n",
      "  86        0.2793       0.2930       0.8812       0.8691       0.8318         0.4568        \n",
      "  87        0.2767       0.3000       0.8835       0.8824       0.7556         0.4746        \n",
      "  88        0.2752       0.2879       0.8857       0.8763       0.7838         0.5090        \n",
      "  89        0.2773       0.2805       0.8831       0.8923       0.6893         0.5581        \n",
      "  90        0.2792       0.2877       0.8795       0.8708       0.8194         0.5087        \n",
      "  91        0.2729       0.2894       0.8832       0.8870       0.7241         0.5166        \n",
      "  92        0.2776       0.3023       0.8831       0.8852       0.7531         0.4778        \n",
      "  93        0.2756       0.2876       0.8853       0.8834       0.7597         0.4986        \n",
      "  94        0.2703       0.2924       0.8841       0.8762       0.7730         0.4963        \n",
      "  95        0.2702       0.2928       0.8845       0.8741       0.7804         0.5002        \n",
      "  96        0.2771       0.2970       0.8834       0.8818       0.7606         0.4814        \n",
      "  97        0.2735       0.2886       0.8830       0.8718       0.7904         0.5079        \n",
      "  98        0.2753       0.2857       0.8845       0.8713       0.8219         0.4898        \n",
      "  99        0.2737       0.3086       0.8834       0.8846       0.7531         0.4757        \n"
     ]
    }
   ],
   "source": [
    "# Variable to training history including metrics calculated outside keras\n",
    "history = {\n",
    "    'loss': [],\n",
    "    'val_loss': [],\n",
    "    'val_er': [],\n",
    "    'val_f1': [],\n",
    "}\n",
    "\n",
    "# Do training epoch by epoch\n",
    "for epoch_start in range(0, epochs):\n",
    "    epoch_end = epoch_start + 1\n",
    "\n",
    "    # Make sure we have only specified amount of epochs\n",
    "    if epoch_end > epochs:\n",
    "        epoch_end = epochs\n",
    "\n",
    "    # Train model\n",
    "    model.fit(\n",
    "        x=X_train,\n",
    "        y=Y_train,\n",
    "        validation_data=(X_validation, Y_validation),\n",
    "        callbacks=callback_list,\n",
    "        verbose=0,\n",
    "        initial_epoch=epoch_start,\n",
    "        epochs=epoch_end,\n",
    "        batch_size=8,\n",
    "        shuffle=True\n",
    "    )\n",
    "    \n",
    "    # Initialize evaluator\n",
    "    evaluator = sed_eval.sound_event.SegmentBasedMetrics(\n",
    "        event_label_list=db.event_labels(),\n",
    "        time_resolution=1.0,\n",
    "    )\n",
    "    \n",
    "    # Go through all validation files, do detection and accumulate intermediate statistics for metric calculation\n",
    "    for audio_filename, validation_item in validation_data.items():\n",
    "        # Get input features\n",
    "        input_data = data_sequencer.sequence(validation_item['features']).data\n",
    "        input_data = numpy.moveaxis(input_data, 2, 0)\n",
    "        \n",
    "        # Get per frame probabilities in sequences (3D matrix)\n",
    "        item_probabilities_seq = model.predict(x=input_data)\n",
    "        # Merge sequences together (2D matrix)\n",
    "        item_probabilities = numpy.vstack(item_probabilities_seq)\n",
    "\n",
    "        # Binarization \n",
    "        event_activity = dcase_util.data.ProbabilityEncoder().binarization(\n",
    "            probabilities=item_probabilities,\n",
    "            binarization_type='global_threshold',\n",
    "            threshold=0.5\n",
    "        )\n",
    "        \n",
    "        # Get list of detected events\n",
    "        current_estimated = dcase_util.containers.MetaDataContainer()\n",
    "        for event_id, event_label in enumerate(db.event_labels()):\n",
    "            # Convert active frames into segments and translate frame indices into timestamps\n",
    "            event_segments = dcase_util.data.DecisionEncoder().find_contiguous_regions(\n",
    "                activity_array=event_activity[:, event_id]\n",
    "            ) * 0.02\n",
    "\n",
    "            # Form event items\n",
    "            for event in event_segments:\n",
    "                current_estimated.append(\n",
    "                    {\n",
    "                        'filename': db.absolute_to_relative_path(audio_filename),\n",
    "                        'onset': event[0],\n",
    "                        'offset': event[1],\n",
    "                        'event_label': event_label\n",
    "                    }\n",
    "                )\n",
    "                \n",
    "        # Accumulate evaluator with current file\n",
    "        evaluator.evaluate(\n",
    "            reference_event_list=validation_item['meta'],\n",
    "            estimated_event_list=current_estimated\n",
    "        )\n",
    "\n",
    "    # Calculate metrics\n",
    "    overall_metrics = evaluator.results_overall_metrics()\n",
    "    er = overall_metrics['error_rate']['error_rate']\n",
    "    fscore = overall_metrics['f_measure']['f_measure']\n",
    "\n",
    "    # Inject external metric values to the callbacks\n",
    "    for callback in callback_list:\n",
    "        if hasattr(callback, 'set_external_metric_value'):\n",
    "            callback.set_external_metric_value(\n",
    "                metric_label='ER',\n",
    "                metric_value=er\n",
    "            )\n",
    "            callback.set_external_metric_value(\n",
    "                metric_label='F1',\n",
    "                metric_value=fscore\n",
    "            )\n",
    "\n",
    "    # Store metrics\n",
    "    history['loss'].append(model.history.history['loss'])\n",
    "    history['val_loss'].append(model.history.history['val_loss'])\n",
    "    history['val_er'].append(er)\n",
    "    history['val_f1'].append(fscore)\n",
    "\n",
    "    # Manually update callbacks\n",
    "    for callback in callback_list:\n",
    "        if hasattr(callback, 'update'):\n",
    "            callback.update()\n",
    "\n",
    "    # Check if we need to stop training\n",
    "    stop_training = False\n",
    "    for callback in callback_list:\n",
    "        if hasattr(callback, 'stop'):\n",
    "            if callback.stop():\n",
    "                stop_training = True\n",
    "                break\n",
    "\n",
    "    if stop_training:\n",
    "        # Stop the training loop\n",
    "        break\n",
    "\n",
    "# Manually update callbacks\n",
    "for callback in callback_list:\n",
    "    if hasattr(callback, 'close'):\n",
    "        callback.close()"
   ]
  },
  {
   "cell_type": "markdown",
   "metadata": {
    "slideshow": {
     "slide_type": "skip"
    }
   },
   "source": [
    "## Best performing model\n",
    "\n",
    "Best performing model was stored during the training process in `StasherCallback`:"
   ]
  },
  {
   "cell_type": "code",
   "execution_count": 46,
   "metadata": {
    "slideshow": {
     "slide_type": "skip"
    }
   },
   "outputs": [
    {
     "data": {
      "text/html": [
       "<div class=\"label label-primary\" style=\"margin-bottom:5px;margin-top:5px;display:inline-block;margin-left:0px;\">StasherCallback</div>\n",
       "<div class=\"row row-no-gutters clearfix\" style=\"background-color: #F9F9F966;\"><div class=\"col-md-4 col-xs-6\" style=\"padding-left:0px;\">Best model weights at epoch<span class=\"pull-right text-muted\" style=\"padding-right:5px;\">:</span></div><div class=\"col-md-8 col-xs-6\">52 </div></div>\n",
       "<div class=\"row row-no-gutters clearfix\" style=\"background-color: #F1F1F166;\"><div class=\"col-md-4 col-xs-6\" style=\"padding-left:20px;\">Metric type<span class=\"pull-right text-muted\" style=\"padding-right:5px;\">:</span></div><div class=\"col-md-8 col-xs-6\">ER </div></div>\n",
       "<div class=\"row row-no-gutters clearfix\" style=\"background-color: #F9F9F966;\"><div class=\"col-md-4 col-xs-6\" style=\"padding-left:20px;\">Metric value<span class=\"pull-right text-muted\" style=\"padding-right:5px;\">:</span></div><div class=\"col-md-8 col-xs-6\">0.65 </div></div>\n",
       "<div class=\"row clearfix\" style=\"background-color: #F1F1F166;\"><div class=\"col-md-12\" style=\"padding:2px;font-size:100%;font-weight:bold\">&nbsp;</div></div>"
      ],
      "text/plain": [
       "<IPython.core.display.HTML object>"
      ]
     },
     "metadata": {},
     "output_type": "display_data"
    }
   ],
   "source": [
    "for callback in callback_list:\n",
    "    if isinstance(callback, dcase_util.keras.StasherCallback):                \n",
    "        model.set_weights(callback.get_best()['weights'])       # Fetch the best performing model        \n",
    "        callback.show()                                         # Show information\n",
    "        break"
   ]
  },
  {
   "cell_type": "markdown",
   "metadata": {
    "slideshow": {
     "slide_type": "skip"
    }
   },
   "source": [
    "Save model and training history:"
   ]
  },
  {
   "cell_type": "code",
   "execution_count": 47,
   "metadata": {
    "slideshow": {
     "slide_type": "skip"
    }
   },
   "outputs": [],
   "source": [
    "# Save model\n",
    "model.save(model_filename)\n",
    "\n",
    "# Save training history\n",
    "dcase_util.files.Serializer().save_cpickle(\n",
    "    filename=os.path.join(data_storage_path, 'model_sed_training_history.cpickle'),\n",
    "    data=history\n",
    ")"
   ]
  },
  {
   "cell_type": "markdown",
   "metadata": {
    "hide_input": true,
    "slideshow": {
     "slide_type": "slide"
    }
   },
   "source": [
    "## Training history"
   ]
  },
  {
   "cell_type": "code",
   "execution_count": 4,
   "metadata": {
    "slideshow": {
     "slide_type": "skip"
    }
   },
   "outputs": [],
   "source": [
    "hist = dcase_util.files.Serializer().load_cpickle(filename=os.path.join(data_storage_path, 'model_sed_training_history.cpickle'))"
   ]
  },
  {
   "cell_type": "code",
   "execution_count": 57,
   "metadata": {
    "hide_input": true
   },
   "outputs": [
    {
     "data": {
      "image/png": "[encoded data removed]",
      "text/plain": [
       "<Figure size 1368x576 with 3 Axes>"
      ]
     },
     "metadata": {
      "needs_background": "light"
     },
     "output_type": "display_data"
    }
   ],
   "source": [
    "epochs = range(1, len(hist['loss']) + 1)\n",
    "fig = plt.figure(figsize=(19,8))\n",
    "\n",
    "plt.subplot(3,1,1)\n",
    "plt.plot(epochs, hist['loss'], color='red', linewidth=3, label='Training loss')\n",
    "#plt.plot(epochs, hist['val_loss'], color='green', linewidth=3, label='Validation loss')\n",
    "plt.fill_between(epochs, numpy.squeeze(numpy.array(hist['val_loss'])), color='#6aa84f', linewidth=3, label='Validation loss')\n",
    "plt.ylabel('Loss', fontsize=18)\n",
    "plt.legend(loc='best', fontsize=16)\n",
    "panel = plt.gca()\n",
    "panel.set_xlim([1,len(hist['loss']) + 1])\n",
    "panel.get_xaxis().set_visible(False)\n",
    "\n",
    "plt.subplot(3,1,2)\n",
    "plt.fill_between(epochs, hist['val_er'], color='#e69138', linewidth=3, label='Error rate')\n",
    "plt.axhline(y=1, color='red', linestyle='-', linewidth=5, alpha=0.2)\n",
    "plt.ylabel('Error rate', fontsize=18)\n",
    "er_min_index = numpy.argmin(hist['val_er'][50:])+50\n",
    "plt.axhline(hist['val_er'][er_min_index], color='green', linestyle='-', linewidth=5, alpha=0.5) #'o', markersize=10, color='red')\n",
    "plt.annotate('Minimum achieved ER value', xy=(len(hist['loss']),hist['val_er'][er_min_index]-0.15), fontsize=14, ha='right')\n",
    "plt.annotate('ER=1.0', xy=(len(hist['loss']),1+0.05), fontsize=14, ha='right')\n",
    "panel = plt.gca()\n",
    "panel.set_xlim([1,len(hist['loss']) + 1])\n",
    "panel.get_xaxis().set_visible(False)\n",
    "\n",
    "plt.subplot(3,1,3)\n",
    "plt.fill_between(epochs, hist['val_f1'], color='#f1c232', linewidth=3, label='F-score')\n",
    "plt.ylabel('F-score', fontsize=18)\n",
    "plt.xlabel('Epochs', fontsize=18)\n",
    "panel = plt.gca()\n",
    "panel.set_xlim([1,len(hist['loss']) + 1])\n",
    "plt.tight_layout()\n",
    "plt.show()"
   ]
  },
  {
   "cell_type": "markdown",
   "metadata": {
    "hide_input": false,
    "slideshow": {
     "slide_type": "slide"
    }
   },
   "source": [
    "# Testing stage"
   ]
  },
  {
   "cell_type": "code",
   "execution_count": 50,
   "metadata": {
    "slideshow": {
     "slide_type": "skip"
    }
   },
   "outputs": [],
   "source": [
    "model = keras.models.load_model(model_filename) # Load model\n",
    "\n",
    "# Feature extractor and data sequencer are initialized here also to be able to run only testing stage.\n",
    "mel_extractor = dcase_util.features.MelExtractor(\n",
    "    n_mels=40, \n",
    "    win_length_seconds=0.04,  # 40 ms \n",
    "    hop_length_seconds=0.02,  # 20 ms\n",
    "    fs=44100\n",
    ")\n",
    "\n",
    "sequence_length = 250                              # 5s/0.02s=250 frames\n",
    "data_sequencer = dcase_util.data.Sequencer(\n",
    "    sequence_length=sequence_length\n",
    ") \n",
    "\n",
    "current_fold = 1"
   ]
  },
  {
   "cell_type": "markdown",
   "metadata": {},
   "source": [
    "**Extract features** for a test item:"
   ]
  },
  {
   "cell_type": "code",
   "execution_count": 51,
   "metadata": {},
   "outputs": [],
   "source": [
    "item = db.test(fold=1)[0]\n",
    "# Extract features\n",
    "features = mel_extractor.extract(\n",
    "    dcase_util.containers.AudioContainer().load(filename=item.filename, mono=True)\n",
    ")\n",
    "# Split feature matrix into sequences\n",
    "features_sequenced = data_sequencer.sequence(features).data # (40, 250, 48)\n",
    "# Reshape matrix to have sequences at first axis\n",
    "input_data = numpy.moveaxis(features_sequenced, 2, 0)"
   ]
  },
  {
   "cell_type": "code",
   "execution_count": 52,
   "metadata": {
    "hide_input": true
   },
   "outputs": [
    {
     "name": "stdout",
     "output_type": "stream",
     "text": [
      "input_data shape (sequence, frequency, time) (48, 40, 250)\n"
     ]
    }
   ],
   "source": [
    "print('input_data shape', '(sequence, frequency, time)', input_data.shape)"
   ]
  },
  {
   "cell_type": "code",
   "execution_count": 53,
   "metadata": {
    "hide_input": true
   },
   "outputs": [
    {
     "data": {
      "image/png": "[encoded data removed]",
      "text/plain": [
       "<Figure size 1296x144 with 48 Axes>"
      ]
     },
     "metadata": {},
     "output_type": "display_data"
    }
   ],
   "source": [
    "fig, axes = plt.subplots(1, input_data.shape[0], figsize=(18, 2))\n",
    "fig.subplots_adjust(top=1.0, bottom=0.0, right=1.0, hspace=0.00, wspace=0.2)\n",
    "for i in range(input_data.shape[0]):\n",
    "    current_sequence = input_data[i,:,:]\n",
    "    plt.sca(axes[i])\n",
    "    dcase_util.containers.FeatureContainer(current_sequence).plot(plot=False)"
   ]
  },
  {
   "cell_type": "markdown",
   "metadata": {
    "slideshow": {
     "slide_type": "slide"
    }
   },
   "source": [
    "Feed features into model to get probabilities for each event class per frame:"
   ]
  },
  {
   "cell_type": "code",
   "execution_count": 54,
   "metadata": {},
   "outputs": [],
   "source": [
    "# Get per frame probabilities in sequences (3D matrix)\n",
    "item_probabilities_seq = model.predict(x=input_data)       \n",
    "\n",
    "# Merge sequences together (2D matrix)\n",
    "item_probabilities = numpy.vstack(item_probabilities_seq)"
   ]
  },
  {
   "cell_type": "code",
   "execution_count": 55,
   "metadata": {
    "hide_input": true
   },
   "outputs": [
    {
     "name": "stdout",
     "output_type": "stream",
     "text": [
      "item_probabilities shape (time, classes) (12000, 6)\n"
     ]
    }
   ],
   "source": [
    "print('item_probabilities shape', '(time, classes)', item_probabilities.shape)"
   ]
  },
  {
   "cell_type": "code",
   "execution_count": 56,
   "metadata": {
    "hide_input": true
   },
   "outputs": [
    {
     "data": {
      "image/png": "[encoded data removed]",
      "text/plain": [
       "<Figure size 1296x432 with 1 Axes>"
      ]
     },
     "metadata": {
      "needs_background": "light"
     },
     "output_type": "display_data"
    }
   ],
   "source": [
    "plt.figure(figsize=(18,6))\n",
    "plt.imshow(item_probabilities.T, aspect='auto', cmap=plt.cm.gray_r, origin='lower')\n",
    "axes = plt.gca()\n",
    "axes.axes.get_xaxis().set_visible(False)\n",
    "axes.axes.get_yaxis().set_visible(False)\n",
    "plt.show()"
   ]
  },
  {
   "cell_type": "markdown",
   "metadata": {
    "slideshow": {
     "slide_type": "slide"
    }
   },
   "source": [
    "**Event activities** per frame (event roll) are acquired by thresholding probability matrix with 0.5:"
   ]
  },
  {
   "cell_type": "code",
   "execution_count": 57,
   "metadata": {},
   "outputs": [],
   "source": [
    "event_activity = dcase_util.data.ProbabilityEncoder().binarization(\n",
    "    probabilities=item_probabilities, \n",
    "    threshold=0.5,\n",
    "    binarization_type='global_threshold'\n",
    ")"
   ]
  },
  {
   "cell_type": "code",
   "execution_count": 58,
   "metadata": {
    "hide_input": true
   },
   "outputs": [
    {
     "data": {
      "image/png": "[encoded data removed]",
      "text/plain": [
       "<Figure size 1296x432 with 1 Axes>"
      ]
     },
     "metadata": {
      "needs_background": "light"
     },
     "output_type": "display_data"
    }
   ],
   "source": [
    "plt.figure(figsize=(18,6))\n",
    "plt.imshow(event_activity.T, aspect='auto',cmap=plt.cm.gray_r, origin='lower')\n",
    "axes = plt.gca()\n",
    "axes.axes.get_xaxis().set_visible(False)\n",
    "axes.axes.get_yaxis().set_visible(False)\n",
    "plt.show()"
   ]
  },
  {
   "cell_type": "markdown",
   "metadata": {
    "slideshow": {
     "slide_type": "slide"
    }
   },
   "source": [
    "**Event list** is formed from event activity matrix by finding contiguous regions per class:"
   ]
  },
  {
   "cell_type": "code",
   "execution_count": 59,
   "metadata": {},
   "outputs": [],
   "source": [
    "current_estimated = dcase_util.containers.MetaDataContainer()\n",
    "# Process per event class\n",
    "for event_id, event_label in enumerate(db.event_labels()):\n",
    "    # Get active segments with start and stop frame index\n",
    "    event_segments = dcase_util.data.DecisionEncoder().find_contiguous_regions(\n",
    "        activity_array=event_activity[:, event_id]\n",
    "    )\n",
    "    # Translate frame indices into timestamps\n",
    "    event_segments = event_segments * mel_extractor.hop_length_seconds\n",
    "    # Loop through found active segments and create events\n",
    "    for event in event_segments:\n",
    "        current_estimated.append({\n",
    "                'filename': db.absolute_to_relative_path(item.filename),\n",
    "                'onset': event[0],\n",
    "                'offset': event[1],\n",
    "                'event_label': event_label\n",
    "        })\n",
    "# Merge events together from same class which are within 100ms\n",
    "current_estimated = current_estimated.process_events(minimum_event_gap=0.1)\n",
    "# Remove events which are < 100ms \n",
    "current_estimated = current_estimated.process_events(minimum_event_length=0.250)"
   ]
  },
  {
   "cell_type": "markdown",
   "metadata": {
    "slideshow": {
     "slide_type": "slide"
    }
   },
   "source": [
    "**System output** versus **Reference**"
   ]
  },
  {
   "cell_type": "code",
   "execution_count": 60,
   "metadata": {
    "hide_input": true
   },
   "outputs": [
    {
     "data": {
      "image/png": "[encoded data removed]",
      "text/plain": [
       "<Figure size 1584x720 with 2 Axes>"
      ]
     },
     "metadata": {
      "needs_background": "light"
     },
     "output_type": "display_data"
    }
   ],
   "source": [
    "fig, axes = plt.subplots(2, 1, figsize=(22, 10))\n",
    "fig.subplots_adjust(top=1.0, bottom=0.0, right=1.0, hspace=0.10, wspace=0.00)\n",
    "plt.sca(axes[0])\n",
    "current_estimated.to_event_roll(label_list=db.event_labels()).plot(\n",
    "    figsize=(18,3), color='blue', plot=False, panel_title='System output'\n",
    ")\n",
    "axes[0].get_xaxis().set_visible(False)\n",
    "plt.sca(axes[1])\n",
    "current_meta = db.meta.filter(filename=item.filename)\n",
    "current_meta.to_event_roll(label_list=db.event_labels()).plot(\n",
    "    figsize=(18,3), color='green', plot=False, panel_title='Reference'\n",
    ")"
   ]
  },
  {
   "cell_type": "markdown",
   "metadata": {
    "hide_input": true,
    "slideshow": {
     "slide_type": "skip"
    }
   },
   "source": [
    "## Going through all test material"
   ]
  },
  {
   "cell_type": "code",
   "execution_count": 89,
   "metadata": {
    "slideshow": {
     "slide_type": "skip"
    }
   },
   "outputs": [
    {
     "data": {
      "application/vnd.jupyter.widget-view+json": {
       "model_id": "4de8c2b68f144caf9ec65ade65695341",
       "version_major": 2,
       "version_minor": 0
      },
      "text/plain": [
       "HBox(children=(IntProgress(value=0, max=6), HTML(value='')))"
      ]
     },
     "metadata": {},
     "output_type": "display_data"
    },
    {
     "name": "stdout",
     "output_type": "stream",
     "text": [
      "\n"
     ]
    },
    {
     "data": {
      "text/html": [
       "<div class=\"label label-primary\" style=\"margin-bottom:5px;margin-top:5px;display:inline-block;margin-left:0px;\">MetaDataContainer</div>\n",
       "<div class=\"row row-no-gutters clearfix\" style=\"background-color: #F9F9F966;\"><div class=\"col-md-4 col-xs-6\" style=\"padding-left:0px;\">Filename<span class=\"pull-right text-muted\" style=\"padding-right:5px;\">:</span></div><div class=\"col-md-8 col-xs-6\">data/results_sed.csv </div></div>\n",
       "<div class=\"row row-no-gutters clearfix\" style=\"background-color: #F1F1F166;\"><div class=\"col-md-4 col-xs-6\" style=\"padding-left:0px;\">Items<span class=\"pull-right text-muted\" style=\"padding-right:5px;\">:</span></div><div class=\"col-md-8 col-xs-6\">94 </div></div>\n",
       "<div class=\"row clearfix\" style=\"\"><div class=\"col-md-12\" style=\"padding:2px;font-size:100%;font-weight:bold\">Unique</div></div>\n",
       "<div class=\"row row-no-gutters clearfix\" style=\"background-color: #F1F1F166;\"><div class=\"col-md-4 col-xs-6\" style=\"padding-left:20px;\">Files<span class=\"pull-right text-muted\" style=\"padding-right:5px;\">:</span></div><div class=\"col-md-8 col-xs-6\">6 </div></div>\n",
       "<div class=\"row row-no-gutters clearfix\" style=\"background-color: #F9F9F966;\"><div class=\"col-md-4 col-xs-6\" style=\"padding-left:20px;\">Scene labels<span class=\"pull-right text-muted\" style=\"padding-right:5px;\">:</span></div><div class=\"col-md-8 col-xs-6\">0 </div></div>\n",
       "<div class=\"row row-no-gutters clearfix\" style=\"background-color: #F1F1F166;\"><div class=\"col-md-4 col-xs-6\" style=\"padding-left:20px;\">Event labels<span class=\"pull-right text-muted\" style=\"padding-right:5px;\">:</span></div><div class=\"col-md-8 col-xs-6\">5 </div></div>\n",
       "<div class=\"row row-no-gutters clearfix\" style=\"background-color: #F9F9F966;\"><div class=\"col-md-4 col-xs-6\" style=\"padding-left:20px;\">Tags<span class=\"pull-right text-muted\" style=\"padding-right:5px;\">:</span></div><div class=\"col-md-8 col-xs-6\">0 </div></div>\n",
       "<div class=\"row row-no-gutters clearfix\" style=\"background-color: #F1F1F166;\"><div class=\"col-md-4 col-xs-6\" style=\"padding-left:20px;\">Identifiers<span class=\"pull-right text-muted\" style=\"padding-right:5px;\">:</span></div><div class=\"col-md-8 col-xs-6\">0 </div></div>\n",
       "<div class=\"row row-no-gutters clearfix\" style=\"background-color: #F9F9F966;\"><div class=\"col-md-4 col-xs-6\" style=\"padding-left:20px;\">Source labels<span class=\"pull-right text-muted\" style=\"padding-right:5px;\">:</span></div><div class=\"col-md-8 col-xs-6\">0 </div></div>\n",
       "\n",
       "<div class=\"row clearfix\" style=\"background-color: #F1F1F166;\"><div class=\"col-md-12\" style=\"padding:2px;font-size:100%;font-weight:bold\">Event statistics</div></div>\n",
       "<table class=\"table table-striped table-condensed\" style=\"font-size:110%;width:auto;margin-top:0em;margin-left:20px;\"><thead style=\"border-bottom: 0px solid transparent;\"><tr><th style=\"width:200px;border-bottom:2px solid #333;text-align:left;\">Event label</th><th style=\"width:60px;border-bottom:2px solid #333;text-align:right;\">Count</th><th style=\"width:110px;border-bottom:2px solid #333;text-align:right;\">Tot. Length</th><th style=\"width:110px;border-bottom:2px solid #333;text-align:right;\">Avg. Length</th></tr></thead><tbody><tr><td style=\"text-align:left;\">car</td><td style=\"text-align:right;\">51</td><td style=\"text-align:right;\">602.90</td><td style=\"text-align:right;\"> 11.82</td></tr><tr><td style=\"text-align:left;\">children</td><td style=\"text-align:right;\">14</td><td style=\"text-align:right;\">140.90</td><td style=\"text-align:right;\"> 10.06</td></tr><tr><td style=\"text-align:left;\">large vehicle</td><td style=\"text-align:right;\">7</td><td style=\"text-align:right;\">  6.84</td><td style=\"text-align:right;\">  0.98</td></tr><tr><td style=\"text-align:left;\">people speaking</td><td style=\"text-align:right;\">14</td><td style=\"text-align:right;\">130.32</td><td style=\"text-align:right;\">  9.31</td></tr><tr><td style=\"text-align:left;\">people walking</td><td style=\"text-align:right;\">8</td><td style=\"text-align:right;\"> 17.92</td><td style=\"text-align:right;\">  2.24</td></tr></tbody></table>\n"
      ],
      "text/plain": [
       "<IPython.core.display.HTML object>"
      ]
     },
     "metadata": {},
     "output_type": "display_data"
    }
   ],
   "source": [
    "res = dcase_util.containers.MetaDataContainer(filename=os.path.join(data_storage_path, 'results_sed.csv'))\n",
    "\n",
    "for item in tqdm(db.test(fold=current_fold)):\n",
    "    # Load features\n",
    "    features = get_feature_matrix(item.filename)\n",
    "    features_sequenced = data_sequencer.sequence(features).data\n",
    "    input_data = numpy.moveaxis(features_sequenced, 2, 0) # Rearrange axes => (sequence, feature vector, time)\n",
    "    \n",
    "    # Get network output\n",
    "    item_probabilities_seq = model.predict(x=input_data)        # Get per frame probabilities in sequences (3D matrix)\n",
    "    item_probabilities = numpy.vstack(item_probabilities_seq)   # Merge sequences together (2D matrix)\n",
    "\n",
    "    # Event activity\n",
    "    event_activity = dcase_util.data.ProbabilityEncoder().binarization(\n",
    "        probabilities=item_probabilities,\n",
    "        binarization_type='global_threshold',\n",
    "        threshold=0.5\n",
    "    )\n",
    "    current_estimated = dcase_util.containers.MetaDataContainer()\n",
    "    for event_id, event_label in enumerate(db.event_labels()):\n",
    "        # Convert active frames into segments and translate frame indices into timestamps\n",
    "        event_segments = dcase_util.data.DecisionEncoder().find_contiguous_regions(\n",
    "            activity_array=event_activity[:, event_id]\n",
    "        ) * 0.02\n",
    "\n",
    "        # Form event items\n",
    "        for event in event_segments:\n",
    "            current_estimated.append(\n",
    "                {\n",
    "                    'filename': db.absolute_to_relative_path(item.filename),\n",
    "                    'onset': event[0],\n",
    "                    'offset': event[1],\n",
    "                    'event_label': event_label\n",
    "                }\n",
    "            )\n",
    "            \n",
    "        # Merge events together from same class which are within 100ms\n",
    "        current_estimated = current_estimated.process_events(minimum_event_gap=0.1)\n",
    "        # Remove events which are < 100ms \n",
    "        current_estimated = current_estimated.process_events(minimum_event_length=0.1)\n",
    "        \n",
    "    # Store result into results container\n",
    "    res += current_estimated\n",
    "    \n",
    "# Save results container\n",
    "res.save().show()"
   ]
  },
  {
   "cell_type": "markdown",
   "metadata": {
    "slideshow": {
     "slide_type": "slide"
    }
   },
   "source": [
    "# Evaluation\n",
    "\n",
    "`sed_eval` toolbox is used to get Error rate and F-score for test set:"
   ]
  },
  {
   "cell_type": "code",
   "execution_count": 90,
   "metadata": {
    "slideshow": {
     "slide_type": "skip"
    }
   },
   "outputs": [],
   "source": [
    "res = dcase_util.containers.MetaDataContainer().load(filename=os.path.join(data_storage_path, 'results_sed.csv'))"
   ]
  },
  {
   "cell_type": "markdown",
   "metadata": {
    "slideshow": {
     "slide_type": "skip"
    }
   },
   "source": [
    "## Preparing data for evaluation"
   ]
  },
  {
   "cell_type": "markdown",
   "metadata": {
    "slideshow": {
     "slide_type": "skip"
    }
   },
   "source": [
    "Prepare reference data and estimated to have filenames in uniform format:"
   ]
  },
  {
   "cell_type": "code",
   "execution_count": 91,
   "metadata": {
    "slideshow": {
     "slide_type": "skip"
    }
   },
   "outputs": [],
   "source": [
    "reference_event_list = db.eval(fold=current_fold)\n",
    "estimated_event_list = dcase_util.containers.MetaDataContainer(\n",
    "    filename=os.path.join(data_storage_path, 'results_sed.csv')\n",
    ").load()\n",
    "for item_id, item in enumerate(reference_event_list):\n",
    "    reference_event_list[item_id]['filename'] = os.path.split(item.filename)[-1]\n",
    "for item_id, item in enumerate(estimated_event_list):\n",
    "    estimated_event_list[item_id]['filename'] = os.path.split(item.filename)[-1]    "
   ]
  },
  {
   "cell_type": "code",
   "execution_count": 92,
   "metadata": {},
   "outputs": [],
   "source": [
    "# Initialize evaluator with list of event labels to be evaluated and segment length\n",
    "evaluator = sed_eval.sound_event.SegmentBasedMetrics(\n",
    "    event_label_list=db.event_labels(), \n",
    "    time_resolution=1.0                     # 1 second segments\n",
    ")\n",
    "# Loop file by file and accumulate intermediate statistics\n",
    "for filename in reference_event_list.unique_files:\n",
    "    evaluator.evaluate(\n",
    "        reference_event_list=reference_event_list.filter(filename=filename),\n",
    "        estimated_event_list=estimated_event_list.filter(filename=filename)\n",
    "    ) \n",
    "metrics = evaluator.results_overall_metrics()"
   ]
  },
  {
   "cell_type": "markdown",
   "metadata": {
    "slideshow": {
     "slide_type": "slide"
    }
   },
   "source": [
    "## Metric values"
   ]
  },
  {
   "cell_type": "code",
   "execution_count": 93,
   "metadata": {
    "hide_input": false,
    "slideshow": {
     "slide_type": "skip"
    }
   },
   "outputs": [
    {
     "name": "stdout",
     "output_type": "stream",
     "text": [
      "Segment based metrics\n",
      "========================================\n",
      "  Evaluated length                  : 1290.91 sec\n",
      "  Evaluated files                   : 6 \n",
      "  Segment length                    : 1.00 sec\n",
      "\n",
      "  Overall metrics (micro-average)\n",
      "  ======================================\n",
      "  F-measure\n",
      "    F-measure (F1)                  : 39.45 %\n",
      "    Precision                       : 40.89 %\n",
      "    Recall                          : 38.10 %\n",
      "  Error rate\n",
      "    Error rate (ER)                 : 1.01 \n",
      "    Substitution rate               : 0.16 \n",
      "    Deletion rate                   : 0.46 \n",
      "    Insertion rate                  : 0.39 \n",
      "  Accuracy\n",
      "    Sensitivity                     : 38.10 %\n",
      "    Specificity                     : 91.78 %\n",
      "    Balanced accuracy               : 64.94 %\n",
      "    Accuracy                        : 84.80 %\n",
      "\n",
      "  Class-wise average metrics (macro-average)\n",
      "  ======================================\n",
      "  F-measure\n",
      "    F-measure (F1)                  : 16.92 %\n",
      "    Precision                       : 33.74 %\n",
      "    Recall                          : 16.75 %\n",
      "  Error rate\n",
      "    Error rate (ER)                 : 1.97 \n",
      "    Deletion rate                   : 0.83 \n",
      "    Insertion rate                  : 1.14 \n",
      "  Accuracy\n",
      "    Sensitivity                     : 16.75 %\n",
      "    Specificity                     : 91.13 %\n",
      "    Balanced accuracy               : 53.94 %\n",
      "    Accuracy                        : 84.80 %\n",
      "  \n",
      "\n",
      "  Class-wise metrics\n",
      "  ======================================\n",
      "    Event label  | Nref    Nsys  | F        Pre      Rec    | ER       Del      Ins    | Sens     Spec     Bacc     Acc     \n",
      "    ------------ | -----   ----- | ------   ------   ------ | ------   ------   ------ | ------   ------   ------   ------  \n",
      "    brakes squ.. | 35      0     | nan%     nan%     0.0%   | 1.00     1.00     0.00   | 0.0%     100.0%   50.0%    97.3%   \n",
      "    car          | 394     624   | 73.1%    59.6%    94.4%  | 0.70     0.06     0.64   | 94.4%    72.0%    83.2%    78.8%   \n",
      "    children     | 29      147   | 0.0%     0.0%     0.0%   | 6.07     1.00     5.07   | 0.0%     88.4%    44.2%    86.4%   \n",
      "    large vehi.. | 192     10    | 9.9%     100.0%   5.2%   | 0.95     0.95     0.00   | 5.2%     100.0%   52.6%    85.9%   \n",
      "    people spe.. | 131     136   | 0.0%     0.0%     0.0%   | 2.04     1.00     1.04   | 0.0%     88.3%    44.1%    79.4%   \n",
      "    people wal.. | 227     22    | 1.6%     9.1%     0.9%   | 1.08     0.99     0.09   | 0.9%     98.1%    49.5%    81.1%   \n",
      "\n",
      "\n"
     ]
    }
   ],
   "source": [
    "print(evaluator)    "
   ]
  },
  {
   "cell_type": "code",
   "execution_count": 94,
   "metadata": {
    "hide_input": true
   },
   "outputs": [
    {
     "data": {
      "text/html": [
       "<table class=\"table table-striped table-condensed\" style=\"font-size:130%;width:auto;margin-top:0em;margin-left:0px;\"><thead style=\"border-bottom: 0px solid transparent;\"><tr><th style=\"width:200px;border-bottom:2px solid #333;text-align:left;\">Metric</th><th style=\"width:60px;border-bottom:2px solid #333;text-align:right;\">Value</th></tr></thead><tbody><tr><td style=\"text-align:left;\"><strong>F-score</strong></td><td style=\"text-align:right;\"> 39.45</td></tr><tr><td style=\"text-align:left;\">Precision</td><td style=\"text-align:right;\"> 40.89</td></tr><tr><td style=\"text-align:left;\">Recall</td><td style=\"text-align:right;\"> 38.10</td></tr><tr><td style=\"border-top:2px solid #333;text-align:left;\"><strong>Error rate</strong></td><td style=\"border-top:2px solid #333;text-align:right;\">  1.01</td></tr><tr><td style=\"text-align:left;\">Substitutions</td><td style=\"text-align:right;\">  0.16</td></tr><tr><td style=\"text-align:left;\">Deletions</td><td style=\"text-align:right;\">  0.46</td></tr><tr><td style=\"text-align:left;\">Insertions</td><td style=\"text-align:right;\">  0.39</td></tr></tbody></table>"
      ],
      "text/plain": [
       "<IPython.core.display.HTML object>"
      ]
     },
     "metadata": {},
     "output_type": "display_data"
    }
   ],
   "source": [
    "log.table(\n",
    "    column_headers=['Metric', 'Value'],\n",
    "    cell_data=[\n",
    "        [\n",
    "          '<strong>F-score</strong>',\n",
    "          'Precision',\n",
    "          'Recall',\n",
    "          '<strong>Error rate</strong>',\n",
    "            'Substitutions',\n",
    "            'Deletions',\n",
    "            'Insertions'\n",
    "        ],\n",
    "        [\n",
    "            metrics['f_measure']['f_measure']*100.0,\n",
    "            metrics['f_measure']['precision']*100.0,\n",
    "            metrics['f_measure']['recall']*100.0,\n",
    "            metrics['error_rate']['error_rate'],\n",
    "            metrics['error_rate']['substitution_rate'],\n",
    "            metrics['error_rate']['deletion_rate'],\n",
    "            metrics['error_rate']['insertion_rate'],\n",
    "        ]\n",
    "    ],\n",
    "    row_separators=[3],\n",
    "    scaling=130\n",
    ")"
   ]
  },
  {
   "cell_type": "markdown",
   "metadata": {
    "slideshow": {
     "slide_type": "slide"
    }
   },
   "source": [
    "## Class-wise metrics"
   ]
  },
  {
   "cell_type": "code",
   "execution_count": 95,
   "metadata": {
    "hide_input": true
   },
   "outputs": [
    {
     "data": {
      "text/html": [
       "<table class=\"table table-striped table-condensed\" style=\"font-size:130%;width:auto;margin-top:0em;margin-left:0px;\"><thead style=\"border-bottom: 0px solid transparent;\"><tr><th style=\"width:250px;border-bottom:2px solid #333;border-right:2px solid #333;text-align:left;\">Event</th><th style=\"width:60px;border-bottom:2px solid #333;text-align:right;\">Nref</th><th style=\"width:60px;border-bottom:2px solid #333;border-right:2px solid #333;text-align:right;\">Nsys</th><th style=\"width:60px;border-bottom:2px solid #333;text-align:right;\">Fscore</th></tr></thead><tbody><tr><td style=\"border-right:2px solid #333;text-align:left;\">brakes squeaking</td><td style=\"text-align:right;\">35</td><td style=\"border-right:2px solid #333;text-align:right;\">0</td><td style=\"text-align:right;\">   nan</td></tr><tr><td style=\"border-right:2px solid #333;text-align:left;\">car</td><td style=\"text-align:right;\">394</td><td style=\"border-right:2px solid #333;text-align:right;\">624</td><td style=\"text-align:right;\"> 73.08</td></tr><tr><td style=\"border-right:2px solid #333;text-align:left;\">children</td><td style=\"text-align:right;\">29</td><td style=\"border-right:2px solid #333;text-align:right;\">147</td><td style=\"text-align:right;\">  0.00</td></tr><tr><td style=\"border-right:2px solid #333;text-align:left;\">large vehicle</td><td style=\"text-align:right;\">192</td><td style=\"border-right:2px solid #333;text-align:right;\">10</td><td style=\"text-align:right;\">  9.90</td></tr><tr><td style=\"border-right:2px solid #333;text-align:left;\">people speaking</td><td style=\"text-align:right;\">131</td><td style=\"border-right:2px solid #333;text-align:right;\">136</td><td style=\"text-align:right;\">  0.00</td></tr><tr><td style=\"border-right:2px solid #333;text-align:left;\">people walking</td><td style=\"text-align:right;\">227</td><td style=\"border-right:2px solid #333;text-align:right;\">22</td><td style=\"text-align:right;\">  1.61</td></tr></tbody></table>"
      ],
      "text/plain": [
       "<IPython.core.display.HTML object>"
      ]
     },
     "metadata": {},
     "output_type": "display_data"
    }
   ],
   "source": [
    "class_metrics = evaluator.results_class_wise_metrics()\n",
    "Nref = []\n",
    "Nsys = []\n",
    "Fscore=[]\n",
    "for event_label in list(class_metrics.keys()):\n",
    "    Nref.append(class_metrics[event_label]['count']['Nref'])\n",
    "    Nsys.append(class_metrics[event_label]['count']['Nsys'])\n",
    "    Fscore.append(class_metrics[event_label]['f_measure']['f_measure']*100.0)\n",
    "log.table(\n",
    "    column_headers=['Event', 'Nref', 'Nsys', 'Fscore'],\n",
    "    cell_data=[\n",
    "        list(class_metrics.keys()),Nref,Nsys,Fscore\n",
    "    ],\n",
    "    column_types=['str25', 'int', 'int', 'float2'],\n",
    "    column_separators=[0,2],\n",
    "    scaling=130\n",
    ")"
   ]
  }
 ],
 "metadata": {
  "celltoolbar": "Slideshow",
  "kernelspec": {
   "display_name": "Python 3",
   "language": "python",
   "name": "python3"
  },
  "language_info": {
   "codemirror_mode": {
    "name": "ipython",
    "version": 3
   },
   "file_extension": ".py",
   "mimetype": "text/x-python",
   "name": "python",
   "nbconvert_exporter": "python",
   "pygments_lexer": "ipython3",
   "version": "3.6.8"
  },
  "varInspector": {
   "cols": {
    "lenName": 16,
    "lenType": 16,
    "lenVar": 40
   },
   "kernels_config": {
    "python": {
     "delete_cmd_postfix": "",
     "delete_cmd_prefix": "del ",
     "library": "var_list.py",
     "varRefreshCmd": "print(var_dic_list())"
    },
    "r": {
     "delete_cmd_postfix": ") ",
     "delete_cmd_prefix": "rm(",
     "library": "var_list.r",
     "varRefreshCmd": "cat(var_dic_list()) "
    }
   },
   "types_to_exclude": [
    "module",
    "function",
    "builtin_function_or_method",
    "instance",
    "_Feature"
   ],
   "window_display": false
  },
  "widgets": {
   "application/vnd.jupyter.widget-state+json": {
    "state": {
     "000e6f07938e47a1a76bbae1b562663d": {
      "model_module": "@jupyter-widgets/controls",
      "model_module_version": "1.4.0",
      "model_name": "ProgressStyleModel",
      "state": {
       "description_width": ""
      }
     },
     "00ca84f7f36044d394c87df4294b7187": {
      "model_module": "@jupyter-widgets/base",
      "model_module_version": "1.1.0",
      "model_name": "LayoutModel",
      "state": {}
     },
     "011db61bc6a74c2f95beb18528150e38": {
      "model_module": "@jupyter-widgets/base",
      "model_module_version": "1.1.0",
      "model_name": "LayoutModel",
      "state": {}
     },
     "03749b0b134f4b9fb29fde8567c53001": {
      "model_module": "@jupyter-widgets/controls",
      "model_module_version": "1.4.0",
      "model_name": "HBoxModel",
      "state": {
       "children": [
        "IPY_MODEL_d5f2b1115baf4d87a331ea7cbfac4a11",
        "IPY_MODEL_9785902004b147619f7f5f08e4cc1dce"
       ],
       "layout": "IPY_MODEL_9cc24ab40f9e46e0b5a829f4929c089d"
      }
     },
     "03f1145ab07d471f90a8772622502fc8": {
      "model_module": "@jupyter-widgets/controls",
      "model_module_version": "1.4.0",
      "model_name": "ProgressStyleModel",
      "state": {
       "description_width": ""
      }
     },
     "0554cf3a8f8a46ce98b22af49a7bb2ae": {
      "model_module": "@jupyter-widgets/controls",
      "model_module_version": "1.4.0",
      "model_name": "HBoxModel",
      "state": {
       "children": [
        "IPY_MODEL_2aa004ee83e444dfa62f57095ae6bf84",
        "IPY_MODEL_5537704ccc334ad6bfe3d8b9b175bda1"
       ],
       "layout": "IPY_MODEL_9c64abd1c82d467fb3eae72b97b8f377"
      }
     },
     "05cc57c5cf5e4a339e10a5de177670e0": {
      "model_module": "@jupyter-widgets/base",
      "model_module_version": "1.1.0",
      "model_name": "LayoutModel",
      "state": {}
     },
     "0668f8fdc03243209e31b9514c3dd416": {
      "model_module": "@jupyter-widgets/base",
      "model_module_version": "1.1.0",
      "model_name": "LayoutModel",
      "state": {}
     },
     "0850dff6d8f44401b13cacf94ffba991": {
      "model_module": "@jupyter-widgets/controls",
      "model_module_version": "1.4.0",
      "model_name": "DescriptionStyleModel",
      "state": {
       "description_width": ""
      }
     },
     "088306627af54c51af8d631a0bec9c78": {
      "model_module": "@jupyter-widgets/controls",
      "model_module_version": "1.4.0",
      "model_name": "HTMLModel",
      "state": {
       "layout": "IPY_MODEL_db9d290cbde643af8a7a39754322a2fd",
       "style": "IPY_MODEL_9815f6074be94148a67a72c36f4d25bc",
       "value": "100% 12/12 [00:02&lt;00:00,  5.72it/s]"
      }
     },
     "0896fecf1d5245fc93a77c696aff6284": {
      "model_module": "@jupyter-widgets/controls",
      "model_module_version": "1.4.0",
      "model_name": "DescriptionStyleModel",
      "state": {
       "description_width": ""
      }
     },
     "090bc6ae53b74c0c819b188e2ebd3784": {
      "model_module": "@jupyter-widgets/base",
      "model_module_version": "1.1.0",
      "model_name": "LayoutModel",
      "state": {}
     },
     "0aae0ea606ab479cad83d9d83be6cd6f": {
      "model_module": "@jupyter-widgets/controls",
      "model_module_version": "1.4.0",
      "model_name": "HTMLModel",
      "state": {
       "layout": "IPY_MODEL_2e430a13bc3342de8dc57584217ffd5c",
       "style": "IPY_MODEL_7e239b5312de4771af65410f8a9e5418",
       "value": "1061781504/|/100% 1.06G/1.06G [02:35&lt;00:00, 9.52MB/s]"
      }
     },
     "0be7f7dd8a99497bb073aea2412f0206": {
      "model_module": "@jupyter-widgets/base",
      "model_module_version": "1.1.0",
      "model_name": "LayoutModel",
      "state": {}
     },
     "0c09d8513d644048a0a8d04c315df52e": {
      "model_module": "@jupyter-widgets/base",
      "model_module_version": "1.1.0",
      "model_name": "LayoutModel",
      "state": {}
     },
     "0cd17fd17a7f4b5282cc4c207e1deda5": {
      "model_module": "@jupyter-widgets/controls",
      "model_module_version": "1.4.0",
      "model_name": "IntProgressModel",
      "state": {
       "bar_style": "success",
       "layout": "IPY_MODEL_0fbab2da90524784800faf441ec02174",
       "max": 6,
       "style": "IPY_MODEL_82c30831f95740f1856ef0d45b2e0abe",
       "value": 6
      }
     },
     "0d5ce958f0c64bcc943753b8ae8af7f5": {
      "model_module": "@jupyter-widgets/controls",
      "model_module_version": "1.4.0",
      "model_name": "HBoxModel",
      "state": {
       "children": [
        "IPY_MODEL_25a8819d91b044afbf2ed9628bda8e5e",
        "IPY_MODEL_e88179da14b940448dbc7410b7124a2e"
       ],
       "layout": "IPY_MODEL_376bbd7433d6472b9476952578e70e10"
      }
     },
     "0d764369f02f46ca832a5c722ffe78fe": {
      "model_module": "@jupyter-widgets/base",
      "model_module_version": "1.1.0",
      "model_name": "LayoutModel",
      "state": {}
     },
     "0d99ef9729b8436bac1544e6583fe43d": {
      "model_module": "@jupyter-widgets/base",
      "model_module_version": "1.1.0",
      "model_name": "LayoutModel",
      "state": {}
     },
     "0e1ae9a6d3d3412a86cd7013f354dfb3": {
      "model_module": "@jupyter-widgets/controls",
      "model_module_version": "1.4.0",
      "model_name": "DescriptionStyleModel",
      "state": {
       "description_width": ""
      }
     },
     "0e28b34d8ea341f09cbb44444a30be26": {
      "model_module": "@jupyter-widgets/controls",
      "model_module_version": "1.4.0",
      "model_name": "HBoxModel",
      "state": {
       "children": [
        "IPY_MODEL_a28c7e4e167b4d6885192f2781fbd1ad",
        "IPY_MODEL_a52afa713712407490bfd3fd3965cccd"
       ],
       "layout": "IPY_MODEL_86b4a98cee0a4abf8fdd885769462532"
      }
     },
     "0e6eafe24e02449b8b7cdc32c4fa0e96": {
      "model_module": "@jupyter-widgets/controls",
      "model_module_version": "1.4.0",
      "model_name": "HTMLModel",
      "state": {
       "layout": "IPY_MODEL_68717048f58e4e64ae30f590e904b51a",
       "style": "IPY_MODEL_f8b5e9083fa04a76938da0eee8a129f2",
       "value": "100% 12/12 [00:00&lt;00:00, 42.91it/s]"
      }
     },
     "0f0ccf8611fd4c09886e979df8a98d42": {
      "model_module": "@jupyter-widgets/base",
      "model_module_version": "1.1.0",
      "model_name": "LayoutModel",
      "state": {}
     },
     "0f1e1b6adbbb4b558f5bc46637d886bb": {
      "model_module": "@jupyter-widgets/controls",
      "model_module_version": "1.4.0",
      "model_name": "ProgressStyleModel",
      "state": {
       "description_width": ""
      }
     },
     "0f55ad5bfa7d47d7ac2500af53f279c4": {
      "model_module": "@jupyter-widgets/controls",
      "model_module_version": "1.4.0",
      "model_name": "HTMLModel",
      "state": {
       "layout": "IPY_MODEL_05cc57c5cf5e4a339e10a5de177670e0",
       "style": "IPY_MODEL_3a2f77aa8913424db0035aeb16ddaebd",
       "value": "100% 50/50 [00:04&lt;00:00, 12.40it/s]"
      }
     },
     "0fbab2da90524784800faf441ec02174": {
      "model_module": "@jupyter-widgets/base",
      "model_module_version": "1.1.0",
      "model_name": "LayoutModel",
      "state": {}
     },
     "10d9e03f77e44d6580f71fbbe317c314": {
      "model_module": "@jupyter-widgets/base",
      "model_module_version": "1.1.0",
      "model_name": "LayoutModel",
      "state": {}
     },
     "119abc87814a475184b1eb187a1d4f58": {
      "model_module": "@jupyter-widgets/controls",
      "model_module_version": "1.4.0",
      "model_name": "DescriptionStyleModel",
      "state": {
       "description_width": ""
      }
     },
     "1294bb0f07be46068ad82a6d0b4b5876": {
      "model_module": "@jupyter-widgets/controls",
      "model_module_version": "1.4.0",
      "model_name": "DescriptionStyleModel",
      "state": {
       "description_width": ""
      }
     },
     "12c398bc4f8541c5847c4a6abd4c8345": {
      "model_module": "@jupyter-widgets/base",
      "model_module_version": "1.1.0",
      "model_name": "LayoutModel",
      "state": {}
     },
     "133f81a2cf83499c87eb6f4f24c35e95": {
      "model_module": "@jupyter-widgets/controls",
      "model_module_version": "1.4.0",
      "model_name": "ProgressStyleModel",
      "state": {
       "description_width": "initial"
      }
     },
     "155147ebeba148f4955ca91d6463ce76": {
      "model_module": "@jupyter-widgets/controls",
      "model_module_version": "1.4.0",
      "model_name": "DescriptionStyleModel",
      "state": {
       "description_width": ""
      }
     },
     "160374a2382b4b0c8384f3c9c6cc2a5f": {
      "model_module": "@jupyter-widgets/controls",
      "model_module_version": "1.4.0",
      "model_name": "HTMLModel",
      "state": {
       "layout": "IPY_MODEL_bf70c1494ae84387872d1e3835e55d4f",
       "style": "IPY_MODEL_ebfc8f39e3b644dea4e8366a3610b7b4",
       "value": "100% 6/6 [01:17&lt;00:00, 13.40s/it]"
      }
     },
     "17cfa85d92b6404e8d64cfb96f5d4f8e": {
      "model_module": "@jupyter-widgets/controls",
      "model_module_version": "1.4.0",
      "model_name": "ProgressStyleModel",
      "state": {
       "description_width": ""
      }
     },
     "17dce4cce0dc4ee38e0ac32451891e1f": {
      "model_module": "@jupyter-widgets/controls",
      "model_module_version": "1.4.0",
      "model_name": "IntProgressModel",
      "state": {
       "bar_style": "success",
       "layout": "IPY_MODEL_58004637c7cd47b5b51a15e1b190423a",
       "max": 12,
       "style": "IPY_MODEL_6d45bc25fbfb4676a05573521e9eb5ce",
       "value": 12
      }
     },
     "185966f0c0b4402f888d2c08261c2343": {
      "model_module": "@jupyter-widgets/base",
      "model_module_version": "1.1.0",
      "model_name": "LayoutModel",
      "state": {}
     },
     "18a779de4b48486dbeb64d0bca88aaa1": {
      "model_module": "@jupyter-widgets/controls",
      "model_module_version": "1.4.0",
      "model_name": "HBoxModel",
      "state": {
       "children": [
        "IPY_MODEL_a063c3d4d4c04679b68adfbc00fb1af5",
        "IPY_MODEL_0e6eafe24e02449b8b7cdc32c4fa0e96"
       ],
       "layout": "IPY_MODEL_a2aa1f1eaa4b40e5b715c47b5af538da"
      }
     },
     "18b37f034ee341f1b07da0efffa325a6": {
      "model_module": "@jupyter-widgets/controls",
      "model_module_version": "1.4.0",
      "model_name": "DescriptionStyleModel",
      "state": {
       "description_width": ""
      }
     },
     "19426700ebfa417b84f6a4b6a68ca191": {
      "model_module": "@jupyter-widgets/controls",
      "model_module_version": "1.4.0",
      "model_name": "IntProgressModel",
      "state": {
       "bar_style": "success",
       "layout": "IPY_MODEL_a54e55279b8f4c5aaa44bf7dbf8ad105",
       "max": 6,
       "style": "IPY_MODEL_63220ab825204a1d8c0a6192ce35a4f2",
       "value": 6
      }
     },
     "1a4e957ce1114ed9885a9c6c73408893": {
      "model_module": "@jupyter-widgets/controls",
      "model_module_version": "1.4.0",
      "model_name": "HTMLModel",
      "state": {
       "layout": "IPY_MODEL_72956fa6736049ac9f797d9cd0a77c11",
       "style": "IPY_MODEL_a33d4daddf8449adae60f70b3c5f895f",
       "value": " 98% 49/50 [00:04&lt;00:00, 11.68it/s]"
      }
     },
     "1aabd3077d67426896473c966005cb5a": {
      "model_module": "@jupyter-widgets/base",
      "model_module_version": "1.1.0",
      "model_name": "LayoutModel",
      "state": {}
     },
     "1acf69c9ae244a309371085d59286de9": {
      "model_module": "@jupyter-widgets/controls",
      "model_module_version": "1.4.0",
      "model_name": "DescriptionStyleModel",
      "state": {
       "description_width": ""
      }
     },
     "1b4b33d8e0f54489b462bec1c00a1e4b": {
      "model_module": "@jupyter-widgets/base",
      "model_module_version": "1.1.0",
      "model_name": "LayoutModel",
      "state": {}
     },
     "1bcb82cda59f46e2aaae5c0683ed9e92": {
      "model_module": "@jupyter-widgets/base",
      "model_module_version": "1.1.0",
      "model_name": "LayoutModel",
      "state": {}
     },
     "1c27ec610d7549199f1555e5722b4f97": {
      "model_module": "@jupyter-widgets/controls",
      "model_module_version": "1.4.0",
      "model_name": "ProgressStyleModel",
      "state": {
       "description_width": ""
      }
     },
     "1c8d8fcdaa3149fcab2d803d73f8e0bc": {
      "model_module": "@jupyter-widgets/controls",
      "model_module_version": "1.4.0",
      "model_name": "ProgressStyleModel",
      "state": {
       "description_width": ""
      }
     },
     "1d1cb2ca575e476e9edf93023a568635": {
      "model_module": "@jupyter-widgets/controls",
      "model_module_version": "1.4.0",
      "model_name": "ProgressStyleModel",
      "state": {
       "description_width": ""
      }
     },
     "1d68e2ce53ca49f68605b3dc15873073": {
      "model_module": "@jupyter-widgets/controls",
      "model_module_version": "1.4.0",
      "model_name": "IntProgressModel",
      "state": {
       "description": "Extract packages         ",
       "layout": "IPY_MODEL_26f3d36cec944f6094a863b985041839",
       "max": 4,
       "style": "IPY_MODEL_c86dd8df88bb4b7bbe427f9cae6b7b6b",
       "value": 4
      }
     },
     "1e1953c5e57c4edea706ca7ec35f4692": {
      "model_module": "@jupyter-widgets/base",
      "model_module_version": "1.1.0",
      "model_name": "LayoutModel",
      "state": {}
     },
     "1e6caf0fac274a54999a51230db24395": {
      "model_module": "@jupyter-widgets/controls",
      "model_module_version": "1.4.0",
      "model_name": "IntProgressModel",
      "state": {
       "bar_style": "info",
       "description": "TUT-sound-events-2017-development.audio.2",
       "layout": "IPY_MODEL_5da5294706dc4893acb45887acc02b7d",
       "max": 1,
       "style": "IPY_MODEL_4d51eeb389154ec8b335cfbd8f83e803",
       "value": 1
      }
     },
     "2036df606d2048fcacd15286b4b4c920": {
      "model_module": "@jupyter-widgets/controls",
      "model_module_version": "1.4.0",
      "model_name": "HTMLModel",
      "state": {
       "layout": "IPY_MODEL_4a7360818382476faf9731f9e47c1805",
       "style": "IPY_MODEL_972a8808992f4db68c902fb4fb5912b8",
       "value": " 98% 49/50 [00:03&lt;00:00, 12.91it/s]"
      }
     },
     "2117f737f88749d4a2b7a55d3113ea2b": {
      "model_module": "@jupyter-widgets/base",
      "model_module_version": "1.1.0",
      "model_name": "LayoutModel",
      "state": {}
     },
     "218e2aa315b2457f85547eaef863c6fa": {
      "model_module": "@jupyter-widgets/base",
      "model_module_version": "1.1.0",
      "model_name": "LayoutModel",
      "state": {}
     },
     "21b7246854284e04ba12eb3eafd6543d": {
      "model_module": "@jupyter-widgets/controls",
      "model_module_version": "1.4.0",
      "model_name": "IntProgressModel",
      "state": {
       "bar_style": "success",
       "layout": "IPY_MODEL_377980dd18194d8e857b4c9f68aecb9d",
       "max": 6,
       "style": "IPY_MODEL_03f1145ab07d471f90a8772622502fc8",
       "value": 6
      }
     },
     "21bb506f600b412a8bb1b99278f00eb6": {
      "model_module": "@jupyter-widgets/controls",
      "model_module_version": "1.4.0",
      "model_name": "IntProgressModel",
      "state": {
       "bar_style": "success",
       "layout": "IPY_MODEL_745e874c6baf491386d233c760ceff5a",
       "max": 6,
       "style": "IPY_MODEL_79a6cb9f9b7b4b1dbe86a9ab65a2f859",
       "value": 6
      }
     },
     "225eaad681f043348883af0cc87bb590": {
      "model_module": "@jupyter-widgets/controls",
      "model_module_version": "1.4.0",
      "model_name": "ProgressStyleModel",
      "state": {
       "description_width": ""
      }
     },
     "2359145dd44a4247bb69f482f6fc4239": {
      "model_module": "@jupyter-widgets/controls",
      "model_module_version": "1.4.0",
      "model_name": "IntProgressModel",
      "state": {
       "description": "                           EULA.pdf",
       "layout": "IPY_MODEL_a3bfcd56b743401d9bf4a27c6111da5d",
       "max": 4,
       "style": "IPY_MODEL_97242466980d4c69bcb9fba7374bb83d"
      }
     },
     "25a8819d91b044afbf2ed9628bda8e5e": {
      "model_module": "@jupyter-widgets/controls",
      "model_module_version": "1.4.0",
      "model_name": "IntProgressModel",
      "state": {
       "bar_style": "success",
       "layout": "IPY_MODEL_f75b7bcaa5ff48cda7d645d0ea870f78",
       "max": 6,
       "style": "IPY_MODEL_38336f56931b4d95a3fe21927b5d65b2",
       "value": 6
      }
     },
     "263d5e3e557641638aef771320b1f3b5": {
      "model_module": "@jupyter-widgets/base",
      "model_module_version": "1.1.0",
      "model_name": "LayoutModel",
      "state": {}
     },
     "26f3d36cec944f6094a863b985041839": {
      "model_module": "@jupyter-widgets/base",
      "model_module_version": "1.1.0",
      "model_name": "LayoutModel",
      "state": {}
     },
     "28bd2266f8aa4b799dea9ef9ac309f64": {
      "model_module": "@jupyter-widgets/controls",
      "model_module_version": "1.4.0",
      "model_name": "IntProgressModel",
      "state": {
       "description": "Generate validation split candidates",
       "layout": "IPY_MODEL_be108eb0467c4e879982742ae9c6f2b3",
       "max": 50,
       "style": "IPY_MODEL_77b76e69a56445b580c8f67078d535ed",
       "value": 49
      }
     },
     "2997a38a97d94c22a9edf6272a202654": {
      "model_module": "@jupyter-widgets/controls",
      "model_module_version": "1.4.0",
      "model_name": "HBoxModel",
      "state": {
       "children": [
        "IPY_MODEL_f5e1806c91c4417f8558e2776124d1c8",
        "IPY_MODEL_fcbe9b77638f4b4fb28320ba210a260a"
       ],
       "layout": "IPY_MODEL_3b0bc0c6ca6f41cba98453c2c2043af8"
      }
     },
     "2aa004ee83e444dfa62f57095ae6bf84": {
      "model_module": "@jupyter-widgets/controls",
      "model_module_version": "1.4.0",
      "model_name": "IntProgressModel",
      "state": {
       "bar_style": "success",
       "layout": "IPY_MODEL_d4a46a5c3de54146a4a22b495379f0e3",
       "max": 12,
       "style": "IPY_MODEL_5bcf829886e74823ab5a776d38e1e6a5",
       "value": 12
      }
     },
     "2ad76df0ef0d4dafbd17bd20bab66364": {
      "model_module": "@jupyter-widgets/controls",
      "model_module_version": "1.4.0",
      "model_name": "ProgressStyleModel",
      "state": {
       "description_width": ""
      }
     },
     "2d206a8b3b4b41f49ddfa057a2a2b315": {
      "model_module": "@jupyter-widgets/base",
      "model_module_version": "1.1.0",
      "model_name": "LayoutModel",
      "state": {}
     },
     "2e430a13bc3342de8dc57584217ffd5c": {
      "model_module": "@jupyter-widgets/base",
      "model_module_version": "1.1.0",
      "model_name": "LayoutModel",
      "state": {}
     },
     "2f4045c007c44614b2de7959d86f89f9": {
      "model_module": "@jupyter-widgets/controls",
      "model_module_version": "1.4.0",
      "model_name": "HTMLModel",
      "state": {
       "layout": "IPY_MODEL_e0723f52bf6f4ea8bddb1a99d2e09e14",
       "style": "IPY_MODEL_7ca4044257744754a7574d0c363eebd3",
       "value": "100% 6/6 [00:00&lt;00:00, 34.87it/s]"
      }
     },
     "32e7d26b1d4541ffa4cd9dface6c6b8c": {
      "model_module": "@jupyter-widgets/controls",
      "model_module_version": "1.4.0",
      "model_name": "HTMLModel",
      "state": {
       "layout": "IPY_MODEL_85898996d88446a88ec1b08cd895f570",
       "style": "IPY_MODEL_48a5485852c9475eb80d8791284fa878",
       "value": "100% 6/6 [00:00&lt;00:00, 53.06it/s]"
      }
     },
     "33e88c448ba140809f7350c9ef611090": {
      "model_module": "@jupyter-widgets/controls",
      "model_module_version": "1.4.0",
      "model_name": "IntProgressModel",
      "state": {
       "bar_style": "info",
       "description": "TUT-sound-events-2017-development.meta",
       "layout": "IPY_MODEL_011db61bc6a74c2f95beb18528150e38",
       "max": 1,
       "style": "IPY_MODEL_17cfa85d92b6404e8d64cfb96f5d4f8e",
       "value": 1
      }
     },
     "34b09a8dfca849b1a85b6a94f471db8a": {
      "model_module": "@jupyter-widgets/controls",
      "model_module_version": "1.4.0",
      "model_name": "ProgressStyleModel",
      "state": {
       "description_width": ""
      }
     },
     "34dbee91ac104d2f924811034230034a": {
      "model_module": "@jupyter-widgets/base",
      "model_module_version": "1.1.0",
      "model_name": "LayoutModel",
      "state": {}
     },
     "376bbd7433d6472b9476952578e70e10": {
      "model_module": "@jupyter-widgets/base",
      "model_module_version": "1.1.0",
      "model_name": "LayoutModel",
      "state": {}
     },
     "377980dd18194d8e857b4c9f68aecb9d": {
      "model_module": "@jupyter-widgets/base",
      "model_module_version": "1.1.0",
      "model_name": "LayoutModel",
      "state": {}
     },
     "38336f56931b4d95a3fe21927b5d65b2": {
      "model_module": "@jupyter-widgets/controls",
      "model_module_version": "1.4.0",
      "model_name": "ProgressStyleModel",
      "state": {
       "description_width": ""
      }
     },
     "391fbc8637ba48d993b6585a56bc7c85": {
      "model_module": "@jupyter-widgets/controls",
      "model_module_version": "1.4.0",
      "model_name": "DescriptionStyleModel",
      "state": {
       "description_width": ""
      }
     },
     "3976293b3631447c9ab7a1dd8f688e59": {
      "model_module": "@jupyter-widgets/base",
      "model_module_version": "1.1.0",
      "model_name": "LayoutModel",
      "state": {}
     },
     "3a2f77aa8913424db0035aeb16ddaebd": {
      "model_module": "@jupyter-widgets/controls",
      "model_module_version": "1.4.0",
      "model_name": "DescriptionStyleModel",
      "state": {
       "description_width": ""
      }
     },
     "3b0bc0c6ca6f41cba98453c2c2043af8": {
      "model_module": "@jupyter-widgets/base",
      "model_module_version": "1.1.0",
      "model_name": "LayoutModel",
      "state": {}
     },
     "3be863f0043f4020a18fa3dfc6e0a0d7": {
      "model_module": "@jupyter-widgets/base",
      "model_module_version": "1.1.0",
      "model_name": "LayoutModel",
      "state": {}
     },
     "3e22974940d84135bd73ee8d2670d422": {
      "model_module": "@jupyter-widgets/controls",
      "model_module_version": "1.4.0",
      "model_name": "IntProgressModel",
      "state": {
       "description": "                           b007.wav",
       "layout": "IPY_MODEL_0d764369f02f46ca832a5c722ffe78fe",
       "max": 4,
       "style": "IPY_MODEL_bf0dff8cc73f458084dd9f1a5d39c7c2",
       "value": 4
      }
     },
     "42bd3ff2aa2145849644949f8aa80d8a": {
      "model_module": "@jupyter-widgets/base",
      "model_module_version": "1.1.0",
      "model_name": "LayoutModel",
      "state": {}
     },
     "42ea9c5da172437e923a36ff809ff6bb": {
      "model_module": "@jupyter-widgets/controls",
      "model_module_version": "1.4.0",
      "model_name": "HTMLModel",
      "state": {
       "layout": "IPY_MODEL_0668f8fdc03243209e31b9514c3dd416",
       "style": "IPY_MODEL_7cbf8bbdc69d495496199e5b051105f2",
       "value": "212975616/|/100% 213M/213M [00:23&lt;00:00, 10.0MB/s]"
      }
     },
     "43139f8e11c14f9c860461ca3e259645": {
      "model_module": "@jupyter-widgets/controls",
      "model_module_version": "1.4.0",
      "model_name": "DescriptionStyleModel",
      "state": {
       "description_width": ""
      }
     },
     "43c54d859c014089a0d90825983a38fd": {
      "model_module": "@jupyter-widgets/controls",
      "model_module_version": "1.4.0",
      "model_name": "HTMLModel",
      "state": {
       "layout": "IPY_MODEL_d1b1ed75df6844a192555c12935158bc",
       "style": "IPY_MODEL_1acf69c9ae244a309371085d59286de9",
       "value": "100% 4/4 [00:14&lt;00:00,  3.67s/it]"
      }
     },
     "440a3e8c613b4897aa09446a8dcee6f3": {
      "model_module": "@jupyter-widgets/base",
      "model_module_version": "1.1.0",
      "model_name": "LayoutModel",
      "state": {}
     },
     "442eafb530f24e6684c4a260e8e5ea67": {
      "model_module": "@jupyter-widgets/base",
      "model_module_version": "1.1.0",
      "model_name": "LayoutModel",
      "state": {}
     },
     "45bbbd99a438409a9f2e89bd1aa2f1c2": {
      "model_module": "@jupyter-widgets/base",
      "model_module_version": "1.1.0",
      "model_name": "LayoutModel",
      "state": {}
     },
     "45c62cb77fc44cf787dfc2bc9e102bb7": {
      "model_module": "@jupyter-widgets/base",
      "model_module_version": "1.1.0",
      "model_name": "LayoutModel",
      "state": {}
     },
     "46b8abf8c1aa4fba8573d383e2a30830": {
      "model_module": "@jupyter-widgets/controls",
      "model_module_version": "1.4.0",
      "model_name": "IntProgressModel",
      "state": {
       "bar_style": "success",
       "layout": "IPY_MODEL_8c3056610eec4f42828f3252b22d4208",
       "max": 6,
       "style": "IPY_MODEL_66e9b2742a454123b084ddd456b6d8ef",
       "value": 6
      }
     },
     "4775b1f5b2384c6088d26cd0b0c7aa0e": {
      "model_module": "@jupyter-widgets/base",
      "model_module_version": "1.1.0",
      "model_name": "LayoutModel",
      "state": {}
     },
     "47ea06aad8c848ed85b85f36b4ac742c": {
      "model_module": "@jupyter-widgets/controls",
      "model_module_version": "1.4.0",
      "model_name": "IntProgressModel",
      "state": {
       "bar_style": "success",
       "layout": "IPY_MODEL_ec1bd257db6a4d3cbd644a96a35ff5fd",
       "max": 6,
       "style": "IPY_MODEL_000e6f07938e47a1a76bbae1b562663d",
       "value": 6
      }
     },
     "47ebed0c72d94a04813bb8e07ec26080": {
      "model_module": "@jupyter-widgets/controls",
      "model_module_version": "1.4.0",
      "model_name": "HBoxModel",
      "state": {
       "children": [
        "IPY_MODEL_5c498c169e8b4991af8543594a41f86c",
        "IPY_MODEL_2f4045c007c44614b2de7959d86f89f9"
       ],
       "layout": "IPY_MODEL_8dc58239dba54e9b8e85ba6dc3cc5d0d"
      }
     },
     "481299a024ed4454b97b836f87514ddc": {
      "model_module": "@jupyter-widgets/controls",
      "model_module_version": "1.4.0",
      "model_name": "IntProgressModel",
      "state": {
       "description": "Generate validation split candidates",
       "layout": "IPY_MODEL_9b3f7e245b794fbdacbf4948299635e8",
       "max": 50,
       "style": "IPY_MODEL_d41d8f6f26f34a7f96267773a1dafe26",
       "value": 49
      }
     },
     "487f6cfed52243a6869518ca4140310a": {
      "model_module": "@jupyter-widgets/base",
      "model_module_version": "1.1.0",
      "model_name": "LayoutModel",
      "state": {}
     },
     "48a5485852c9475eb80d8791284fa878": {
      "model_module": "@jupyter-widgets/controls",
      "model_module_version": "1.4.0",
      "model_name": "DescriptionStyleModel",
      "state": {
       "description_width": ""
      }
     },
     "48e35a0e24da4016ab9036826cd7d345": {
      "model_module": "@jupyter-widgets/base",
      "model_module_version": "1.1.0",
      "model_name": "LayoutModel",
      "state": {}
     },
     "4a21eb0e49c143d398eb0b70a68ad2bc": {
      "model_module": "@jupyter-widgets/controls",
      "model_module_version": "1.4.0",
      "model_name": "HBoxModel",
      "state": {
       "children": [
        "IPY_MODEL_a2d86a712935454aab73ecde89ba6ead",
        "IPY_MODEL_930279d4848e4d88a68df0329ffa93c4"
       ],
       "layout": "IPY_MODEL_9fd905ce82ec4c08883f6f44e6573370"
      }
     },
     "4a7360818382476faf9731f9e47c1805": {
      "model_module": "@jupyter-widgets/base",
      "model_module_version": "1.1.0",
      "model_name": "LayoutModel",
      "state": {}
     },
     "4c4c9bdc64f14d759d77b770a197e5d2": {
      "model_module": "@jupyter-widgets/base",
      "model_module_version": "1.1.0",
      "model_name": "LayoutModel",
      "state": {}
     },
     "4d51eeb389154ec8b335cfbd8f83e803": {
      "model_module": "@jupyter-widgets/controls",
      "model_module_version": "1.4.0",
      "model_name": "ProgressStyleModel",
      "state": {
       "description_width": ""
      }
     },
     "4ea90be408684a42a3380711ed292db4": {
      "model_module": "@jupyter-widgets/controls",
      "model_module_version": "1.4.0",
      "model_name": "ProgressStyleModel",
      "state": {
       "description_width": ""
      }
     },
     "4ed6abb7d1d247a091ee123b5d53be41": {
      "model_module": "@jupyter-widgets/base",
      "model_module_version": "1.1.0",
      "model_name": "LayoutModel",
      "state": {}
     },
     "4fcb3133a18e421d80876c179826f6c0": {
      "model_module": "@jupyter-widgets/base",
      "model_module_version": "1.1.0",
      "model_name": "LayoutModel",
      "state": {}
     },
     "50546ad70ece4653aa8b51550ac7ae43": {
      "model_module": "@jupyter-widgets/controls",
      "model_module_version": "1.4.0",
      "model_name": "IntProgressModel",
      "state": {
       "description": "Generate validation split candidates",
       "layout": "IPY_MODEL_e9ce137fe64540ff9d2d04ba3188c9b2",
       "max": 50,
       "style": "IPY_MODEL_8c075a70dad34481a54e3752ba2830ee",
       "value": 50
      }
     },
     "5069c7ef2c2f431d9884b4f8447b9641": {
      "model_module": "@jupyter-widgets/base",
      "model_module_version": "1.1.0",
      "model_name": "LayoutModel",
      "state": {}
     },
     "517717f52ec446b6b256969514514128": {
      "model_module": "@jupyter-widgets/base",
      "model_module_version": "1.1.0",
      "model_name": "LayoutModel",
      "state": {}
     },
     "51dd12438dab4fa8a03bcab23c4c1e41": {
      "model_module": "@jupyter-widgets/controls",
      "model_module_version": "1.4.0",
      "model_name": "ProgressStyleModel",
      "state": {
       "description_width": ""
      }
     },
     "51e2272286234831ae6ba247c44b6aa3": {
      "model_module": "@jupyter-widgets/controls",
      "model_module_version": "1.4.0",
      "model_name": "DescriptionStyleModel",
      "state": {
       "description_width": ""
      }
     },
     "538ce7811aa849e696c260987c1b252c": {
      "model_module": "@jupyter-widgets/base",
      "model_module_version": "1.1.0",
      "model_name": "LayoutModel",
      "state": {}
     },
     "53d4ee8806d343df944b7161e32d58cb": {
      "model_module": "@jupyter-widgets/controls",
      "model_module_version": "1.4.0",
      "model_name": "DescriptionStyleModel",
      "state": {
       "description_width": ""
      }
     },
     "53eaa2349b2a40368633954a96da6f94": {
      "model_module": "@jupyter-widgets/controls",
      "model_module_version": "1.4.0",
      "model_name": "ProgressStyleModel",
      "state": {
       "description_width": ""
      }
     },
     "54948ec2da3f45559e7077897bdabedd": {
      "model_module": "@jupyter-widgets/base",
      "model_module_version": "1.1.0",
      "model_name": "LayoutModel",
      "state": {}
     },
     "5537704ccc334ad6bfe3d8b9b175bda1": {
      "model_module": "@jupyter-widgets/controls",
      "model_module_version": "1.4.0",
      "model_name": "HTMLModel",
      "state": {
       "layout": "IPY_MODEL_0c09d8513d644048a0a8d04c315df52e",
       "style": "IPY_MODEL_5c6327bc095140f3ad6875e27e9ef2e5",
       "value": "100% 12/12 [00:02&lt;00:00,  4.63it/s]"
      }
     },
     "57283521b96240f88802708a0f08875f": {
      "model_module": "@jupyter-widgets/controls",
      "model_module_version": "1.4.0",
      "model_name": "HTMLModel",
      "state": {
       "layout": "IPY_MODEL_ce3480426b054519aba56a2f4faac099",
       "style": "IPY_MODEL_18b37f034ee341f1b07da0efffa325a6",
       "value": " 73% 60/82 [00:00&lt;00:00, 598.64it/s]"
      }
     },
     "5769407d4ecd42c7b2e1ebc2a00df335": {
      "model_module": "@jupyter-widgets/controls",
      "model_module_version": "1.4.0",
      "model_name": "HBoxModel",
      "state": {
       "children": [
        "IPY_MODEL_46b8abf8c1aa4fba8573d383e2a30830",
        "IPY_MODEL_b82a147c3b9d430aa7730ab9dd95a2ad"
       ],
       "layout": "IPY_MODEL_e7c97bfcbce64733904aac1150d17f18"
      }
     },
     "58004637c7cd47b5b51a15e1b190423a": {
      "model_module": "@jupyter-widgets/base",
      "model_module_version": "1.1.0",
      "model_name": "LayoutModel",
      "state": {}
     },
     "59e34d832cb84c75836ec9c8ddd145ad": {
      "model_module": "@jupyter-widgets/controls",
      "model_module_version": "1.4.0",
      "model_name": "IntProgressModel",
      "state": {
       "description": "Generate validation split candidates",
       "layout": "IPY_MODEL_487f6cfed52243a6869518ca4140310a",
       "max": 50,
       "style": "IPY_MODEL_c1f19584320f4fbc86cf9a2d03fb3847",
       "value": 50
      }
     },
     "5acecc2d712046e7b32929f0708023b7": {
      "model_module": "@jupyter-widgets/base",
      "model_module_version": "1.1.0",
      "model_name": "LayoutModel",
      "state": {}
     },
     "5aefd66759cf42e39b890f449105a66d": {
      "model_module": "@jupyter-widgets/controls",
      "model_module_version": "1.4.0",
      "model_name": "DescriptionStyleModel",
      "state": {
       "description_width": ""
      }
     },
     "5b187ca8f4fe4e7997098ccdee694849": {
      "model_module": "@jupyter-widgets/base",
      "model_module_version": "1.1.0",
      "model_name": "LayoutModel",
      "state": {}
     },
     "5bcf829886e74823ab5a776d38e1e6a5": {
      "model_module": "@jupyter-widgets/controls",
      "model_module_version": "1.4.0",
      "model_name": "ProgressStyleModel",
      "state": {
       "description_width": ""
      }
     },
     "5c498c169e8b4991af8543594a41f86c": {
      "model_module": "@jupyter-widgets/controls",
      "model_module_version": "1.4.0",
      "model_name": "IntProgressModel",
      "state": {
       "bar_style": "success",
       "layout": "IPY_MODEL_45bbbd99a438409a9f2e89bd1aa2f1c2",
       "max": 6,
       "style": "IPY_MODEL_de8256f0e050479b9f91ccc79344bba9",
       "value": 6
      }
     },
     "5c6327bc095140f3ad6875e27e9ef2e5": {
      "model_module": "@jupyter-widgets/controls",
      "model_module_version": "1.4.0",
      "model_name": "DescriptionStyleModel",
      "state": {
       "description_width": ""
      }
     },
     "5c92f8779e1b46ebbc89e17b502d36a3": {
      "model_module": "@jupyter-widgets/controls",
      "model_module_version": "1.4.0",
      "model_name": "ProgressStyleModel",
      "state": {
       "description_width": ""
      }
     },
     "5da5294706dc4893acb45887acc02b7d": {
      "model_module": "@jupyter-widgets/base",
      "model_module_version": "1.1.0",
      "model_name": "LayoutModel",
      "state": {}
     },
     "5dff3dff8112431298dee7d3fd2fe232": {
      "model_module": "@jupyter-widgets/base",
      "model_module_version": "1.1.0",
      "model_name": "LayoutModel",
      "state": {}
     },
     "5e527504cb584c44890bb94cfcedf20e": {
      "model_module": "@jupyter-widgets/controls",
      "model_module_version": "1.4.0",
      "model_name": "DescriptionStyleModel",
      "state": {
       "description_width": ""
      }
     },
     "5e60dff60a924d5ea42a195e2c249641": {
      "model_module": "@jupyter-widgets/controls",
      "model_module_version": "1.4.0",
      "model_name": "HBoxModel",
      "state": {
       "children": [
        "IPY_MODEL_d8bf923aacb24c4d9e048baf1c21aadf",
        "IPY_MODEL_32e7d26b1d4541ffa4cd9dface6c6b8c"
       ],
       "layout": "IPY_MODEL_fa45d278a00546f89d4bba6e8811a596"
      }
     },
     "60c26c14b40d45d6af5449641bee7655": {
      "model_module": "@jupyter-widgets/base",
      "model_module_version": "1.1.0",
      "model_name": "LayoutModel",
      "state": {}
     },
     "61a01d99c22f402e9b7ad54de31da2a2": {
      "model_module": "@jupyter-widgets/base",
      "model_module_version": "1.1.0",
      "model_name": "LayoutModel",
      "state": {}
     },
     "63220ab825204a1d8c0a6192ce35a4f2": {
      "model_module": "@jupyter-widgets/controls",
      "model_module_version": "1.4.0",
      "model_name": "ProgressStyleModel",
      "state": {
       "description_width": ""
      }
     },
     "63847c4256bc4e41a857225cdc4575fe": {
      "model_module": "@jupyter-widgets/controls",
      "model_module_version": "1.4.0",
      "model_name": "DescriptionStyleModel",
      "state": {
       "description_width": ""
      }
     },
     "6436b8a1a422433082395f32456e50b0": {
      "model_module": "@jupyter-widgets/base",
      "model_module_version": "1.1.0",
      "model_name": "LayoutModel",
      "state": {}
     },
     "64620eaa79d04a38a3f9409513f8d3d6": {
      "model_module": "@jupyter-widgets/base",
      "model_module_version": "1.1.0",
      "model_name": "LayoutModel",
      "state": {}
     },
     "64f59e591d824b3a9654654df291310e": {
      "model_module": "@jupyter-widgets/controls",
      "model_module_version": "1.4.0",
      "model_name": "IntProgressModel",
      "state": {
       "description": "                           b095.wav",
       "layout": "IPY_MODEL_6522d470bb4f42febf55705c3bfa8b33",
       "max": 23,
       "style": "IPY_MODEL_f504535c442641e5bf5d73af2e0c23e9",
       "value": 23
      }
     },
     "65205be028e943f0921bef2092d9a757": {
      "model_module": "@jupyter-widgets/controls",
      "model_module_version": "1.4.0",
      "model_name": "HTMLModel",
      "state": {
       "layout": "IPY_MODEL_4fcb3133a18e421d80876c179826f6c0",
       "style": "IPY_MODEL_0896fecf1d5245fc93a77c696aff6284",
       "value": "100% 4/4 [00:02&lt;00:00,  1.71it/s]"
      }
     },
     "6522d470bb4f42febf55705c3bfa8b33": {
      "model_module": "@jupyter-widgets/base",
      "model_module_version": "1.1.0",
      "model_name": "LayoutModel",
      "state": {}
     },
     "66e9b2742a454123b084ddd456b6d8ef": {
      "model_module": "@jupyter-widgets/controls",
      "model_module_version": "1.4.0",
      "model_name": "ProgressStyleModel",
      "state": {
       "description_width": ""
      }
     },
     "68166588f4b5400ebbcaf0b317908fa4": {
      "model_module": "@jupyter-widgets/base",
      "model_module_version": "1.1.0",
      "model_name": "LayoutModel",
      "state": {}
     },
     "68717048f58e4e64ae30f590e904b51a": {
      "model_module": "@jupyter-widgets/base",
      "model_module_version": "1.1.0",
      "model_name": "LayoutModel",
      "state": {}
     },
     "68ec67db4330465f80f92ec2735f2edc": {
      "model_module": "@jupyter-widgets/base",
      "model_module_version": "1.1.0",
      "model_name": "LayoutModel",
      "state": {}
     },
     "69b0a74632094bc49c13638bc970561e": {
      "model_module": "@jupyter-widgets/controls",
      "model_module_version": "1.4.0",
      "model_name": "HTMLModel",
      "state": {
       "layout": "IPY_MODEL_891a7adf5f134d0bbd821e08ed5adc6f",
       "style": "IPY_MODEL_efab53b583f840c9b846eccc6fcd501f",
       "value": "100% 12/12 [00:00&lt;00:00, 39.57it/s]"
      }
     },
     "69dd08a02adb454cabb3a645d940b571": {
      "model_module": "@jupyter-widgets/base",
      "model_module_version": "1.1.0",
      "model_name": "LayoutModel",
      "state": {}
     },
     "69e86a10dace4852ae67e255dd07ac8a": {
      "model_module": "@jupyter-widgets/controls",
      "model_module_version": "1.4.0",
      "model_name": "DescriptionStyleModel",
      "state": {
       "description_width": ""
      }
     },
     "69e8e78737e044f785f24b2d19f9a0ce": {
      "model_module": "@jupyter-widgets/controls",
      "model_module_version": "1.4.0",
      "model_name": "HTMLModel",
      "state": {
       "layout": "IPY_MODEL_740fdc9747984ef2b5a2522a6eeff522",
       "style": "IPY_MODEL_53d4ee8806d343df944b7161e32d58cb",
       "value": " 98% 49/50 [00:04&lt;00:00, 10.97it/s]"
      }
     },
     "6a2170c53ac547b9afc1614854db817a": {
      "model_module": "@jupyter-widgets/controls",
      "model_module_version": "1.4.0",
      "model_name": "HBoxModel",
      "state": {
       "children": [
        "IPY_MODEL_17dce4cce0dc4ee38e0ac32451891e1f",
        "IPY_MODEL_9e3ff37a3b604261b9e9679056e9dab9"
       ],
       "layout": "IPY_MODEL_1e1953c5e57c4edea706ca7ec35f4692"
      }
     },
     "6ace4c8ce4584205a93e74d73abe4702": {
      "model_module": "@jupyter-widgets/controls",
      "model_module_version": "1.4.0",
      "model_name": "IntProgressModel",
      "state": {
       "bar_style": "success",
       "layout": "IPY_MODEL_00ca84f7f36044d394c87df4294b7187",
       "max": 6,
       "style": "IPY_MODEL_4ea90be408684a42a3380711ed292db4",
       "value": 6
      }
     },
     "6b12ed7a190448418f9064495241c619": {
      "model_module": "@jupyter-widgets/controls",
      "model_module_version": "1.4.0",
      "model_name": "IntProgressModel",
      "state": {
       "bar_style": "success",
       "layout": "IPY_MODEL_c7cc3ba4c13346888badd06d8e7ec990",
       "max": 12,
       "style": "IPY_MODEL_d95381bb100143c1a7b4c7bbe60933d5",
       "value": 12
      }
     },
     "6c8c7038b57e482eab832feba2bbbe6a": {
      "model_module": "@jupyter-widgets/controls",
      "model_module_version": "1.4.0",
      "model_name": "HTMLModel",
      "state": {
       "layout": "IPY_MODEL_f4ec3d16f6e1452b878d8bd447458958",
       "style": "IPY_MODEL_5aefd66759cf42e39b890f449105a66d",
       "value": "100% 6/6 [00:00&lt;00:00, 55.23it/s]"
      }
     },
     "6d45bc25fbfb4676a05573521e9eb5ce": {
      "model_module": "@jupyter-widgets/controls",
      "model_module_version": "1.4.0",
      "model_name": "ProgressStyleModel",
      "state": {
       "description_width": ""
      }
     },
     "6e8a3d42a9a44a42a335bc1565160df6": {
      "model_module": "@jupyter-widgets/controls",
      "model_module_version": "1.4.0",
      "model_name": "HTMLModel",
      "state": {
       "layout": "IPY_MODEL_a9c4ae6a557948368129eddefd0420eb",
       "style": "IPY_MODEL_51e2272286234831ae6ba247c44b6aa3",
       "value": "100% 4/4 [03:07&lt;00:00, 46.93s/it]"
      }
     },
     "6eab121569744635ac6c8ded8b1258a7": {
      "model_module": "@jupyter-widgets/controls",
      "model_module_version": "1.4.0",
      "model_name": "IntProgressModel",
      "state": {
       "bar_style": "success",
       "layout": "IPY_MODEL_2117f737f88749d4a2b7a55d3113ea2b",
       "max": 6,
       "style": "IPY_MODEL_c6f6f43f416f42c18d54f1b139bc3d8e",
       "value": 6
      }
     },
     "6f20815d6d3d4e238cae9df3022f20fe": {
      "model_module": "@jupyter-widgets/base",
      "model_module_version": "1.1.0",
      "model_name": "LayoutModel",
      "state": {}
     },
     "70f15fe19c6a44628c3e989f73ffb9b2": {
      "model_module": "@jupyter-widgets/controls",
      "model_module_version": "1.4.0",
      "model_name": "IntProgressModel",
      "state": {
       "bar_style": "success",
       "layout": "IPY_MODEL_baf10bda307f4f02a1524f9463d4cfd4",
       "max": 12,
       "style": "IPY_MODEL_8d3f604289e24069b6c1860b01f53f26",
       "value": 12
      }
     },
     "721e8328866f4973bbe896092879af97": {
      "model_module": "@jupyter-widgets/controls",
      "model_module_version": "1.4.0",
      "model_name": "IntProgressModel",
      "state": {
       "description": "Generate validation split candidates",
       "layout": "IPY_MODEL_8991f6fd9d00479e880052e3c8db46e6",
       "max": 50,
       "style": "IPY_MODEL_d074553ad03949028b6276975441a916",
       "value": 49
      }
     },
     "72956fa6736049ac9f797d9cd0a77c11": {
      "model_module": "@jupyter-widgets/base",
      "model_module_version": "1.1.0",
      "model_name": "LayoutModel",
      "state": {}
     },
     "72ceb8d4d0a84bb2933e476cb33833a6": {
      "model_module": "@jupyter-widgets/controls",
      "model_module_version": "1.4.0",
      "model_name": "ProgressStyleModel",
      "state": {
       "description_width": ""
      }
     },
     "73455344f6674806a8d44d23550e5648": {
      "model_module": "@jupyter-widgets/base",
      "model_module_version": "1.1.0",
      "model_name": "LayoutModel",
      "state": {}
     },
     "740fdc9747984ef2b5a2522a6eeff522": {
      "model_module": "@jupyter-widgets/base",
      "model_module_version": "1.1.0",
      "model_name": "LayoutModel",
      "state": {}
     },
     "745e874c6baf491386d233c760ceff5a": {
      "model_module": "@jupyter-widgets/base",
      "model_module_version": "1.1.0",
      "model_name": "LayoutModel",
      "state": {}
     },
     "75580daa1a2a48b4bb87c246ae7ebdc9": {
      "model_module": "@jupyter-widgets/base",
      "model_module_version": "1.1.0",
      "model_name": "LayoutModel",
      "state": {}
     },
     "76b04a71c4c849da97c296aaa760dde0": {
      "model_module": "@jupyter-widgets/controls",
      "model_module_version": "1.4.0",
      "model_name": "HTMLModel",
      "state": {
       "layout": "IPY_MODEL_442eafb530f24e6684c4a260e8e5ea67",
       "style": "IPY_MODEL_0850dff6d8f44401b13cacf94ffba991",
       "value": "8192/|/ 15% 8.19k/56.1k [00:00&lt;00:03, 13.0kB/s]"
      }
     },
     "77b76e69a56445b580c8f67078d535ed": {
      "model_module": "@jupyter-widgets/controls",
      "model_module_version": "1.4.0",
      "model_name": "ProgressStyleModel",
      "state": {
       "description_width": "initial"
      }
     },
     "78bb553ced104adba7c35a62d7f59794": {
      "model_module": "@jupyter-widgets/base",
      "model_module_version": "1.1.0",
      "model_name": "LayoutModel",
      "state": {}
     },
     "79a6cb9f9b7b4b1dbe86a9ab65a2f859": {
      "model_module": "@jupyter-widgets/controls",
      "model_module_version": "1.4.0",
      "model_name": "ProgressStyleModel",
      "state": {
       "description_width": ""
      }
     },
     "79c56d65c1ab434d8bd2b71ef47e0670": {
      "model_module": "@jupyter-widgets/controls",
      "model_module_version": "1.4.0",
      "model_name": "HTMLModel",
      "state": {
       "layout": "IPY_MODEL_c9d29ee12c8c4787816506fb7cd2a7e6",
       "style": "IPY_MODEL_afd1689785bb4a849c653ebf3ff61cee",
       "value": "100% 12/12 [00:02&lt;00:00,  5.54it/s]"
      }
     },
     "7a7c1f407e394f368f4f0118be7f6e28": {
      "model_module": "@jupyter-widgets/base",
      "model_module_version": "1.1.0",
      "model_name": "LayoutModel",
      "state": {}
     },
     "7c6804bcde6b46ffa631944089ac4b12": {
      "model_module": "@jupyter-widgets/controls",
      "model_module_version": "1.4.0",
      "model_name": "HTMLModel",
      "state": {
       "layout": "IPY_MODEL_df8ee24dd29248cc99341e6ed9277436",
       "style": "IPY_MODEL_dda2a1750d44427e8dd2c92013519768",
       "value": "100% 6/6 [00:01&lt;00:00,  5.41it/s]"
      }
     },
     "7ca4044257744754a7574d0c363eebd3": {
      "model_module": "@jupyter-widgets/controls",
      "model_module_version": "1.4.0",
      "model_name": "DescriptionStyleModel",
      "state": {
       "description_width": ""
      }
     },
     "7cbf8bbdc69d495496199e5b051105f2": {
      "model_module": "@jupyter-widgets/controls",
      "model_module_version": "1.4.0",
      "model_name": "DescriptionStyleModel",
      "state": {
       "description_width": ""
      }
     },
     "7d86395773464569915c68f8dad41536": {
      "model_module": "@jupyter-widgets/controls",
      "model_module_version": "1.4.0",
      "model_name": "HBoxModel",
      "state": {
       "children": [
        "IPY_MODEL_9aca4ad0d36d4b24988666d0c7ff92b9",
        "IPY_MODEL_79c56d65c1ab434d8bd2b71ef47e0670"
       ],
       "layout": "IPY_MODEL_64620eaa79d04a38a3f9409513f8d3d6"
      }
     },
     "7e239b5312de4771af65410f8a9e5418": {
      "model_module": "@jupyter-widgets/controls",
      "model_module_version": "1.4.0",
      "model_name": "DescriptionStyleModel",
      "state": {
       "description_width": ""
      }
     },
     "7f5118f04893444f8f197f2ad246a800": {
      "model_module": "@jupyter-widgets/controls",
      "model_module_version": "1.4.0",
      "model_name": "HBoxModel",
      "state": {
       "children": [
        "IPY_MODEL_47ea06aad8c848ed85b85f36b4ac742c",
        "IPY_MODEL_b365d596ec774ce89a739cfed3097dd3"
       ],
       "layout": "IPY_MODEL_185966f0c0b4402f888d2c08261c2343"
      }
     },
     "7fad6a67e25c4956bba60e8399175b9c": {
      "model_module": "@jupyter-widgets/controls",
      "model_module_version": "1.4.0",
      "model_name": "DescriptionStyleModel",
      "state": {
       "description_width": ""
      }
     },
     "80ad2ade886a4b99a78735a973a4f2ce": {
      "model_module": "@jupyter-widgets/controls",
      "model_module_version": "1.4.0",
      "model_name": "HTMLModel",
      "state": {
       "layout": "IPY_MODEL_7a7c1f407e394f368f4f0118be7f6e28",
       "style": "IPY_MODEL_391fbc8637ba48d993b6585a56bc7c85",
       "value": "100% 12/12 [00:00&lt;00:00, 45.21it/s]"
      }
     },
     "82411d86bb2f433f9e78638cfc066ab0": {
      "model_module": "@jupyter-widgets/base",
      "model_module_version": "1.1.0",
      "model_name": "LayoutModel",
      "state": {}
     },
     "8275e27e10f94f2d9869301d499d9a9f": {
      "model_module": "@jupyter-widgets/base",
      "model_module_version": "1.1.0",
      "model_name": "LayoutModel",
      "state": {}
     },
     "82c30831f95740f1856ef0d45b2e0abe": {
      "model_module": "@jupyter-widgets/controls",
      "model_module_version": "1.4.0",
      "model_name": "ProgressStyleModel",
      "state": {
       "description_width": ""
      }
     },
     "85719766648a43168a6ba29ae1357529": {
      "model_module": "@jupyter-widgets/controls",
      "model_module_version": "1.4.0",
      "model_name": "HTMLModel",
      "state": {
       "layout": "IPY_MODEL_b4481ec63c5e48779c2dfc4f7923bbf2",
       "style": "IPY_MODEL_a8b96e3df2d8435f8f5c7e3501be7b05",
       "value": "100% 6/6 [00:04&lt;00:00,  1.21it/s]"
      }
     },
     "85898996d88446a88ec1b08cd895f570": {
      "model_module": "@jupyter-widgets/base",
      "model_module_version": "1.1.0",
      "model_name": "LayoutModel",
      "state": {}
     },
     "86b4a98cee0a4abf8fdd885769462532": {
      "model_module": "@jupyter-widgets/base",
      "model_module_version": "1.1.0",
      "model_name": "LayoutModel",
      "state": {}
     },
     "8839c55a41e043cd9a59c72c2811bb8c": {
      "model_module": "@jupyter-widgets/controls",
      "model_module_version": "1.4.0",
      "model_name": "HTMLModel",
      "state": {
       "layout": "IPY_MODEL_68166588f4b5400ebbcaf0b317908fa4",
       "style": "IPY_MODEL_be8404084bb64012b9bf4e4b2c10f28d",
       "value": "100% 12/12 [00:00&lt;00:00, 44.04it/s]"
      }
     },
     "891a7adf5f134d0bbd821e08ed5adc6f": {
      "model_module": "@jupyter-widgets/base",
      "model_module_version": "1.1.0",
      "model_name": "LayoutModel",
      "state": {}
     },
     "8991f6fd9d00479e880052e3c8db46e6": {
      "model_module": "@jupyter-widgets/base",
      "model_module_version": "1.1.0",
      "model_name": "LayoutModel",
      "state": {}
     },
     "899b549ecb274e47b7604b028afc07e1": {
      "model_module": "@jupyter-widgets/base",
      "model_module_version": "1.1.0",
      "model_name": "LayoutModel",
      "state": {}
     },
     "8a4a23dfe5a34b56ad0fac3f1778d91f": {
      "model_module": "@jupyter-widgets/controls",
      "model_module_version": "1.4.0",
      "model_name": "HBoxModel",
      "state": {
       "children": [
        "IPY_MODEL_f424a4dc6dcc4b03b9b862c3820cb1d1",
        "IPY_MODEL_85719766648a43168a6ba29ae1357529"
       ],
       "layout": "IPY_MODEL_ab34d09bbecd46518e2bd2033041776a"
      }
     },
     "8b874030a09d4644ad1c7b6cbb561968": {
      "model_module": "@jupyter-widgets/controls",
      "model_module_version": "1.4.0",
      "model_name": "ProgressStyleModel",
      "state": {
       "description_width": ""
      }
     },
     "8c075a70dad34481a54e3752ba2830ee": {
      "model_module": "@jupyter-widgets/controls",
      "model_module_version": "1.4.0",
      "model_name": "ProgressStyleModel",
      "state": {
       "description_width": "initial"
      }
     },
     "8c25e0387fed44cc9c29b52f75bb0629": {
      "model_module": "@jupyter-widgets/controls",
      "model_module_version": "1.4.0",
      "model_name": "DescriptionStyleModel",
      "state": {
       "description_width": ""
      }
     },
     "8c3056610eec4f42828f3252b22d4208": {
      "model_module": "@jupyter-widgets/base",
      "model_module_version": "1.1.0",
      "model_name": "LayoutModel",
      "state": {}
     },
     "8d3f604289e24069b6c1860b01f53f26": {
      "model_module": "@jupyter-widgets/controls",
      "model_module_version": "1.4.0",
      "model_name": "ProgressStyleModel",
      "state": {
       "description_width": ""
      }
     },
     "8dc58239dba54e9b8e85ba6dc3cc5d0d": {
      "model_module": "@jupyter-widgets/base",
      "model_module_version": "1.1.0",
      "model_name": "LayoutModel",
      "state": {}
     },
     "8edf6798799b428888a23cca65cf923a": {
      "model_module": "@jupyter-widgets/controls",
      "model_module_version": "1.4.0",
      "model_name": "ProgressStyleModel",
      "state": {
       "description_width": ""
      }
     },
     "925fda3fb09e425f983beaa79b96d522": {
      "model_module": "@jupyter-widgets/base",
      "model_module_version": "1.1.0",
      "model_name": "LayoutModel",
      "state": {}
     },
     "92e77663b80341349bcd18637add93da": {
      "model_module": "@jupyter-widgets/controls",
      "model_module_version": "1.4.0",
      "model_name": "IntProgressModel",
      "state": {
       "description": "Download packages        ",
       "layout": "IPY_MODEL_34dbee91ac104d2f924811034230034a",
       "max": 4,
       "style": "IPY_MODEL_2ad76df0ef0d4dafbd17bd20bab66364",
       "value": 4
      }
     },
     "92ed9b68d44a4dfda7b0f8ddb5527297": {
      "model_module": "@jupyter-widgets/controls",
      "model_module_version": "1.4.0",
      "model_name": "DescriptionStyleModel",
      "state": {
       "description_width": ""
      }
     },
     "930279d4848e4d88a68df0329ffa93c4": {
      "model_module": "@jupyter-widgets/controls",
      "model_module_version": "1.4.0",
      "model_name": "HTMLModel",
      "state": {
       "layout": "IPY_MODEL_1bcb82cda59f46e2aaae5c0683ed9e92",
       "style": "IPY_MODEL_155147ebeba148f4955ca91d6463ce76",
       "value": "100% 6/6 [00:00&lt;00:00, 46.29it/s]"
      }
     },
     "9375369e1cef4198bf220d0103412ebf": {
      "model_module": "@jupyter-widgets/controls",
      "model_module_version": "1.4.0",
      "model_name": "ProgressStyleModel",
      "state": {
       "description_width": ""
      }
     },
     "937da4374ceb489e9c8b9f3e9c037ad3": {
      "model_module": "@jupyter-widgets/base",
      "model_module_version": "1.1.0",
      "model_name": "LayoutModel",
      "state": {}
     },
     "9604c3b0f4e34f36b3da2227339bd233": {
      "model_module": "@jupyter-widgets/controls",
      "model_module_version": "1.4.0",
      "model_name": "DescriptionStyleModel",
      "state": {
       "description_width": ""
      }
     },
     "96614f16b44e465984e4512b0e45bf13": {
      "model_module": "@jupyter-widgets/controls",
      "model_module_version": "1.4.0",
      "model_name": "HBoxModel",
      "state": {
       "children": [
        "IPY_MODEL_21b7246854284e04ba12eb3eafd6543d",
        "IPY_MODEL_d1df3925b8a14d38977e11db95d86be8"
       ],
       "layout": "IPY_MODEL_6f20815d6d3d4e238cae9df3022f20fe"
      }
     },
     "970a177b8c524e5eb0d74b768e58b34e": {
      "model_module": "@jupyter-widgets/base",
      "model_module_version": "1.1.0",
      "model_name": "LayoutModel",
      "state": {}
     },
     "97242466980d4c69bcb9fba7374bb83d": {
      "model_module": "@jupyter-widgets/controls",
      "model_module_version": "1.4.0",
      "model_name": "ProgressStyleModel",
      "state": {
       "description_width": ""
      }
     },
     "972a8808992f4db68c902fb4fb5912b8": {
      "model_module": "@jupyter-widgets/controls",
      "model_module_version": "1.4.0",
      "model_name": "DescriptionStyleModel",
      "state": {
       "description_width": ""
      }
     },
     "9785902004b147619f7f5f08e4cc1dce": {
      "model_module": "@jupyter-widgets/controls",
      "model_module_version": "1.4.0",
      "model_name": "HTMLModel",
      "state": {
       "layout": "IPY_MODEL_fed1ffb291a248b4b34dc82b72e85429",
       "style": "IPY_MODEL_be5b044e693f499f911fa7e730336349",
       "value": "100% 6/6 [00:00&lt;00:00, 40.03it/s]"
      }
     },
     "978e0c3016814780b1de5b0b9b8d3220": {
      "model_module": "@jupyter-widgets/controls",
      "model_module_version": "1.4.0",
      "model_name": "HBoxModel",
      "state": {
       "children": [
        "IPY_MODEL_c89b41a6fb704994b9898a7835e7ac3a",
        "IPY_MODEL_ce4695c4d03147c5a9f81da9164e20f7"
       ],
       "layout": "IPY_MODEL_a5e1f0a00697451da985458d28bddc39"
      }
     },
     "9815f6074be94148a67a72c36f4d25bc": {
      "model_module": "@jupyter-widgets/controls",
      "model_module_version": "1.4.0",
      "model_name": "DescriptionStyleModel",
      "state": {
       "description_width": ""
      }
     },
     "9a02bc587e8d4e9b9dbe7384a2fe1f4f": {
      "model_module": "@jupyter-widgets/base",
      "model_module_version": "1.1.0",
      "model_name": "LayoutModel",
      "state": {}
     },
     "9a9cc5d2bda946269d351172844cf6b1": {
      "model_module": "@jupyter-widgets/controls",
      "model_module_version": "1.4.0",
      "model_name": "HTMLModel",
      "state": {
       "layout": "IPY_MODEL_6436b8a1a422433082395f32456e50b0",
       "style": "IPY_MODEL_fa3224d949d74e6ab42d29fa99294052",
       "value": "100% 6/6 [00:00&lt;00:00, 41.99it/s]"
      }
     },
     "9aca4ad0d36d4b24988666d0c7ff92b9": {
      "model_module": "@jupyter-widgets/controls",
      "model_module_version": "1.4.0",
      "model_name": "IntProgressModel",
      "state": {
       "bar_style": "success",
       "layout": "IPY_MODEL_54948ec2da3f45559e7077897bdabedd",
       "max": 12,
       "style": "IPY_MODEL_9375369e1cef4198bf220d0103412ebf",
       "value": 12
      }
     },
     "9b3f7e245b794fbdacbf4948299635e8": {
      "model_module": "@jupyter-widgets/base",
      "model_module_version": "1.1.0",
      "model_name": "LayoutModel",
      "state": {}
     },
     "9ba62d608b18482b86b720fb34149d63": {
      "model_module": "@jupyter-widgets/controls",
      "model_module_version": "1.4.0",
      "model_name": "DescriptionStyleModel",
      "state": {
       "description_width": ""
      }
     },
     "9c1006496cf84f44840b7107722a13bf": {
      "model_module": "@jupyter-widgets/controls",
      "model_module_version": "1.4.0",
      "model_name": "HTMLModel",
      "state": {
       "layout": "IPY_MODEL_4ed6abb7d1d247a091ee123b5d53be41",
       "style": "IPY_MODEL_119abc87814a475184b1eb187a1d4f58",
       "value": "100% 6/6 [00:01&lt;00:00,  4.78it/s]"
      }
     },
     "9c34af67d7b94dbd8dee34ff042e4caf": {
      "model_module": "@jupyter-widgets/controls",
      "model_module_version": "1.4.0",
      "model_name": "IntProgressModel",
      "state": {
       "bar_style": "success",
       "layout": "IPY_MODEL_45c62cb77fc44cf787dfc2bc9e102bb7",
       "max": 6,
       "style": "IPY_MODEL_1c27ec610d7549199f1555e5722b4f97",
       "value": 6
      }
     },
     "9c64abd1c82d467fb3eae72b97b8f377": {
      "model_module": "@jupyter-widgets/base",
      "model_module_version": "1.1.0",
      "model_name": "LayoutModel",
      "state": {}
     },
     "9cc24ab40f9e46e0b5a829f4929c089d": {
      "model_module": "@jupyter-widgets/base",
      "model_module_version": "1.1.0",
      "model_name": "LayoutModel",
      "state": {}
     },
     "9cd461ab51284850a67a9f5c9528035b": {
      "model_module": "@jupyter-widgets/base",
      "model_module_version": "1.1.0",
      "model_name": "LayoutModel",
      "state": {}
     },
     "9dded5ce497e419aab55d2f5cfc53ffa": {
      "model_module": "@jupyter-widgets/base",
      "model_module_version": "1.1.0",
      "model_name": "LayoutModel",
      "state": {}
     },
     "9e347f69e7bd40f5a39764d93b90761a": {
      "model_module": "@jupyter-widgets/base",
      "model_module_version": "1.1.0",
      "model_name": "LayoutModel",
      "state": {}
     },
     "9e3ff37a3b604261b9e9679056e9dab9": {
      "model_module": "@jupyter-widgets/controls",
      "model_module_version": "1.4.0",
      "model_name": "HTMLModel",
      "state": {
       "layout": "IPY_MODEL_f11110d3ea414f83bd20bc166c24b19a",
       "style": "IPY_MODEL_7fad6a67e25c4956bba60e8399175b9c",
       "value": "100% 12/12 [00:00&lt;00:00, 44.33it/s]"
      }
     },
     "9e48e8a18fb5420ba84ccafeb03bd59d": {
      "model_module": "@jupyter-widgets/base",
      "model_module_version": "1.1.0",
      "model_name": "LayoutModel",
      "state": {}
     },
     "9fd905ce82ec4c08883f6f44e6573370": {
      "model_module": "@jupyter-widgets/base",
      "model_module_version": "1.1.0",
      "model_name": "LayoutModel",
      "state": {}
     },
     "a049d0628a2a440183d6171c1aa184bb": {
      "model_module": "@jupyter-widgets/controls",
      "model_module_version": "1.4.0",
      "model_name": "IntProgressModel",
      "state": {
       "bar_style": "success",
       "layout": "IPY_MODEL_10d9e03f77e44d6580f71fbbe317c314",
       "max": 12,
       "style": "IPY_MODEL_a869e01293b34bafb11a5e242eea3f97",
       "value": 12
      }
     },
     "a063c3d4d4c04679b68adfbc00fb1af5": {
      "model_module": "@jupyter-widgets/controls",
      "model_module_version": "1.4.0",
      "model_name": "IntProgressModel",
      "state": {
       "bar_style": "success",
       "layout": "IPY_MODEL_9e48e8a18fb5420ba84ccafeb03bd59d",
       "max": 12,
       "style": "IPY_MODEL_ed35f6e93d2842b8b48f9dab20fba735",
       "value": 12
      }
     },
     "a28c7e4e167b4d6885192f2781fbd1ad": {
      "model_module": "@jupyter-widgets/controls",
      "model_module_version": "1.4.0",
      "model_name": "IntProgressModel",
      "state": {
       "bar_style": "success",
       "layout": "IPY_MODEL_c1d7bff3d1ed42f89a8c6f6d146c401f",
       "max": 12,
       "style": "IPY_MODEL_1c8d8fcdaa3149fcab2d803d73f8e0bc",
       "value": 12
      }
     },
     "a2aa1f1eaa4b40e5b715c47b5af538da": {
      "model_module": "@jupyter-widgets/base",
      "model_module_version": "1.1.0",
      "model_name": "LayoutModel",
      "state": {}
     },
     "a2d86a712935454aab73ecde89ba6ead": {
      "model_module": "@jupyter-widgets/controls",
      "model_module_version": "1.4.0",
      "model_name": "IntProgressModel",
      "state": {
       "bar_style": "success",
       "layout": "IPY_MODEL_b4c63772167a4bbeaeb9e55d629be241",
       "max": 6,
       "style": "IPY_MODEL_72ceb8d4d0a84bb2933e476cb33833a6",
       "value": 6
      }
     },
     "a33d4daddf8449adae60f70b3c5f895f": {
      "model_module": "@jupyter-widgets/controls",
      "model_module_version": "1.4.0",
      "model_name": "DescriptionStyleModel",
      "state": {
       "description_width": ""
      }
     },
     "a3bfcd56b743401d9bf4a27c6111da5d": {
      "model_module": "@jupyter-widgets/base",
      "model_module_version": "1.1.0",
      "model_name": "LayoutModel",
      "state": {}
     },
     "a40ced0cafef41929bd9b440478d4bc5": {
      "model_module": "@jupyter-widgets/controls",
      "model_module_version": "1.4.0",
      "model_name": "IntProgressModel",
      "state": {
       "description": "              street_fold2_test.txt",
       "layout": "IPY_MODEL_3976293b3631447c9ab7a1dd8f688e59",
       "max": 82,
       "style": "IPY_MODEL_1d1cb2ca575e476e9edf93023a568635",
       "value": 60
      }
     },
     "a41bca87b0d54497a881e20ca369cdd0": {
      "model_module": "@jupyter-widgets/controls",
      "model_module_version": "1.4.0",
      "model_name": "HBoxModel",
      "state": {
       "children": [
        "IPY_MODEL_6b12ed7a190448418f9064495241c619",
        "IPY_MODEL_8839c55a41e043cd9a59c72c2811bb8c"
       ],
       "layout": "IPY_MODEL_75580daa1a2a48b4bb87c246ae7ebdc9"
      }
     },
     "a52afa713712407490bfd3fd3965cccd": {
      "model_module": "@jupyter-widgets/controls",
      "model_module_version": "1.4.0",
      "model_name": "HTMLModel",
      "state": {
       "layout": "IPY_MODEL_42bd3ff2aa2145849644949f8aa80d8a",
       "style": "IPY_MODEL_92ed9b68d44a4dfda7b0f8ddb5527297",
       "value": "100% 12/12 [00:02&lt;00:00,  5.65it/s]"
      }
     },
     "a54e55279b8f4c5aaa44bf7dbf8ad105": {
      "model_module": "@jupyter-widgets/base",
      "model_module_version": "1.1.0",
      "model_name": "LayoutModel",
      "state": {}
     },
     "a5e1f0a00697451da985458d28bddc39": {
      "model_module": "@jupyter-widgets/base",
      "model_module_version": "1.1.0",
      "model_name": "LayoutModel",
      "state": {}
     },
     "a869e01293b34bafb11a5e242eea3f97": {
      "model_module": "@jupyter-widgets/controls",
      "model_module_version": "1.4.0",
      "model_name": "ProgressStyleModel",
      "state": {
       "description_width": ""
      }
     },
     "a8b96e3df2d8435f8f5c7e3501be7b05": {
      "model_module": "@jupyter-widgets/controls",
      "model_module_version": "1.4.0",
      "model_name": "DescriptionStyleModel",
      "state": {
       "description_width": ""
      }
     },
     "a9c4ae6a557948368129eddefd0420eb": {
      "model_module": "@jupyter-widgets/base",
      "model_module_version": "1.1.0",
      "model_name": "LayoutModel",
      "state": {}
     },
     "ab34d09bbecd46518e2bd2033041776a": {
      "model_module": "@jupyter-widgets/base",
      "model_module_version": "1.1.0",
      "model_name": "LayoutModel",
      "state": {}
     },
     "af9bfa7a95e1415593cad4d54e16e612": {
      "model_module": "@jupyter-widgets/controls",
      "model_module_version": "1.4.0",
      "model_name": "HTMLModel",
      "state": {
       "layout": "IPY_MODEL_b86650b4f8d34163ab5b574e63da25d9",
       "style": "IPY_MODEL_e1e5e10ef4294e6da05cde5fff864099",
       "value": "100% 12/12 [00:16&lt;00:00,  1.40s/it]"
      }
     },
     "afd1689785bb4a849c653ebf3ff61cee": {
      "model_module": "@jupyter-widgets/controls",
      "model_module_version": "1.4.0",
      "model_name": "DescriptionStyleModel",
      "state": {
       "description_width": ""
      }
     },
     "afdcc3b333a7496db7e2d93b402582c2": {
      "model_module": "@jupyter-widgets/base",
      "model_module_version": "1.1.0",
      "model_name": "LayoutModel",
      "state": {}
     },
     "b1e42a94423d41cd917782dff6e1ff41": {
      "model_module": "@jupyter-widgets/controls",
      "model_module_version": "1.4.0",
      "model_name": "DescriptionStyleModel",
      "state": {
       "description_width": ""
      }
     },
     "b1fffe3bbc2f4c7fb72ec53ec7efde7f": {
      "model_module": "@jupyter-widgets/controls",
      "model_module_version": "1.4.0",
      "model_name": "HTMLModel",
      "state": {
       "layout": "IPY_MODEL_9dded5ce497e419aab55d2f5cfc53ffa",
       "style": "IPY_MODEL_63847c4256bc4e41a857225cdc4575fe",
       "value": "100% 12/12 [00:02&lt;00:00,  5.66it/s]"
      }
     },
     "b30f24d22c05489183b5551093070697": {
      "model_module": "@jupyter-widgets/base",
      "model_module_version": "1.1.0",
      "model_name": "LayoutModel",
      "state": {}
     },
     "b365d596ec774ce89a739cfed3097dd3": {
      "model_module": "@jupyter-widgets/controls",
      "model_module_version": "1.4.0",
      "model_name": "HTMLModel",
      "state": {
       "layout": "IPY_MODEL_68ec67db4330465f80f92ec2735f2edc",
       "style": "IPY_MODEL_9604c3b0f4e34f36b3da2227339bd233",
       "value": "100% 6/6 [00:00&lt;00:00, 42.02it/s]"
      }
     },
     "b4481ec63c5e48779c2dfc4f7923bbf2": {
      "model_module": "@jupyter-widgets/base",
      "model_module_version": "1.1.0",
      "model_name": "LayoutModel",
      "state": {}
     },
     "b4c63772167a4bbeaeb9e55d629be241": {
      "model_module": "@jupyter-widgets/base",
      "model_module_version": "1.1.0",
      "model_name": "LayoutModel",
      "state": {}
     },
     "b6166e2dd84f4ef89c91c3f190ab2ee7": {
      "model_module": "@jupyter-widgets/base",
      "model_module_version": "1.1.0",
      "model_name": "LayoutModel",
      "state": {}
     },
     "b648248b751340a1aaff0751678253e1": {
      "model_module": "@jupyter-widgets/base",
      "model_module_version": "1.1.0",
      "model_name": "LayoutModel",
      "state": {}
     },
     "b82a147c3b9d430aa7730ab9dd95a2ad": {
      "model_module": "@jupyter-widgets/controls",
      "model_module_version": "1.4.0",
      "model_name": "HTMLModel",
      "state": {
       "layout": "IPY_MODEL_517717f52ec446b6b256969514514128",
       "style": "IPY_MODEL_f87e7b3d2974410bbae1414ff8a45e8e",
       "value": "100% 6/6 [00:01&lt;00:00,  5.66it/s]"
      }
     },
     "b86650b4f8d34163ab5b574e63da25d9": {
      "model_module": "@jupyter-widgets/base",
      "model_module_version": "1.1.0",
      "model_name": "LayoutModel",
      "state": {}
     },
     "b934266fffc24419839efd5aa38fdba5": {
      "model_module": "@jupyter-widgets/base",
      "model_module_version": "1.1.0",
      "model_name": "LayoutModel",
      "state": {}
     },
     "ba36e5e71bab47559ba4648dc4571242": {
      "model_module": "@jupyter-widgets/base",
      "model_module_version": "1.1.0",
      "model_name": "LayoutModel",
      "state": {}
     },
     "bab0f231c6574406b3696466c4f8b714": {
      "model_module": "@jupyter-widgets/controls",
      "model_module_version": "1.4.0",
      "model_name": "HBoxModel",
      "state": {
       "children": [
        "IPY_MODEL_d347100d034540bf8e8725fb99231845",
        "IPY_MODEL_088306627af54c51af8d631a0bec9c78"
       ],
       "layout": "IPY_MODEL_970a177b8c524e5eb0d74b768e58b34e"
      }
     },
     "baf10bda307f4f02a1524f9463d4cfd4": {
      "model_module": "@jupyter-widgets/base",
      "model_module_version": "1.1.0",
      "model_name": "LayoutModel",
      "state": {}
     },
     "bb3e4ac41f14400e9c02712e45d20834": {
      "model_module": "@jupyter-widgets/controls",
      "model_module_version": "1.4.0",
      "model_name": "HBoxModel",
      "state": {
       "children": [
        "IPY_MODEL_6eab121569744635ac6c8ded8b1258a7",
        "IPY_MODEL_160374a2382b4b0c8384f3c9c6cc2a5f"
       ],
       "layout": "IPY_MODEL_df6a7b484e644a4e881c70a3e5248b70"
      }
     },
     "be108eb0467c4e879982742ae9c6f2b3": {
      "model_module": "@jupyter-widgets/base",
      "model_module_version": "1.1.0",
      "model_name": "LayoutModel",
      "state": {}
     },
     "be5b044e693f499f911fa7e730336349": {
      "model_module": "@jupyter-widgets/controls",
      "model_module_version": "1.4.0",
      "model_name": "DescriptionStyleModel",
      "state": {
       "description_width": ""
      }
     },
     "be5cbb33c0744c1598804ca5520062d7": {
      "model_module": "@jupyter-widgets/controls",
      "model_module_version": "1.4.0",
      "model_name": "IntProgressModel",
      "state": {
       "description": "Generate validation split candidates",
       "layout": "IPY_MODEL_5b187ca8f4fe4e7997098ccdee694849",
       "max": 50,
       "style": "IPY_MODEL_133f81a2cf83499c87eb6f4f24c35e95",
       "value": 49
      }
     },
     "be8404084bb64012b9bf4e4b2c10f28d": {
      "model_module": "@jupyter-widgets/controls",
      "model_module_version": "1.4.0",
      "model_name": "DescriptionStyleModel",
      "state": {
       "description_width": ""
      }
     },
     "bf0dff8cc73f458084dd9f1a5d39c7c2": {
      "model_module": "@jupyter-widgets/controls",
      "model_module_version": "1.4.0",
      "model_name": "ProgressStyleModel",
      "state": {
       "description_width": ""
      }
     },
     "bf70c1494ae84387872d1e3835e55d4f": {
      "model_module": "@jupyter-widgets/base",
      "model_module_version": "1.1.0",
      "model_name": "LayoutModel",
      "state": {}
     },
     "c06bafa91e4d4306a4a2d7c45d940b0d": {
      "model_module": "@jupyter-widgets/controls",
      "model_module_version": "1.4.0",
      "model_name": "HBoxModel",
      "state": {
       "children": [
        "IPY_MODEL_21bb506f600b412a8bb1b99278f00eb6",
        "IPY_MODEL_9a9cc5d2bda946269d351172844cf6b1"
       ],
       "layout": "IPY_MODEL_b648248b751340a1aaff0751678253e1"
      }
     },
     "c1883ecdc7c744b5a388042278863ae4": {
      "model_module": "@jupyter-widgets/controls",
      "model_module_version": "1.4.0",
      "model_name": "HTMLModel",
      "state": {
       "layout": "IPY_MODEL_5acecc2d712046e7b32929f0708023b7",
       "style": "IPY_MODEL_cee4c2bd316a48d7bce444ac03832544",
       "value": "100% 6/6 [00:08&lt;00:00,  1.44s/it]"
      }
     },
     "c1d7bff3d1ed42f89a8c6f6d146c401f": {
      "model_module": "@jupyter-widgets/base",
      "model_module_version": "1.1.0",
      "model_name": "LayoutModel",
      "state": {}
     },
     "c1f19584320f4fbc86cf9a2d03fb3847": {
      "model_module": "@jupyter-widgets/controls",
      "model_module_version": "1.4.0",
      "model_name": "ProgressStyleModel",
      "state": {
       "description_width": ""
      }
     },
     "c5ded6a3e62b47e4a378130b22a38e47": {
      "model_module": "@jupyter-widgets/controls",
      "model_module_version": "1.4.0",
      "model_name": "HTMLModel",
      "state": {
       "layout": "IPY_MODEL_48e35a0e24da4016ab9036826cd7d345",
       "style": "IPY_MODEL_9ba62d608b18482b86b720fb34149d63",
       "value": "8192/|/  6% 8.19k/141k [00:00&lt;00:12, 10.7kB/s]"
      }
     },
     "c6f6f43f416f42c18d54f1b139bc3d8e": {
      "model_module": "@jupyter-widgets/controls",
      "model_module_version": "1.4.0",
      "model_name": "ProgressStyleModel",
      "state": {
       "description_width": ""
      }
     },
     "c7407a8f73554144b070b3ae2e895ae2": {
      "model_module": "@jupyter-widgets/base",
      "model_module_version": "1.1.0",
      "model_name": "LayoutModel",
      "state": {}
     },
     "c7cc3ba4c13346888badd06d8e7ec990": {
      "model_module": "@jupyter-widgets/base",
      "model_module_version": "1.1.0",
      "model_name": "LayoutModel",
      "state": {}
     },
     "c86dd8df88bb4b7bbe427f9cae6b7b6b": {
      "model_module": "@jupyter-widgets/controls",
      "model_module_version": "1.4.0",
      "model_name": "ProgressStyleModel",
      "state": {
       "description_width": ""
      }
     },
     "c89b41a6fb704994b9898a7835e7ac3a": {
      "model_module": "@jupyter-widgets/controls",
      "model_module_version": "1.4.0",
      "model_name": "IntProgressModel",
      "state": {
       "bar_style": "success",
       "layout": "IPY_MODEL_afdcc3b333a7496db7e2d93b402582c2",
       "max": 6,
       "style": "IPY_MODEL_e0da1c63b6724912a7b471a14c735324",
       "value": 6
      }
     },
     "c9d29ee12c8c4787816506fb7cd2a7e6": {
      "model_module": "@jupyter-widgets/base",
      "model_module_version": "1.1.0",
      "model_name": "LayoutModel",
      "state": {}
     },
     "ca82658c9e8649eba97a80fecf976f52": {
      "model_module": "@jupyter-widgets/base",
      "model_module_version": "1.1.0",
      "model_name": "LayoutModel",
      "state": {}
     },
     "caf75925aefb41348ea007ed7d69aa5b": {
      "model_module": "@jupyter-widgets/controls",
      "model_module_version": "1.4.0",
      "model_name": "HBoxModel",
      "state": {
       "children": [
        "IPY_MODEL_0cd17fd17a7f4b5282cc4c207e1deda5",
        "IPY_MODEL_6c8c7038b57e482eab832feba2bbbe6a"
       ],
       "layout": "IPY_MODEL_dc4eb04ee53c4f0a8387ac01433193ff"
      }
     },
     "cb855c3b52014df59d6a9078b5afd9e5": {
      "model_module": "@jupyter-widgets/base",
      "model_module_version": "1.1.0",
      "model_name": "LayoutModel",
      "state": {}
     },
     "cca333ed9b074e2db158040169ece7e4": {
      "model_module": "@jupyter-widgets/controls",
      "model_module_version": "1.4.0",
      "model_name": "ProgressStyleModel",
      "state": {
       "description_width": ""
      }
     },
     "cd734ac156254c428e5ca670daf8b31c": {
      "model_module": "@jupyter-widgets/controls",
      "model_module_version": "1.4.0",
      "model_name": "HBoxModel",
      "state": {
       "children": [
        "IPY_MODEL_a049d0628a2a440183d6171c1aa184bb",
        "IPY_MODEL_b1fffe3bbc2f4c7fb72ec53ec7efde7f"
       ],
       "layout": "IPY_MODEL_c7407a8f73554144b070b3ae2e895ae2"
      }
     },
     "cdcd42c0e0f84e71a9b6ba71f8b892f9": {
      "model_module": "@jupyter-widgets/controls",
      "model_module_version": "1.4.0",
      "model_name": "HBoxModel",
      "state": {
       "children": [
        "IPY_MODEL_19426700ebfa417b84f6a4b6a68ca191",
        "IPY_MODEL_c1883ecdc7c744b5a388042278863ae4"
       ],
       "layout": "IPY_MODEL_5dff3dff8112431298dee7d3fd2fe232"
      }
     },
     "ce3480426b054519aba56a2f4faac099": {
      "model_module": "@jupyter-widgets/base",
      "model_module_version": "1.1.0",
      "model_name": "LayoutModel",
      "state": {}
     },
     "ce4695c4d03147c5a9f81da9164e20f7": {
      "model_module": "@jupyter-widgets/controls",
      "model_module_version": "1.4.0",
      "model_name": "HTMLModel",
      "state": {
       "layout": "IPY_MODEL_3be863f0043f4020a18fa3dfc6e0a0d7",
       "style": "IPY_MODEL_8c25e0387fed44cc9c29b52f75bb0629",
       "value": "100% 6/6 [00:31&lt;00:00,  5.29s/it]"
      }
     },
     "cee4c2bd316a48d7bce444ac03832544": {
      "model_module": "@jupyter-widgets/controls",
      "model_module_version": "1.4.0",
      "model_name": "DescriptionStyleModel",
      "state": {
       "description_width": ""
      }
     },
     "cf8dbb4408e5474f863b895104c8e0e1": {
      "model_module": "@jupyter-widgets/controls",
      "model_module_version": "1.4.0",
      "model_name": "DescriptionStyleModel",
      "state": {
       "description_width": ""
      }
     },
     "d074553ad03949028b6276975441a916": {
      "model_module": "@jupyter-widgets/controls",
      "model_module_version": "1.4.0",
      "model_name": "ProgressStyleModel",
      "state": {
       "description_width": ""
      }
     },
     "d1b1ed75df6844a192555c12935158bc": {
      "model_module": "@jupyter-widgets/base",
      "model_module_version": "1.1.0",
      "model_name": "LayoutModel",
      "state": {}
     },
     "d1df3925b8a14d38977e11db95d86be8": {
      "model_module": "@jupyter-widgets/controls",
      "model_module_version": "1.4.0",
      "model_name": "HTMLModel",
      "state": {
       "layout": "IPY_MODEL_4c4c9bdc64f14d759d77b770a197e5d2",
       "style": "IPY_MODEL_e007760d3e1d443191e905d4e8796b69",
       "value": "100% 6/6 [01:23&lt;00:00, 14.77s/it]"
      }
     },
     "d347100d034540bf8e8725fb99231845": {
      "model_module": "@jupyter-widgets/controls",
      "model_module_version": "1.4.0",
      "model_name": "IntProgressModel",
      "state": {
       "bar_style": "success",
       "layout": "IPY_MODEL_ca82658c9e8649eba97a80fecf976f52",
       "max": 12,
       "style": "IPY_MODEL_0f1e1b6adbbb4b558f5bc46637d886bb",
       "value": 12
      }
     },
     "d41d8f6f26f34a7f96267773a1dafe26": {
      "model_module": "@jupyter-widgets/controls",
      "model_module_version": "1.4.0",
      "model_name": "ProgressStyleModel",
      "state": {
       "description_width": "initial"
      }
     },
     "d499608ecafa4470b98fa1bef691544f": {
      "model_module": "@jupyter-widgets/controls",
      "model_module_version": "1.4.0",
      "model_name": "IntProgressModel",
      "state": {
       "description": "Generate validation split candidates",
       "layout": "IPY_MODEL_ba36e5e71bab47559ba4648dc4571242",
       "max": 50,
       "style": "IPY_MODEL_225eaad681f043348883af0cc87bb590",
       "value": 49
      }
     },
     "d4a46a5c3de54146a4a22b495379f0e3": {
      "model_module": "@jupyter-widgets/base",
      "model_module_version": "1.1.0",
      "model_name": "LayoutModel",
      "state": {}
     },
     "d5f2b1115baf4d87a331ea7cbfac4a11": {
      "model_module": "@jupyter-widgets/controls",
      "model_module_version": "1.4.0",
      "model_name": "IntProgressModel",
      "state": {
       "bar_style": "success",
       "layout": "IPY_MODEL_538ce7811aa849e696c260987c1b252c",
       "max": 6,
       "style": "IPY_MODEL_53eaa2349b2a40368633954a96da6f94",
       "value": 6
      }
     },
     "d6f9d9b80a854fef9cd21350fc610914": {
      "model_module": "@jupyter-widgets/controls",
      "model_module_version": "1.4.0",
      "model_name": "HBoxModel",
      "state": {
       "children": [
        "IPY_MODEL_d998487867604b15872d9ade4583294c",
        "IPY_MODEL_80ad2ade886a4b99a78735a973a4f2ce"
       ],
       "layout": "IPY_MODEL_5069c7ef2c2f431d9884b4f8447b9641"
      }
     },
     "d8a781f2029d4d7d982655e8dd5a860a": {
      "model_module": "@jupyter-widgets/base",
      "model_module_version": "1.1.0",
      "model_name": "LayoutModel",
      "state": {}
     },
     "d8bf923aacb24c4d9e048baf1c21aadf": {
      "model_module": "@jupyter-widgets/controls",
      "model_module_version": "1.4.0",
      "model_name": "IntProgressModel",
      "state": {
       "bar_style": "success",
       "layout": "IPY_MODEL_b6166e2dd84f4ef89c91c3f190ab2ee7",
       "max": 6,
       "style": "IPY_MODEL_f5593391e90d4e7d83293fb9d0e101c0",
       "value": 6
      }
     },
     "d95381bb100143c1a7b4c7bbe60933d5": {
      "model_module": "@jupyter-widgets/controls",
      "model_module_version": "1.4.0",
      "model_name": "ProgressStyleModel",
      "state": {
       "description_width": ""
      }
     },
     "d998487867604b15872d9ade4583294c": {
      "model_module": "@jupyter-widgets/controls",
      "model_module_version": "1.4.0",
      "model_name": "IntProgressModel",
      "state": {
       "bar_style": "success",
       "layout": "IPY_MODEL_1aabd3077d67426896473c966005cb5a",
       "max": 12,
       "style": "IPY_MODEL_5c92f8779e1b46ebbc89e17b502d36a3",
       "value": 12
      }
     },
     "d9aae2e050434347b0467e24aeac342a": {
      "model_module": "@jupyter-widgets/controls",
      "model_module_version": "1.4.0",
      "model_name": "HTMLModel",
      "state": {
       "layout": "IPY_MODEL_82411d86bb2f433f9e78638cfc066ab0",
       "style": "IPY_MODEL_cf8dbb4408e5474f863b895104c8e0e1",
       "value": "100% 50/50 [00:03&lt;00:00, 12.57it/s]"
      }
     },
     "da709d0c162349fa9f97c54b11736480": {
      "model_module": "@jupyter-widgets/controls",
      "model_module_version": "1.4.0",
      "model_name": "HTMLModel",
      "state": {
       "layout": "IPY_MODEL_1b4b33d8e0f54489b462bec1c00a1e4b",
       "style": "IPY_MODEL_dfa8fec8446342108d68e58dbbfd7e4a",
       "value": "  0% 0/4 [00:00&lt;?, ?it/s]"
      }
     },
     "db9d290cbde643af8a7a39754322a2fd": {
      "model_module": "@jupyter-widgets/base",
      "model_module_version": "1.1.0",
      "model_name": "LayoutModel",
      "state": {}
     },
     "dc4eb04ee53c4f0a8387ac01433193ff": {
      "model_module": "@jupyter-widgets/base",
      "model_module_version": "1.1.0",
      "model_name": "LayoutModel",
      "state": {}
     },
     "dda2a1750d44427e8dd2c92013519768": {
      "model_module": "@jupyter-widgets/controls",
      "model_module_version": "1.4.0",
      "model_name": "DescriptionStyleModel",
      "state": {
       "description_width": ""
      }
     },
     "dda42aa4f3344ca98f9f5ca0750049e9": {
      "model_module": "@jupyter-widgets/base",
      "model_module_version": "1.1.0",
      "model_name": "LayoutModel",
      "state": {}
     },
     "de8256f0e050479b9f91ccc79344bba9": {
      "model_module": "@jupyter-widgets/controls",
      "model_module_version": "1.4.0",
      "model_name": "ProgressStyleModel",
      "state": {
       "description_width": ""
      }
     },
     "df6a7b484e644a4e881c70a3e5248b70": {
      "model_module": "@jupyter-widgets/base",
      "model_module_version": "1.1.0",
      "model_name": "LayoutModel",
      "state": {}
     },
     "df8ee24dd29248cc99341e6ed9277436": {
      "model_module": "@jupyter-widgets/base",
      "model_module_version": "1.1.0",
      "model_name": "LayoutModel",
      "state": {}
     },
     "dfa8fec8446342108d68e58dbbfd7e4a": {
      "model_module": "@jupyter-widgets/controls",
      "model_module_version": "1.4.0",
      "model_name": "DescriptionStyleModel",
      "state": {
       "description_width": ""
      }
     },
     "dfab4388fc544bfe91df703d5df906b1": {
      "model_module": "@jupyter-widgets/controls",
      "model_module_version": "1.4.0",
      "model_name": "ProgressStyleModel",
      "state": {
       "description_width": ""
      }
     },
     "e007760d3e1d443191e905d4e8796b69": {
      "model_module": "@jupyter-widgets/controls",
      "model_module_version": "1.4.0",
      "model_name": "DescriptionStyleModel",
      "state": {
       "description_width": ""
      }
     },
     "e048039136564f2aa984cbc0be899ac9": {
      "model_module": "@jupyter-widgets/base",
      "model_module_version": "1.1.0",
      "model_name": "LayoutModel",
      "state": {}
     },
     "e0723f52bf6f4ea8bddb1a99d2e09e14": {
      "model_module": "@jupyter-widgets/base",
      "model_module_version": "1.1.0",
      "model_name": "LayoutModel",
      "state": {}
     },
     "e0da1c63b6724912a7b471a14c735324": {
      "model_module": "@jupyter-widgets/controls",
      "model_module_version": "1.4.0",
      "model_name": "ProgressStyleModel",
      "state": {
       "description_width": ""
      }
     },
     "e1db6e60c86d4b0ba872c8c4e7958cab": {
      "model_module": "@jupyter-widgets/controls",
      "model_module_version": "1.4.0",
      "model_name": "IntProgressModel",
      "state": {
       "bar_style": "success",
       "layout": "IPY_MODEL_ee6a15752c1146099f332e5afcc5de11",
       "max": 12,
       "style": "IPY_MODEL_8b874030a09d4644ad1c7b6cbb561968",
       "value": 12
      }
     },
     "e1e5e10ef4294e6da05cde5fff864099": {
      "model_module": "@jupyter-widgets/controls",
      "model_module_version": "1.4.0",
      "model_name": "DescriptionStyleModel",
      "state": {
       "description_width": ""
      }
     },
     "e7c97bfcbce64733904aac1150d17f18": {
      "model_module": "@jupyter-widgets/base",
      "model_module_version": "1.1.0",
      "model_name": "LayoutModel",
      "state": {}
     },
     "e88179da14b940448dbc7410b7124a2e": {
      "model_module": "@jupyter-widgets/controls",
      "model_module_version": "1.4.0",
      "model_name": "HTMLModel",
      "state": {
       "layout": "IPY_MODEL_d8a781f2029d4d7d982655e8dd5a860a",
       "style": "IPY_MODEL_43139f8e11c14f9c860461ca3e259645",
       "value": "100% 6/6 [00:01&lt;00:00,  5.67it/s]"
      }
     },
     "e8f09242fc9b43e28cc8e6bb15d7ae50": {
      "model_module": "@jupyter-widgets/base",
      "model_module_version": "1.1.0",
      "model_name": "LayoutModel",
      "state": {}
     },
     "e9ce137fe64540ff9d2d04ba3188c9b2": {
      "model_module": "@jupyter-widgets/base",
      "model_module_version": "1.1.0",
      "model_name": "LayoutModel",
      "state": {}
     },
     "ebfc8f39e3b644dea4e8366a3610b7b4": {
      "model_module": "@jupyter-widgets/controls",
      "model_module_version": "1.4.0",
      "model_name": "DescriptionStyleModel",
      "state": {
       "description_width": ""
      }
     },
     "ec0f58797a4e4bec8f61d494ef9c48d8": {
      "model_module": "@jupyter-widgets/controls",
      "model_module_version": "1.4.0",
      "model_name": "HTMLModel",
      "state": {
       "layout": "IPY_MODEL_9cd461ab51284850a67a9f5c9528035b",
       "style": "IPY_MODEL_b1e42a94423d41cd917782dff6e1ff41",
       "value": " 98% 49/50 [00:04&lt;00:00, 10.99it/s]"
      }
     },
     "ec1ba96acda8408ebdac5c0a695c81d1": {
      "model_module": "@jupyter-widgets/controls",
      "model_module_version": "1.4.0",
      "model_name": "HTMLModel",
      "state": {
       "layout": "IPY_MODEL_0f0ccf8611fd4c09886e979df8a98d42",
       "style": "IPY_MODEL_1294bb0f07be46068ad82a6d0b4b5876",
       "value": "100% 23/23 [00:12&lt;00:00,  1.90it/s]"
      }
     },
     "ec1bd257db6a4d3cbd644a96a35ff5fd": {
      "model_module": "@jupyter-widgets/base",
      "model_module_version": "1.1.0",
      "model_name": "LayoutModel",
      "state": {}
     },
     "ec54051f6b7f40e5ae4478e4b696bc41": {
      "model_module": "@jupyter-widgets/controls",
      "model_module_version": "1.4.0",
      "model_name": "HTMLModel",
      "state": {
       "layout": "IPY_MODEL_73455344f6674806a8d44d23550e5648",
       "style": "IPY_MODEL_5e527504cb584c44890bb94cfcedf20e",
       "value": " 98% 49/50 [00:04&lt;00:00, 11.12it/s]"
      }
     },
     "ed35f6e93d2842b8b48f9dab20fba735": {
      "model_module": "@jupyter-widgets/controls",
      "model_module_version": "1.4.0",
      "model_name": "ProgressStyleModel",
      "state": {
       "description_width": ""
      }
     },
     "ee6a15752c1146099f332e5afcc5de11": {
      "model_module": "@jupyter-widgets/base",
      "model_module_version": "1.1.0",
      "model_name": "LayoutModel",
      "state": {}
     },
     "ef8936d3f89f41f380d39e7cfb36f6b7": {
      "model_module": "@jupyter-widgets/base",
      "model_module_version": "1.1.0",
      "model_name": "LayoutModel",
      "state": {}
     },
     "efab53b583f840c9b846eccc6fcd501f": {
      "model_module": "@jupyter-widgets/controls",
      "model_module_version": "1.4.0",
      "model_name": "DescriptionStyleModel",
      "state": {
       "description_width": ""
      }
     },
     "f04f2ad6ee0c4e77a413582be318b761": {
      "model_module": "@jupyter-widgets/controls",
      "model_module_version": "1.4.0",
      "model_name": "HBoxModel",
      "state": {
       "children": [
        "IPY_MODEL_70f15fe19c6a44628c3e989f73ffb9b2",
        "IPY_MODEL_af9bfa7a95e1415593cad4d54e16e612"
       ],
       "layout": "IPY_MODEL_218e2aa315b2457f85547eaef863c6fa"
      }
     },
     "f11110d3ea414f83bd20bc166c24b19a": {
      "model_module": "@jupyter-widgets/base",
      "model_module_version": "1.1.0",
      "model_name": "LayoutModel",
      "state": {}
     },
     "f1dffd94df89417385383a38ee043e88": {
      "model_module": "@jupyter-widgets/base",
      "model_module_version": "1.1.0",
      "model_name": "LayoutModel",
      "state": {}
     },
     "f249e38a03f0497493d52ba23ccb1483": {
      "model_module": "@jupyter-widgets/controls",
      "model_module_version": "1.4.0",
      "model_name": "IntProgressModel",
      "state": {
       "description": "Generate validation split candidates",
       "layout": "IPY_MODEL_9e347f69e7bd40f5a39764d93b90761a",
       "max": 50,
       "style": "IPY_MODEL_dfab4388fc544bfe91df703d5df906b1",
       "value": 50
      }
     },
     "f424a4dc6dcc4b03b9b862c3820cb1d1": {
      "model_module": "@jupyter-widgets/controls",
      "model_module_version": "1.4.0",
      "model_name": "IntProgressModel",
      "state": {
       "bar_style": "success",
       "layout": "IPY_MODEL_12c398bc4f8541c5847c4a6abd4c8345",
       "max": 6,
       "style": "IPY_MODEL_34b09a8dfca849b1a85b6a94f471db8a",
       "value": 6
      }
     },
     "f4ec3d16f6e1452b878d8bd447458958": {
      "model_module": "@jupyter-widgets/base",
      "model_module_version": "1.1.0",
      "model_name": "LayoutModel",
      "state": {}
     },
     "f504535c442641e5bf5d73af2e0c23e9": {
      "model_module": "@jupyter-widgets/controls",
      "model_module_version": "1.4.0",
      "model_name": "ProgressStyleModel",
      "state": {
       "description_width": ""
      }
     },
     "f5593391e90d4e7d83293fb9d0e101c0": {
      "model_module": "@jupyter-widgets/controls",
      "model_module_version": "1.4.0",
      "model_name": "ProgressStyleModel",
      "state": {
       "description_width": ""
      }
     },
     "f5e1806c91c4417f8558e2776124d1c8": {
      "model_module": "@jupyter-widgets/controls",
      "model_module_version": "1.4.0",
      "model_name": "IntProgressModel",
      "state": {
       "bar_style": "success",
       "layout": "IPY_MODEL_0be7f7dd8a99497bb073aea2412f0206",
       "max": 6,
       "style": "IPY_MODEL_cca333ed9b074e2db158040169ece7e4",
       "value": 6
      }
     },
     "f5ea5df4bc7d40eb8e7a8aed286ba8bb": {
      "model_module": "@jupyter-widgets/controls",
      "model_module_version": "1.4.0",
      "model_name": "IntProgressModel",
      "state": {
       "bar_style": "info",
       "description": "TUT-sound-events-2017-development.doc",
       "layout": "IPY_MODEL_78bb553ced104adba7c35a62d7f59794",
       "max": 1,
       "style": "IPY_MODEL_8edf6798799b428888a23cca65cf923a",
       "value": 1
      }
     },
     "f6ecae7f066b46509b031a0341b8e8a1": {
      "model_module": "@jupyter-widgets/controls",
      "model_module_version": "1.4.0",
      "model_name": "HTMLModel",
      "state": {
       "layout": "IPY_MODEL_937da4374ceb489e9c8b9f3e9c037ad3",
       "style": "IPY_MODEL_69e86a10dace4852ae67e255dd07ac8a",
       "value": "100% 50/50 [00:04&lt;00:00, 11.03it/s]"
      }
     },
     "f72cc766ca284e43b9101c1160acd5fc": {
      "model_module": "@jupyter-widgets/controls",
      "model_module_version": "1.4.0",
      "model_name": "HBoxModel",
      "state": {
       "children": [
        "IPY_MODEL_9c34af67d7b94dbd8dee34ff042e4caf",
        "IPY_MODEL_7c6804bcde6b46ffa631944089ac4b12"
       ],
       "layout": "IPY_MODEL_e048039136564f2aa984cbc0be899ac9"
      }
     },
     "f75b7bcaa5ff48cda7d645d0ea870f78": {
      "model_module": "@jupyter-widgets/base",
      "model_module_version": "1.1.0",
      "model_name": "LayoutModel",
      "state": {}
     },
     "f87e7b3d2974410bbae1414ff8a45e8e": {
      "model_module": "@jupyter-widgets/controls",
      "model_module_version": "1.4.0",
      "model_name": "DescriptionStyleModel",
      "state": {
       "description_width": ""
      }
     },
     "f8b5e9083fa04a76938da0eee8a129f2": {
      "model_module": "@jupyter-widgets/controls",
      "model_module_version": "1.4.0",
      "model_name": "DescriptionStyleModel",
      "state": {
       "description_width": ""
      }
     },
     "f8f9baf7abb04f21b571d3647f1b93f1": {
      "model_module": "@jupyter-widgets/base",
      "model_module_version": "1.1.0",
      "model_name": "LayoutModel",
      "state": {}
     },
     "f9f2954767514ef19baf685cc59f7fec": {
      "model_module": "@jupyter-widgets/controls",
      "model_module_version": "1.4.0",
      "model_name": "HBoxModel",
      "state": {
       "children": [
        "IPY_MODEL_6ace4c8ce4584205a93e74d73abe4702",
        "IPY_MODEL_9c1006496cf84f44840b7107722a13bf"
       ],
       "layout": "IPY_MODEL_61a01d99c22f402e9b7ad54de31da2a2"
      }
     },
     "fa3224d949d74e6ab42d29fa99294052": {
      "model_module": "@jupyter-widgets/controls",
      "model_module_version": "1.4.0",
      "model_name": "DescriptionStyleModel",
      "state": {
       "description_width": ""
      }
     },
     "fa45d278a00546f89d4bba6e8811a596": {
      "model_module": "@jupyter-widgets/base",
      "model_module_version": "1.1.0",
      "model_name": "LayoutModel",
      "state": {}
     },
     "fc9e1581cf434788b85e84c152bf9e83": {
      "model_module": "@jupyter-widgets/controls",
      "model_module_version": "1.4.0",
      "model_name": "HBoxModel",
      "state": {
       "children": [
        "IPY_MODEL_e1db6e60c86d4b0ba872c8c4e7958cab",
        "IPY_MODEL_69b0a74632094bc49c13638bc970561e"
       ],
       "layout": "IPY_MODEL_090bc6ae53b74c0c819b188e2ebd3784"
      }
     },
     "fcbe9b77638f4b4fb28320ba210a260a": {
      "model_module": "@jupyter-widgets/controls",
      "model_module_version": "1.4.0",
      "model_name": "HTMLModel",
      "state": {
       "layout": "IPY_MODEL_69dd08a02adb454cabb3a645d940b571",
       "style": "IPY_MODEL_0e1ae9a6d3d3412a86cd7013f354dfb3",
       "value": "100% 6/6 [01:44&lt;00:00, 17.70s/it]"
      }
     },
     "fd94106b288f4fdc924d6b4b82fb2fe7": {
      "model_module": "@jupyter-widgets/base",
      "model_module_version": "1.1.0",
      "model_name": "LayoutModel",
      "state": {}
     },
     "fe6843c23f534992b75a5436feac5a94": {
      "model_module": "@jupyter-widgets/controls",
      "model_module_version": "1.4.0",
      "model_name": "IntProgressModel",
      "state": {
       "bar_style": "info",
       "description": "TUT-sound-events-2017-development.audio.1",
       "layout": "IPY_MODEL_60c26c14b40d45d6af5449641bee7655",
       "max": 1,
       "style": "IPY_MODEL_51dd12438dab4fa8a03bcab23c4c1e41",
       "value": 1
      }
     },
     "fed1ffb291a248b4b34dc82b72e85429": {
      "model_module": "@jupyter-widgets/base",
      "model_module_version": "1.1.0",
      "model_name": "LayoutModel",
      "state": {}
     }
    },
    "version_major": 2,
    "version_minor": 0
   }
  }
 },
 "nbformat": 4,
 "nbformat_minor": 2
}
